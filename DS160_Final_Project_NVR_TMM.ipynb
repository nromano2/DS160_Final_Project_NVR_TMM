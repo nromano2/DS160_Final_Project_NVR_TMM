{
 "cells": [
  {
   "cell_type": "markdown",
   "id": "e383dd65-def1-4c8b-ac40-37f293bb291c",
   "metadata": {},
   "source": [
    "## Final Project\n",
    "**Authors:** Nick Romano and Trevor McCormick   \n",
    "**Version 1.14**   \n",
    "**DS160-01: Introduction to Data Science**   \n",
    "\n",
    "\n",
    "---"
   ]
  },
  {
   "cell_type": "markdown",
   "id": "4e06dbc4-dfdf-4a41-afee-698f5197a583",
   "metadata": {},
   "source": [
    "The datasets used in this notebook come from the Dodgers Loop Sensor Data Set from the UCI Machine Learning Repository.\n",
    "\n",
    "**Citation:**    \n",
    "Hutchins, J (2006). Dodgers Loop Sensor Data Set [Data set]. UCI Machine Learning Repository. Retrieved April 19, 2022, from https://archive.ics.uci.edu/ml/datasets/dodgers+loop+sensor\n",
    "\n",
    "Our goal is to be able to predict the occurence of Dodgers baseball games given the traffic measured by sensor data collected on the Glendale on ramp to 101 North Freeway, which is nearby Dodger Stadium to see increasing traffic after a Dodgers game.\n",
    "\n",
    "---"
   ]
  },
  {
   "cell_type": "code",
   "execution_count": 1,
   "id": "7dcc2510-7bce-426c-b26e-7e1eae090edd",
   "metadata": {},
   "outputs": [],
   "source": [
    "import pandas as pd\n",
    "import numpy as np\n",
    "import seaborn as sns\n",
    "import matplotlib.pyplot as plt\n",
    "%matplotlib inline\n",
    "\n",
    "from sklearn.utils import resample\n",
    "#from sklearn.preprocessing import OneHotEncoder\n",
    "\n",
    "from sklearn.model_selection import train_test_split \n",
    "from sklearn.metrics import accuracy_score, confusion_matrix, classification_report\n",
    "\n",
    "from sklearn.neighbors import KNeighborsClassifier\n",
    "from sklearn.ensemble import RandomForestClassifier"
   ]
  },
  {
   "cell_type": "markdown",
   "id": "4ef3f0b2-77d0-4890-a459-320b1da2fc4c",
   "metadata": {},
   "source": [
    "#### Reading in Data"
   ]
  },
  {
   "cell_type": "code",
   "execution_count": 2,
   "id": "215f1f61-81da-4786-9f4c-46e45df1fe36",
   "metadata": {},
   "outputs": [],
   "source": [
    "df_traffic = pd.read_csv(\"Dodgers.data\", header = None)\n",
    "df_games = pd.read_csv(\"Dodgers.events\", header = None)"
   ]
  },
  {
   "cell_type": "code",
   "execution_count": 3,
   "id": "be8b3d22-bc4f-4f3a-b355-ace418213e58",
   "metadata": {},
   "outputs": [
    {
     "data": {
      "text/html": [
       "<div>\n",
       "<style scoped>\n",
       "    .dataframe tbody tr th:only-of-type {\n",
       "        vertical-align: middle;\n",
       "    }\n",
       "\n",
       "    .dataframe tbody tr th {\n",
       "        vertical-align: top;\n",
       "    }\n",
       "\n",
       "    .dataframe thead th {\n",
       "        text-align: right;\n",
       "    }\n",
       "</style>\n",
       "<table border=\"1\" class=\"dataframe\">\n",
       "  <thead>\n",
       "    <tr style=\"text-align: right;\">\n",
       "      <th></th>\n",
       "      <th>0</th>\n",
       "      <th>1</th>\n",
       "    </tr>\n",
       "  </thead>\n",
       "  <tbody>\n",
       "    <tr>\n",
       "      <th>0</th>\n",
       "      <td>4/10/2005 0:00</td>\n",
       "      <td>-1</td>\n",
       "    </tr>\n",
       "    <tr>\n",
       "      <th>1</th>\n",
       "      <td>4/10/2005 0:05</td>\n",
       "      <td>-1</td>\n",
       "    </tr>\n",
       "    <tr>\n",
       "      <th>2</th>\n",
       "      <td>4/10/2005 0:10</td>\n",
       "      <td>-1</td>\n",
       "    </tr>\n",
       "    <tr>\n",
       "      <th>3</th>\n",
       "      <td>4/10/2005 0:15</td>\n",
       "      <td>-1</td>\n",
       "    </tr>\n",
       "    <tr>\n",
       "      <th>4</th>\n",
       "      <td>4/10/2005 0:20</td>\n",
       "      <td>-1</td>\n",
       "    </tr>\n",
       "    <tr>\n",
       "      <th>...</th>\n",
       "      <td>...</td>\n",
       "      <td>...</td>\n",
       "    </tr>\n",
       "    <tr>\n",
       "      <th>50395</th>\n",
       "      <td>10/1/2005 23:35</td>\n",
       "      <td>-1</td>\n",
       "    </tr>\n",
       "    <tr>\n",
       "      <th>50396</th>\n",
       "      <td>10/1/2005 23:40</td>\n",
       "      <td>-1</td>\n",
       "    </tr>\n",
       "    <tr>\n",
       "      <th>50397</th>\n",
       "      <td>10/1/2005 23:45</td>\n",
       "      <td>-1</td>\n",
       "    </tr>\n",
       "    <tr>\n",
       "      <th>50398</th>\n",
       "      <td>10/1/2005 23:50</td>\n",
       "      <td>-1</td>\n",
       "    </tr>\n",
       "    <tr>\n",
       "      <th>50399</th>\n",
       "      <td>10/1/2005 23:55</td>\n",
       "      <td>-1</td>\n",
       "    </tr>\n",
       "  </tbody>\n",
       "</table>\n",
       "<p>50400 rows × 2 columns</p>\n",
       "</div>"
      ],
      "text/plain": [
       "                     0  1\n",
       "0       4/10/2005 0:00 -1\n",
       "1       4/10/2005 0:05 -1\n",
       "2       4/10/2005 0:10 -1\n",
       "3       4/10/2005 0:15 -1\n",
       "4       4/10/2005 0:20 -1\n",
       "...                ... ..\n",
       "50395  10/1/2005 23:35 -1\n",
       "50396  10/1/2005 23:40 -1\n",
       "50397  10/1/2005 23:45 -1\n",
       "50398  10/1/2005 23:50 -1\n",
       "50399  10/1/2005 23:55 -1\n",
       "\n",
       "[50400 rows x 2 columns]"
      ]
     },
     "execution_count": 3,
     "metadata": {},
     "output_type": "execute_result"
    }
   ],
   "source": [
    "df_traffic"
   ]
  },
  {
   "cell_type": "code",
   "execution_count": 4,
   "id": "84908745-293c-47c3-b248-b12f3fa12396",
   "metadata": {},
   "outputs": [
    {
     "data": {
      "text/html": [
       "<div>\n",
       "<style scoped>\n",
       "    .dataframe tbody tr th:only-of-type {\n",
       "        vertical-align: middle;\n",
       "    }\n",
       "\n",
       "    .dataframe tbody tr th {\n",
       "        vertical-align: top;\n",
       "    }\n",
       "\n",
       "    .dataframe thead th {\n",
       "        text-align: right;\n",
       "    }\n",
       "</style>\n",
       "<table border=\"1\" class=\"dataframe\">\n",
       "  <thead>\n",
       "    <tr style=\"text-align: right;\">\n",
       "      <th></th>\n",
       "      <th>0</th>\n",
       "      <th>1</th>\n",
       "      <th>2</th>\n",
       "      <th>3</th>\n",
       "      <th>4</th>\n",
       "      <th>5</th>\n",
       "    </tr>\n",
       "  </thead>\n",
       "  <tbody>\n",
       "    <tr>\n",
       "      <th>0</th>\n",
       "      <td>04/12/05</td>\n",
       "      <td>13:10:00</td>\n",
       "      <td>16:23:00</td>\n",
       "      <td>55892</td>\n",
       "      <td>San Francisco</td>\n",
       "      <td>W 9-8�</td>\n",
       "    </tr>\n",
       "    <tr>\n",
       "      <th>1</th>\n",
       "      <td>04/13/05</td>\n",
       "      <td>19:10:00</td>\n",
       "      <td>21:48:00</td>\n",
       "      <td>46514</td>\n",
       "      <td>San Francisco</td>\n",
       "      <td>W 4-1�</td>\n",
       "    </tr>\n",
       "    <tr>\n",
       "      <th>2</th>\n",
       "      <td>04/15/05</td>\n",
       "      <td>19:40:00</td>\n",
       "      <td>21:48:00</td>\n",
       "      <td>51816</td>\n",
       "      <td>San Diego</td>\n",
       "      <td>W 4-0�</td>\n",
       "    </tr>\n",
       "    <tr>\n",
       "      <th>3</th>\n",
       "      <td>04/16/05</td>\n",
       "      <td>19:10:00</td>\n",
       "      <td>21:52:00</td>\n",
       "      <td>54704</td>\n",
       "      <td>San Diego</td>\n",
       "      <td>W 8-3�</td>\n",
       "    </tr>\n",
       "    <tr>\n",
       "      <th>4</th>\n",
       "      <td>04/17/05</td>\n",
       "      <td>13:10:00</td>\n",
       "      <td>15:31:00</td>\n",
       "      <td>53402</td>\n",
       "      <td>San Diego</td>\n",
       "      <td>W 6-0�</td>\n",
       "    </tr>\n",
       "    <tr>\n",
       "      <th>...</th>\n",
       "      <td>...</td>\n",
       "      <td>...</td>\n",
       "      <td>...</td>\n",
       "      <td>...</td>\n",
       "      <td>...</td>\n",
       "      <td>...</td>\n",
       "    </tr>\n",
       "    <tr>\n",
       "      <th>76</th>\n",
       "      <td>09/25/05</td>\n",
       "      <td>13:10:00</td>\n",
       "      <td>16:06:00</td>\n",
       "      <td>37846</td>\n",
       "      <td>Pittsburgh</td>\n",
       "      <td>W 9-2�</td>\n",
       "    </tr>\n",
       "    <tr>\n",
       "      <th>77</th>\n",
       "      <td>09/26/05</td>\n",
       "      <td>19:10:00</td>\n",
       "      <td>22:27:00</td>\n",
       "      <td>36397</td>\n",
       "      <td>Pittsburgh</td>\n",
       "      <td>W 9-4�</td>\n",
       "    </tr>\n",
       "    <tr>\n",
       "      <th>78</th>\n",
       "      <td>09/27/05</td>\n",
       "      <td>19:10:00</td>\n",
       "      <td>21:33:00</td>\n",
       "      <td>42604</td>\n",
       "      <td>Arizona</td>\n",
       "      <td>L 2-0�</td>\n",
       "    </tr>\n",
       "    <tr>\n",
       "      <th>79</th>\n",
       "      <td>09/28/05</td>\n",
       "      <td>19:10:00</td>\n",
       "      <td>21:58:00</td>\n",
       "      <td>46424</td>\n",
       "      <td>Arizona</td>\n",
       "      <td>L 4-3�</td>\n",
       "    </tr>\n",
       "    <tr>\n",
       "      <th>80</th>\n",
       "      <td>09/29/05</td>\n",
       "      <td>19:10:00</td>\n",
       "      <td>22:24:00</td>\n",
       "      <td>45053</td>\n",
       "      <td>Arizona</td>\n",
       "      <td>L 3-2�</td>\n",
       "    </tr>\n",
       "  </tbody>\n",
       "</table>\n",
       "<p>81 rows × 6 columns</p>\n",
       "</div>"
      ],
      "text/plain": [
       "           0         1         2      3              4       5\n",
       "0   04/12/05  13:10:00  16:23:00  55892  San Francisco  W 9-8�\n",
       "1   04/13/05  19:10:00  21:48:00  46514  San Francisco  W 4-1�\n",
       "2   04/15/05  19:40:00  21:48:00  51816      San Diego  W 4-0�\n",
       "3   04/16/05  19:10:00  21:52:00  54704      San Diego  W 8-3�\n",
       "4   04/17/05  13:10:00  15:31:00  53402      San Diego  W 6-0�\n",
       "..       ...       ...       ...    ...            ...     ...\n",
       "76  09/25/05  13:10:00  16:06:00  37846     Pittsburgh  W 9-2�\n",
       "77  09/26/05  19:10:00  22:27:00  36397     Pittsburgh  W 9-4�\n",
       "78  09/27/05  19:10:00  21:33:00  42604        Arizona  L 2-0�\n",
       "79  09/28/05  19:10:00  21:58:00  46424        Arizona  L 4-3�\n",
       "80  09/29/05  19:10:00  22:24:00  45053        Arizona  L 3-2�\n",
       "\n",
       "[81 rows x 6 columns]"
      ]
     },
     "execution_count": 4,
     "metadata": {},
     "output_type": "execute_result"
    }
   ],
   "source": [
    "df_games"
   ]
  },
  {
   "cell_type": "code",
   "execution_count": 5,
   "id": "37b8a5a6-317a-41f1-b143-889c32926e5c",
   "metadata": {},
   "outputs": [],
   "source": [
    "df_traffic.to_csv(\"Original_Dodgers_Traffic.csv\", index=False, header=False)"
   ]
  },
  {
   "cell_type": "code",
   "execution_count": 6,
   "id": "288e5f68-4661-4179-9fe5-3aec765edc85",
   "metadata": {},
   "outputs": [],
   "source": [
    "df_games.to_csv(\"Original_Dodgers_Events.csv\", index=False, header=False)"
   ]
  },
  {
   "cell_type": "markdown",
   "id": "b8357ba7-cf4c-4296-916c-b47107d436dc",
   "metadata": {},
   "source": [
    "We ended up saving an original version of the Dodgers.data and Dodgers.events data frames as .csv files to have a version in that format"
   ]
  },
  {
   "cell_type": "markdown",
   "id": "c46b12a9-20fc-4df4-9925-921d4ea02a9d",
   "metadata": {},
   "source": [
    "---\n",
    "#### Processesing and Cleaning up the data\n"
   ]
  },
  {
   "cell_type": "markdown",
   "id": "8b5b2271-e2c9-4533-9f90-e52c3f848f94",
   "metadata": {},
   "source": [
    "**df_games cleanup**"
   ]
  },
  {
   "cell_type": "code",
   "execution_count": 7,
   "id": "2828fd05-ee85-4e38-8303-cff505d6d090",
   "metadata": {},
   "outputs": [
    {
     "data": {
      "text/html": [
       "<div>\n",
       "<style scoped>\n",
       "    .dataframe tbody tr th:only-of-type {\n",
       "        vertical-align: middle;\n",
       "    }\n",
       "\n",
       "    .dataframe tbody tr th {\n",
       "        vertical-align: top;\n",
       "    }\n",
       "\n",
       "    .dataframe thead th {\n",
       "        text-align: right;\n",
       "    }\n",
       "</style>\n",
       "<table border=\"1\" class=\"dataframe\">\n",
       "  <thead>\n",
       "    <tr style=\"text-align: right;\">\n",
       "      <th></th>\n",
       "      <th>0</th>\n",
       "      <th>1</th>\n",
       "      <th>2</th>\n",
       "      <th>3</th>\n",
       "      <th>4</th>\n",
       "      <th>5</th>\n",
       "    </tr>\n",
       "  </thead>\n",
       "  <tbody>\n",
       "    <tr>\n",
       "      <th>0</th>\n",
       "      <td>04/12/05</td>\n",
       "      <td>13:10:00</td>\n",
       "      <td>16:23:00</td>\n",
       "      <td>55892</td>\n",
       "      <td>San Francisco</td>\n",
       "      <td>W 9-8�</td>\n",
       "    </tr>\n",
       "    <tr>\n",
       "      <th>1</th>\n",
       "      <td>04/13/05</td>\n",
       "      <td>19:10:00</td>\n",
       "      <td>21:48:00</td>\n",
       "      <td>46514</td>\n",
       "      <td>San Francisco</td>\n",
       "      <td>W 4-1�</td>\n",
       "    </tr>\n",
       "    <tr>\n",
       "      <th>2</th>\n",
       "      <td>04/15/05</td>\n",
       "      <td>19:40:00</td>\n",
       "      <td>21:48:00</td>\n",
       "      <td>51816</td>\n",
       "      <td>San Diego</td>\n",
       "      <td>W 4-0�</td>\n",
       "    </tr>\n",
       "    <tr>\n",
       "      <th>3</th>\n",
       "      <td>04/16/05</td>\n",
       "      <td>19:10:00</td>\n",
       "      <td>21:52:00</td>\n",
       "      <td>54704</td>\n",
       "      <td>San Diego</td>\n",
       "      <td>W 8-3�</td>\n",
       "    </tr>\n",
       "    <tr>\n",
       "      <th>4</th>\n",
       "      <td>04/17/05</td>\n",
       "      <td>13:10:00</td>\n",
       "      <td>15:31:00</td>\n",
       "      <td>53402</td>\n",
       "      <td>San Diego</td>\n",
       "      <td>W 6-0�</td>\n",
       "    </tr>\n",
       "    <tr>\n",
       "      <th>...</th>\n",
       "      <td>...</td>\n",
       "      <td>...</td>\n",
       "      <td>...</td>\n",
       "      <td>...</td>\n",
       "      <td>...</td>\n",
       "      <td>...</td>\n",
       "    </tr>\n",
       "    <tr>\n",
       "      <th>76</th>\n",
       "      <td>09/25/05</td>\n",
       "      <td>13:10:00</td>\n",
       "      <td>16:06:00</td>\n",
       "      <td>37846</td>\n",
       "      <td>Pittsburgh</td>\n",
       "      <td>W 9-2�</td>\n",
       "    </tr>\n",
       "    <tr>\n",
       "      <th>77</th>\n",
       "      <td>09/26/05</td>\n",
       "      <td>19:10:00</td>\n",
       "      <td>22:27:00</td>\n",
       "      <td>36397</td>\n",
       "      <td>Pittsburgh</td>\n",
       "      <td>W 9-4�</td>\n",
       "    </tr>\n",
       "    <tr>\n",
       "      <th>78</th>\n",
       "      <td>09/27/05</td>\n",
       "      <td>19:10:00</td>\n",
       "      <td>21:33:00</td>\n",
       "      <td>42604</td>\n",
       "      <td>Arizona</td>\n",
       "      <td>L 2-0�</td>\n",
       "    </tr>\n",
       "    <tr>\n",
       "      <th>79</th>\n",
       "      <td>09/28/05</td>\n",
       "      <td>19:10:00</td>\n",
       "      <td>21:58:00</td>\n",
       "      <td>46424</td>\n",
       "      <td>Arizona</td>\n",
       "      <td>L 4-3�</td>\n",
       "    </tr>\n",
       "    <tr>\n",
       "      <th>80</th>\n",
       "      <td>09/29/05</td>\n",
       "      <td>19:10:00</td>\n",
       "      <td>22:24:00</td>\n",
       "      <td>45053</td>\n",
       "      <td>Arizona</td>\n",
       "      <td>L 3-2�</td>\n",
       "    </tr>\n",
       "  </tbody>\n",
       "</table>\n",
       "<p>81 rows × 6 columns</p>\n",
       "</div>"
      ],
      "text/plain": [
       "           0         1         2      3              4       5\n",
       "0   04/12/05  13:10:00  16:23:00  55892  San Francisco  W 9-8�\n",
       "1   04/13/05  19:10:00  21:48:00  46514  San Francisco  W 4-1�\n",
       "2   04/15/05  19:40:00  21:48:00  51816      San Diego  W 4-0�\n",
       "3   04/16/05  19:10:00  21:52:00  54704      San Diego  W 8-3�\n",
       "4   04/17/05  13:10:00  15:31:00  53402      San Diego  W 6-0�\n",
       "..       ...       ...       ...    ...            ...     ...\n",
       "76  09/25/05  13:10:00  16:06:00  37846     Pittsburgh  W 9-2�\n",
       "77  09/26/05  19:10:00  22:27:00  36397     Pittsburgh  W 9-4�\n",
       "78  09/27/05  19:10:00  21:33:00  42604        Arizona  L 2-0�\n",
       "79  09/28/05  19:10:00  21:58:00  46424        Arizona  L 4-3�\n",
       "80  09/29/05  19:10:00  22:24:00  45053        Arizona  L 3-2�\n",
       "\n",
       "[81 rows x 6 columns]"
      ]
     },
     "execution_count": 7,
     "metadata": {},
     "output_type": "execute_result"
    }
   ],
   "source": [
    "df_games"
   ]
  },
  {
   "cell_type": "markdown",
   "id": "bd046742-f92c-4192-a255-2a483575f1e3",
   "metadata": {},
   "source": [
    "Renaming the columns of df_games with appropriately labeled column names rather than leaving the the numbered column headings"
   ]
  },
  {
   "cell_type": "code",
   "execution_count": 8,
   "id": "e0011b0c-4ef3-4afb-b24a-a6e1b8f21b12",
   "metadata": {},
   "outputs": [
    {
     "data": {
      "text/html": [
       "<div>\n",
       "<style scoped>\n",
       "    .dataframe tbody tr th:only-of-type {\n",
       "        vertical-align: middle;\n",
       "    }\n",
       "\n",
       "    .dataframe tbody tr th {\n",
       "        vertical-align: top;\n",
       "    }\n",
       "\n",
       "    .dataframe thead th {\n",
       "        text-align: right;\n",
       "    }\n",
       "</style>\n",
       "<table border=\"1\" class=\"dataframe\">\n",
       "  <thead>\n",
       "    <tr style=\"text-align: right;\">\n",
       "      <th></th>\n",
       "      <th>Date</th>\n",
       "      <th>Starttime</th>\n",
       "      <th>Endtime</th>\n",
       "      <th>Total Attendance</th>\n",
       "      <th>Opponent</th>\n",
       "      <th>Result</th>\n",
       "    </tr>\n",
       "  </thead>\n",
       "  <tbody>\n",
       "    <tr>\n",
       "      <th>0</th>\n",
       "      <td>04/12/05</td>\n",
       "      <td>13:10:00</td>\n",
       "      <td>16:23:00</td>\n",
       "      <td>55892</td>\n",
       "      <td>San Francisco</td>\n",
       "      <td>W 9-8�</td>\n",
       "    </tr>\n",
       "    <tr>\n",
       "      <th>1</th>\n",
       "      <td>04/13/05</td>\n",
       "      <td>19:10:00</td>\n",
       "      <td>21:48:00</td>\n",
       "      <td>46514</td>\n",
       "      <td>San Francisco</td>\n",
       "      <td>W 4-1�</td>\n",
       "    </tr>\n",
       "    <tr>\n",
       "      <th>2</th>\n",
       "      <td>04/15/05</td>\n",
       "      <td>19:40:00</td>\n",
       "      <td>21:48:00</td>\n",
       "      <td>51816</td>\n",
       "      <td>San Diego</td>\n",
       "      <td>W 4-0�</td>\n",
       "    </tr>\n",
       "    <tr>\n",
       "      <th>3</th>\n",
       "      <td>04/16/05</td>\n",
       "      <td>19:10:00</td>\n",
       "      <td>21:52:00</td>\n",
       "      <td>54704</td>\n",
       "      <td>San Diego</td>\n",
       "      <td>W 8-3�</td>\n",
       "    </tr>\n",
       "    <tr>\n",
       "      <th>4</th>\n",
       "      <td>04/17/05</td>\n",
       "      <td>13:10:00</td>\n",
       "      <td>15:31:00</td>\n",
       "      <td>53402</td>\n",
       "      <td>San Diego</td>\n",
       "      <td>W 6-0�</td>\n",
       "    </tr>\n",
       "    <tr>\n",
       "      <th>...</th>\n",
       "      <td>...</td>\n",
       "      <td>...</td>\n",
       "      <td>...</td>\n",
       "      <td>...</td>\n",
       "      <td>...</td>\n",
       "      <td>...</td>\n",
       "    </tr>\n",
       "    <tr>\n",
       "      <th>76</th>\n",
       "      <td>09/25/05</td>\n",
       "      <td>13:10:00</td>\n",
       "      <td>16:06:00</td>\n",
       "      <td>37846</td>\n",
       "      <td>Pittsburgh</td>\n",
       "      <td>W 9-2�</td>\n",
       "    </tr>\n",
       "    <tr>\n",
       "      <th>77</th>\n",
       "      <td>09/26/05</td>\n",
       "      <td>19:10:00</td>\n",
       "      <td>22:27:00</td>\n",
       "      <td>36397</td>\n",
       "      <td>Pittsburgh</td>\n",
       "      <td>W 9-4�</td>\n",
       "    </tr>\n",
       "    <tr>\n",
       "      <th>78</th>\n",
       "      <td>09/27/05</td>\n",
       "      <td>19:10:00</td>\n",
       "      <td>21:33:00</td>\n",
       "      <td>42604</td>\n",
       "      <td>Arizona</td>\n",
       "      <td>L 2-0�</td>\n",
       "    </tr>\n",
       "    <tr>\n",
       "      <th>79</th>\n",
       "      <td>09/28/05</td>\n",
       "      <td>19:10:00</td>\n",
       "      <td>21:58:00</td>\n",
       "      <td>46424</td>\n",
       "      <td>Arizona</td>\n",
       "      <td>L 4-3�</td>\n",
       "    </tr>\n",
       "    <tr>\n",
       "      <th>80</th>\n",
       "      <td>09/29/05</td>\n",
       "      <td>19:10:00</td>\n",
       "      <td>22:24:00</td>\n",
       "      <td>45053</td>\n",
       "      <td>Arizona</td>\n",
       "      <td>L 3-2�</td>\n",
       "    </tr>\n",
       "  </tbody>\n",
       "</table>\n",
       "<p>81 rows × 6 columns</p>\n",
       "</div>"
      ],
      "text/plain": [
       "        Date Starttime   Endtime  Total Attendance       Opponent  Result\n",
       "0   04/12/05  13:10:00  16:23:00             55892  San Francisco  W 9-8�\n",
       "1   04/13/05  19:10:00  21:48:00             46514  San Francisco  W 4-1�\n",
       "2   04/15/05  19:40:00  21:48:00             51816      San Diego  W 4-0�\n",
       "3   04/16/05  19:10:00  21:52:00             54704      San Diego  W 8-3�\n",
       "4   04/17/05  13:10:00  15:31:00             53402      San Diego  W 6-0�\n",
       "..       ...       ...       ...               ...            ...     ...\n",
       "76  09/25/05  13:10:00  16:06:00             37846     Pittsburgh  W 9-2�\n",
       "77  09/26/05  19:10:00  22:27:00             36397     Pittsburgh  W 9-4�\n",
       "78  09/27/05  19:10:00  21:33:00             42604        Arizona  L 2-0�\n",
       "79  09/28/05  19:10:00  21:58:00             46424        Arizona  L 4-3�\n",
       "80  09/29/05  19:10:00  22:24:00             45053        Arizona  L 3-2�\n",
       "\n",
       "[81 rows x 6 columns]"
      ]
     },
     "execution_count": 8,
     "metadata": {},
     "output_type": "execute_result"
    }
   ],
   "source": [
    "df_games = df_games.rename(columns = {0: 'Date', \n",
    "                                      1: 'Starttime',\n",
    "                                      2: 'Endtime',\n",
    "                                      3: 'Total Attendance',\n",
    "                                      4: 'Opponent',\n",
    "                                      5: 'Result'})\n",
    "\n",
    "df_games"
   ]
  },
  {
   "cell_type": "markdown",
   "id": "29ffb8b4-6299-4ae0-875b-bcbdada2fdfc",
   "metadata": {},
   "source": [
    "Checking the data types of the df_games columns"
   ]
  },
  {
   "cell_type": "code",
   "execution_count": 9,
   "id": "934ebd3f-c007-4492-9d15-a0c6e2248f2b",
   "metadata": {},
   "outputs": [
    {
     "data": {
      "text/plain": [
       "Date                object\n",
       "Starttime           object\n",
       "Endtime             object\n",
       "Total Attendance     int64\n",
       "Opponent            object\n",
       "Result              object\n",
       "dtype: object"
      ]
     },
     "execution_count": 9,
     "metadata": {},
     "output_type": "execute_result"
    }
   ],
   "source": [
    "df_games.dtypes"
   ]
  },
  {
   "cell_type": "markdown",
   "id": "024fe430-1c08-4989-bae6-7b66881ad869",
   "metadata": {},
   "source": [
    "Wanted to check whether or not there were null values in the dataframe before combining the Date and gametime columns"
   ]
  },
  {
   "cell_type": "code",
   "execution_count": 10,
   "id": "2e5aac5e-0ea6-4f91-9f3f-241ef95aa64d",
   "metadata": {},
   "outputs": [
    {
     "data": {
      "text/plain": [
       "Date                0\n",
       "Starttime           0\n",
       "Endtime             0\n",
       "Total Attendance    0\n",
       "Opponent            0\n",
       "Result              0\n",
       "dtype: int64"
      ]
     },
     "execution_count": 10,
     "metadata": {},
     "output_type": "execute_result"
    }
   ],
   "source": [
    "df_games.isna().sum()"
   ]
  },
  {
   "cell_type": "markdown",
   "id": "6cf91ae4-8060-4aba-a2d7-d3c6f936ec27",
   "metadata": {},
   "source": [
    "With the Date, Starttime, and Endtime taking up three columns we wanted to combine these columns in a way that would have just the Starttime and Endtime of each Dodgers game in Datetime form.   \n",
    "\n",
    "Before doing so, we wanted to check whether or not there was a baseball game that extended into the next day than when it originally started. There doesn't seem to be a game that lasted into the next day as the latest Endtime value was 23:18:00 or 11:18:00 pm. Knowing this, we wouldn't have to perform any extra manipulations on the data in order change any of the values within the Date column to match the Endtime values.    "
   ]
  },
  {
   "cell_type": "code",
   "execution_count": 11,
   "id": "27602d4d-67bd-47f9-94bd-5f66d918e84a",
   "metadata": {},
   "outputs": [
    {
     "name": "stdout",
     "output_type": "stream",
     "text": [
      "23:18:00\n"
     ]
    }
   ],
   "source": [
    "print(max(df_games.Endtime))"
   ]
  },
  {
   "cell_type": "code",
   "execution_count": 12,
   "id": "b14468c3-000c-4c0a-adc0-05f09d139161",
   "metadata": {},
   "outputs": [],
   "source": [
    "df_games.Endtime = df_games.Date.astype(str) + \" \" + df_games.Endtime.astype(str)\n",
    "df_games.Endtime = pd.to_datetime(df_games.Endtime)\n",
    "\n",
    "df_games.Date = df_games.Date.astype(str) + \" \" + df_games.Starttime.astype(str)\n",
    "df_games.Date = pd.to_datetime(df_games.Date)\n",
    "\n",
    "df_games.drop(columns = [\"Starttime\", \"Total Attendance\", \"Opponent\", \"Result\"], inplace =True)\n",
    "df_games.rename(columns = {'Date': 'Starttime'}, inplace=True)"
   ]
  },
  {
   "cell_type": "markdown",
   "id": "e6cc8270-4fc0-4adb-a630-84d20a9ff1a4",
   "metadata": {},
   "source": [
    "Checking the result the previous cell of code"
   ]
  },
  {
   "cell_type": "code",
   "execution_count": 13,
   "id": "79e02965-03cf-41b8-99aa-d9851b40aed3",
   "metadata": {},
   "outputs": [
    {
     "data": {
      "text/html": [
       "<div>\n",
       "<style scoped>\n",
       "    .dataframe tbody tr th:only-of-type {\n",
       "        vertical-align: middle;\n",
       "    }\n",
       "\n",
       "    .dataframe tbody tr th {\n",
       "        vertical-align: top;\n",
       "    }\n",
       "\n",
       "    .dataframe thead th {\n",
       "        text-align: right;\n",
       "    }\n",
       "</style>\n",
       "<table border=\"1\" class=\"dataframe\">\n",
       "  <thead>\n",
       "    <tr style=\"text-align: right;\">\n",
       "      <th></th>\n",
       "      <th>Starttime</th>\n",
       "      <th>Endtime</th>\n",
       "    </tr>\n",
       "  </thead>\n",
       "  <tbody>\n",
       "    <tr>\n",
       "      <th>0</th>\n",
       "      <td>2005-04-12 13:10:00</td>\n",
       "      <td>2005-04-12 16:23:00</td>\n",
       "    </tr>\n",
       "    <tr>\n",
       "      <th>1</th>\n",
       "      <td>2005-04-13 19:10:00</td>\n",
       "      <td>2005-04-13 21:48:00</td>\n",
       "    </tr>\n",
       "    <tr>\n",
       "      <th>2</th>\n",
       "      <td>2005-04-15 19:40:00</td>\n",
       "      <td>2005-04-15 21:48:00</td>\n",
       "    </tr>\n",
       "    <tr>\n",
       "      <th>3</th>\n",
       "      <td>2005-04-16 19:10:00</td>\n",
       "      <td>2005-04-16 21:52:00</td>\n",
       "    </tr>\n",
       "    <tr>\n",
       "      <th>4</th>\n",
       "      <td>2005-04-17 13:10:00</td>\n",
       "      <td>2005-04-17 15:31:00</td>\n",
       "    </tr>\n",
       "    <tr>\n",
       "      <th>...</th>\n",
       "      <td>...</td>\n",
       "      <td>...</td>\n",
       "    </tr>\n",
       "    <tr>\n",
       "      <th>76</th>\n",
       "      <td>2005-09-25 13:10:00</td>\n",
       "      <td>2005-09-25 16:06:00</td>\n",
       "    </tr>\n",
       "    <tr>\n",
       "      <th>77</th>\n",
       "      <td>2005-09-26 19:10:00</td>\n",
       "      <td>2005-09-26 22:27:00</td>\n",
       "    </tr>\n",
       "    <tr>\n",
       "      <th>78</th>\n",
       "      <td>2005-09-27 19:10:00</td>\n",
       "      <td>2005-09-27 21:33:00</td>\n",
       "    </tr>\n",
       "    <tr>\n",
       "      <th>79</th>\n",
       "      <td>2005-09-28 19:10:00</td>\n",
       "      <td>2005-09-28 21:58:00</td>\n",
       "    </tr>\n",
       "    <tr>\n",
       "      <th>80</th>\n",
       "      <td>2005-09-29 19:10:00</td>\n",
       "      <td>2005-09-29 22:24:00</td>\n",
       "    </tr>\n",
       "  </tbody>\n",
       "</table>\n",
       "<p>81 rows × 2 columns</p>\n",
       "</div>"
      ],
      "text/plain": [
       "             Starttime             Endtime\n",
       "0  2005-04-12 13:10:00 2005-04-12 16:23:00\n",
       "1  2005-04-13 19:10:00 2005-04-13 21:48:00\n",
       "2  2005-04-15 19:40:00 2005-04-15 21:48:00\n",
       "3  2005-04-16 19:10:00 2005-04-16 21:52:00\n",
       "4  2005-04-17 13:10:00 2005-04-17 15:31:00\n",
       "..                 ...                 ...\n",
       "76 2005-09-25 13:10:00 2005-09-25 16:06:00\n",
       "77 2005-09-26 19:10:00 2005-09-26 22:27:00\n",
       "78 2005-09-27 19:10:00 2005-09-27 21:33:00\n",
       "79 2005-09-28 19:10:00 2005-09-28 21:58:00\n",
       "80 2005-09-29 19:10:00 2005-09-29 22:24:00\n",
       "\n",
       "[81 rows x 2 columns]"
      ]
     },
     "execution_count": 13,
     "metadata": {},
     "output_type": "execute_result"
    }
   ],
   "source": [
    "df_games"
   ]
  },
  {
   "cell_type": "markdown",
   "id": "a9f2889d-60d9-4616-9759-1f388fe5ebfd",
   "metadata": {},
   "source": [
    "Checking if datetime conversion worked"
   ]
  },
  {
   "cell_type": "code",
   "execution_count": 14,
   "id": "0deb23b3-97fa-4156-b51d-02f9d6a606ae",
   "metadata": {},
   "outputs": [
    {
     "data": {
      "text/plain": [
       "Starttime    datetime64[ns]\n",
       "Endtime      datetime64[ns]\n",
       "dtype: object"
      ]
     },
     "execution_count": 14,
     "metadata": {},
     "output_type": "execute_result"
    }
   ],
   "source": [
    "df_games.dtypes"
   ]
  },
  {
   "cell_type": "markdown",
   "id": "f4a183ed-93e3-473d-abf3-a1930088c13c",
   "metadata": {},
   "source": [
    "Saving cleaned df_games dataframe into a new csv file"
   ]
  },
  {
   "cell_type": "code",
   "execution_count": 15,
   "id": "b85a7a12-9d12-4c93-9f08-661653df233b",
   "metadata": {},
   "outputs": [],
   "source": [
    "df_games.to_csv(\"New_Dodgers_Events.csv\", index=False)"
   ]
  },
  {
   "cell_type": "markdown",
   "id": "31e994fa-6623-4511-afed-dd2f29955b5d",
   "metadata": {},
   "source": [
    "**df_traffic clean up**"
   ]
  },
  {
   "cell_type": "code",
   "execution_count": 16,
   "id": "a7e96297-91e0-47cc-9565-83daeeed5972",
   "metadata": {},
   "outputs": [
    {
     "data": {
      "text/html": [
       "<div>\n",
       "<style scoped>\n",
       "    .dataframe tbody tr th:only-of-type {\n",
       "        vertical-align: middle;\n",
       "    }\n",
       "\n",
       "    .dataframe tbody tr th {\n",
       "        vertical-align: top;\n",
       "    }\n",
       "\n",
       "    .dataframe thead th {\n",
       "        text-align: right;\n",
       "    }\n",
       "</style>\n",
       "<table border=\"1\" class=\"dataframe\">\n",
       "  <thead>\n",
       "    <tr style=\"text-align: right;\">\n",
       "      <th></th>\n",
       "      <th>0</th>\n",
       "      <th>1</th>\n",
       "    </tr>\n",
       "  </thead>\n",
       "  <tbody>\n",
       "    <tr>\n",
       "      <th>0</th>\n",
       "      <td>4/10/2005 0:00</td>\n",
       "      <td>-1</td>\n",
       "    </tr>\n",
       "    <tr>\n",
       "      <th>1</th>\n",
       "      <td>4/10/2005 0:05</td>\n",
       "      <td>-1</td>\n",
       "    </tr>\n",
       "    <tr>\n",
       "      <th>2</th>\n",
       "      <td>4/10/2005 0:10</td>\n",
       "      <td>-1</td>\n",
       "    </tr>\n",
       "    <tr>\n",
       "      <th>3</th>\n",
       "      <td>4/10/2005 0:15</td>\n",
       "      <td>-1</td>\n",
       "    </tr>\n",
       "    <tr>\n",
       "      <th>4</th>\n",
       "      <td>4/10/2005 0:20</td>\n",
       "      <td>-1</td>\n",
       "    </tr>\n",
       "    <tr>\n",
       "      <th>...</th>\n",
       "      <td>...</td>\n",
       "      <td>...</td>\n",
       "    </tr>\n",
       "    <tr>\n",
       "      <th>50395</th>\n",
       "      <td>10/1/2005 23:35</td>\n",
       "      <td>-1</td>\n",
       "    </tr>\n",
       "    <tr>\n",
       "      <th>50396</th>\n",
       "      <td>10/1/2005 23:40</td>\n",
       "      <td>-1</td>\n",
       "    </tr>\n",
       "    <tr>\n",
       "      <th>50397</th>\n",
       "      <td>10/1/2005 23:45</td>\n",
       "      <td>-1</td>\n",
       "    </tr>\n",
       "    <tr>\n",
       "      <th>50398</th>\n",
       "      <td>10/1/2005 23:50</td>\n",
       "      <td>-1</td>\n",
       "    </tr>\n",
       "    <tr>\n",
       "      <th>50399</th>\n",
       "      <td>10/1/2005 23:55</td>\n",
       "      <td>-1</td>\n",
       "    </tr>\n",
       "  </tbody>\n",
       "</table>\n",
       "<p>50400 rows × 2 columns</p>\n",
       "</div>"
      ],
      "text/plain": [
       "                     0  1\n",
       "0       4/10/2005 0:00 -1\n",
       "1       4/10/2005 0:05 -1\n",
       "2       4/10/2005 0:10 -1\n",
       "3       4/10/2005 0:15 -1\n",
       "4       4/10/2005 0:20 -1\n",
       "...                ... ..\n",
       "50395  10/1/2005 23:35 -1\n",
       "50396  10/1/2005 23:40 -1\n",
       "50397  10/1/2005 23:45 -1\n",
       "50398  10/1/2005 23:50 -1\n",
       "50399  10/1/2005 23:55 -1\n",
       "\n",
       "[50400 rows x 2 columns]"
      ]
     },
     "execution_count": 16,
     "metadata": {},
     "output_type": "execute_result"
    }
   ],
   "source": [
    "df_traffic"
   ]
  },
  {
   "cell_type": "markdown",
   "id": "768ba1a0-9bea-4878-b19b-24183c52ddcd",
   "metadata": {},
   "source": [
    "Renaming the columns of df_traffic dataframe with appropriately labeled column names rather than leaving the the numbered column headings"
   ]
  },
  {
   "cell_type": "code",
   "execution_count": 17,
   "id": "800425dc-d070-424f-9d3d-3af58d270e01",
   "metadata": {},
   "outputs": [],
   "source": [
    "df_traffic = df_traffic.rename(columns = {0: 'Date', \n",
    "                                          1: 'Traffic'})"
   ]
  },
  {
   "cell_type": "markdown",
   "id": "d95b6889-df07-439c-bc12-b2b301ad859b",
   "metadata": {},
   "source": [
    "Wanted to check whether or not there were any NA or Null values within the Dataframe to see whether they would affect the conversion of the Date Column to Datetime"
   ]
  },
  {
   "cell_type": "code",
   "execution_count": 18,
   "id": "b85f65ff-7a43-416c-ab40-633a75cf1c60",
   "metadata": {},
   "outputs": [
    {
     "data": {
      "text/plain": [
       "Date       0\n",
       "Traffic    0\n",
       "dtype: int64"
      ]
     },
     "execution_count": 18,
     "metadata": {},
     "output_type": "execute_result"
    }
   ],
   "source": [
    "df_traffic.isna().sum()"
   ]
  },
  {
   "cell_type": "markdown",
   "id": "0e2d27d1-1e31-45c0-88b6-d259259f2bbb",
   "metadata": {},
   "source": [
    "The data within the Date column is represented as object rather than being in Datetime form"
   ]
  },
  {
   "cell_type": "code",
   "execution_count": 19,
   "id": "8ec99528-e10a-4609-a179-6101ffd58508",
   "metadata": {},
   "outputs": [
    {
     "data": {
      "text/plain": [
       "Date       object\n",
       "Traffic     int64\n",
       "dtype: object"
      ]
     },
     "execution_count": 19,
     "metadata": {},
     "output_type": "execute_result"
    }
   ],
   "source": [
    "df_traffic.dtypes"
   ]
  },
  {
   "cell_type": "code",
   "execution_count": 20,
   "id": "634f7e6c-dac1-4c59-b3e2-f6839bd6d47f",
   "metadata": {},
   "outputs": [
    {
     "data": {
      "text/plain": [
       "Date       datetime64[ns]\n",
       "Traffic             int64\n",
       "dtype: object"
      ]
     },
     "execution_count": 20,
     "metadata": {},
     "output_type": "execute_result"
    }
   ],
   "source": [
    "df_traffic.Date = pd.to_datetime(df_traffic.Date)\n",
    "df_traffic.dtypes"
   ]
  },
  {
   "cell_type": "markdown",
   "id": "f9021914-fb20-4b3c-80c3-afff01c2aadc",
   "metadata": {},
   "source": [
    "Visualizing if datatype change happened correctly"
   ]
  },
  {
   "cell_type": "code",
   "execution_count": 21,
   "id": "0ee17aed-922a-4a7e-b77a-c79be2358f30",
   "metadata": {},
   "outputs": [
    {
     "data": {
      "text/html": [
       "<div>\n",
       "<style scoped>\n",
       "    .dataframe tbody tr th:only-of-type {\n",
       "        vertical-align: middle;\n",
       "    }\n",
       "\n",
       "    .dataframe tbody tr th {\n",
       "        vertical-align: top;\n",
       "    }\n",
       "\n",
       "    .dataframe thead th {\n",
       "        text-align: right;\n",
       "    }\n",
       "</style>\n",
       "<table border=\"1\" class=\"dataframe\">\n",
       "  <thead>\n",
       "    <tr style=\"text-align: right;\">\n",
       "      <th></th>\n",
       "      <th>Date</th>\n",
       "      <th>Traffic</th>\n",
       "    </tr>\n",
       "  </thead>\n",
       "  <tbody>\n",
       "    <tr>\n",
       "      <th>15196</th>\n",
       "      <td>2005-06-01 18:20:00</td>\n",
       "      <td>32</td>\n",
       "    </tr>\n",
       "    <tr>\n",
       "      <th>41434</th>\n",
       "      <td>2005-08-31 20:50:00</td>\n",
       "      <td>13</td>\n",
       "    </tr>\n",
       "    <tr>\n",
       "      <th>26288</th>\n",
       "      <td>2005-07-10 06:40:00</td>\n",
       "      <td>12</td>\n",
       "    </tr>\n",
       "    <tr>\n",
       "      <th>392</th>\n",
       "      <td>2005-04-11 08:40:00</td>\n",
       "      <td>41</td>\n",
       "    </tr>\n",
       "    <tr>\n",
       "      <th>31378</th>\n",
       "      <td>2005-07-27 22:50:00</td>\n",
       "      <td>50</td>\n",
       "    </tr>\n",
       "    <tr>\n",
       "      <th>8483</th>\n",
       "      <td>2005-05-09 10:55:00</td>\n",
       "      <td>17</td>\n",
       "    </tr>\n",
       "    <tr>\n",
       "      <th>11890</th>\n",
       "      <td>2005-05-21 06:50:00</td>\n",
       "      <td>10</td>\n",
       "    </tr>\n",
       "    <tr>\n",
       "      <th>27181</th>\n",
       "      <td>2005-07-13 09:05:00</td>\n",
       "      <td>36</td>\n",
       "    </tr>\n",
       "    <tr>\n",
       "      <th>28524</th>\n",
       "      <td>2005-07-18 01:00:00</td>\n",
       "      <td>0</td>\n",
       "    </tr>\n",
       "    <tr>\n",
       "      <th>15102</th>\n",
       "      <td>2005-06-01 10:30:00</td>\n",
       "      <td>30</td>\n",
       "    </tr>\n",
       "  </tbody>\n",
       "</table>\n",
       "</div>"
      ],
      "text/plain": [
       "                     Date  Traffic\n",
       "15196 2005-06-01 18:20:00       32\n",
       "41434 2005-08-31 20:50:00       13\n",
       "26288 2005-07-10 06:40:00       12\n",
       "392   2005-04-11 08:40:00       41\n",
       "31378 2005-07-27 22:50:00       50\n",
       "8483  2005-05-09 10:55:00       17\n",
       "11890 2005-05-21 06:50:00       10\n",
       "27181 2005-07-13 09:05:00       36\n",
       "28524 2005-07-18 01:00:00        0\n",
       "15102 2005-06-01 10:30:00       30"
      ]
     },
     "execution_count": 21,
     "metadata": {},
     "output_type": "execute_result"
    }
   ],
   "source": [
    "df_traffic.sample(10)"
   ]
  },
  {
   "cell_type": "markdown",
   "id": "97806efa-f827-40e9-9b6d-495cf35a8966",
   "metadata": {},
   "source": [
    "Since we are trying to predict whether or not a Dodgers baseball game is taking place, we wanted to add a column to the df_traffic dataframe that has a 1 indicating the times a Dodgers game and 0 no Dodgers games. In determining the occurence of a baseball game, we decided to create a window of time just before the end and after the end of a baseball game since some people tend to leave just before the end of the game and that traffic builds up after the game since everyone is leaving. We added a \"Game\" column to the dataframe with an initial value of 0 and added 1 to any index value that is in the occurance list. So, 1 represents a Dodgers Game and no game at 0."
   ]
  },
  {
   "cell_type": "markdown",
   "id": "20bcbd32-1565-4b62-95b4-d12435818e4c",
   "metadata": {},
   "source": [
    "Note: We previously tried to run the following for loops for pulling the indexes of the df_traffic.Date that fall within a time window of the df_games.Endtime data.   \n",
    "**for i in occurance_list:   \n",
    "    for j in df_traffic.index.values:   \n",
    "        if j == i:   \n",
    "            df_traffic.Game_ended[i] += 1**\n",
    "\n",
    "However, we got a SettingWithCopyingWarning. To get around this, we used .iat[i] to get access to the data at a specific value that is at a specific row at a specific index point since we were looping through the index values\n",
    "\n",
    "Looking ahead, we thought that we might want to take into account the weekday, hour, and minute in building our models so we pulled the these datapoints from the Date column and stored each of them into their own column."
   ]
  },
  {
   "cell_type": "code",
   "execution_count": 22,
   "id": "9afb3b0c-92fd-4a9e-acd4-057bc3b3b8c3",
   "metadata": {},
   "outputs": [],
   "source": [
    "df_traffic.insert(1, \"Day_of_Week\", 0)\n",
    "df_traffic.insert(2, \"Hour\", 0)\n",
    "df_traffic.insert(3, \"Minute\", 0)\n",
    "df_traffic.insert(5, \"Game\", 0)"
   ]
  },
  {
   "cell_type": "code",
   "execution_count": 23,
   "id": "a012770f-6c17-4471-a183-2611c8e2a1db",
   "metadata": {},
   "outputs": [
    {
     "name": "stdout",
     "output_type": "stream",
     "text": [
      "[ 0  1  2  3  4  5  6  7  8  9 10 11 12 13 14 15 16 17 18 19 20 21 22 23\n",
      " 24 25 26 27 28 29 30 31 32 33 34 35 36 37 38 39 40 41 42 43 44 45 46 47\n",
      " 48 49 50 51 52 53 54 55 56 57 58 59 60 61 62 63 64 65 66 67 68 69 70 71\n",
      " 72 73 74 75 76 77 78 79 80]\n"
     ]
    }
   ],
   "source": [
    "print(df_games.Endtime.index.values)"
   ]
  },
  {
   "cell_type": "code",
   "execution_count": 24,
   "id": "ccd0fa8f-475b-48c3-af1a-f5f2c673537b",
   "metadata": {},
   "outputs": [],
   "source": [
    "occurance_list = []\n",
    "for i in range(0, 81):\n",
    "    a = df_traffic[(df_traffic.Date >= (df_games.Starttime[i] - pd.Timedelta(minutes = 30))) & \n",
    "                   (df_traffic.Date <= (df_games.Endtime[i] + pd.Timedelta(hours = 1)))].index.values.tolist()\n",
    "    for j in a:\n",
    "        occurance_list.append(j)\n",
    "\n",
    "for i in occurance_list:\n",
    "    for j in df_traffic.index.values:\n",
    "        if j == i:\n",
    "            df_traffic.Game.iat[i] += 1"
   ]
  },
  {
   "cell_type": "code",
   "execution_count": 25,
   "id": "85d6bb7f-c6b4-4be2-8778-177b87f75c95",
   "metadata": {},
   "outputs": [],
   "source": [
    "for i in df_traffic.index.values:\n",
    "    df_traffic.Day_of_Week.iat[i] = df_traffic.Date.iat[i].weekday()\n",
    "    df_traffic.Hour.iat[i] = df_traffic.Date.iat[i].hour\n",
    "    df_traffic.Minute.iat[i] = df_traffic.Date.iat[i].minute"
   ]
  },
  {
   "cell_type": "markdown",
   "id": "fc82fe04-316b-4beb-836b-2739ca06431c",
   "metadata": {},
   "source": [
    "Using a Query to check the output previous few cells"
   ]
  },
  {
   "cell_type": "code",
   "execution_count": 26,
   "id": "4a02dbec-f145-42c3-b7c2-a33c9904ad11",
   "metadata": {},
   "outputs": [
    {
     "data": {
      "text/html": [
       "<div>\n",
       "<style scoped>\n",
       "    .dataframe tbody tr th:only-of-type {\n",
       "        vertical-align: middle;\n",
       "    }\n",
       "\n",
       "    .dataframe tbody tr th {\n",
       "        vertical-align: top;\n",
       "    }\n",
       "\n",
       "    .dataframe thead th {\n",
       "        text-align: right;\n",
       "    }\n",
       "</style>\n",
       "<table border=\"1\" class=\"dataframe\">\n",
       "  <thead>\n",
       "    <tr style=\"text-align: right;\">\n",
       "      <th></th>\n",
       "      <th>Date</th>\n",
       "      <th>Day_of_Week</th>\n",
       "      <th>Hour</th>\n",
       "      <th>Minute</th>\n",
       "      <th>Traffic</th>\n",
       "      <th>Game</th>\n",
       "    </tr>\n",
       "  </thead>\n",
       "  <tbody>\n",
       "    <tr>\n",
       "      <th>16106</th>\n",
       "      <td>2005-06-04 22:10:00</td>\n",
       "      <td>5</td>\n",
       "      <td>22</td>\n",
       "      <td>10</td>\n",
       "      <td>29</td>\n",
       "      <td>1</td>\n",
       "    </tr>\n",
       "    <tr>\n",
       "      <th>14656</th>\n",
       "      <td>2005-05-30 21:20:00</td>\n",
       "      <td>0</td>\n",
       "      <td>21</td>\n",
       "      <td>20</td>\n",
       "      <td>12</td>\n",
       "      <td>1</td>\n",
       "    </tr>\n",
       "    <tr>\n",
       "      <th>5992</th>\n",
       "      <td>2005-04-30 19:20:00</td>\n",
       "      <td>5</td>\n",
       "      <td>19</td>\n",
       "      <td>20</td>\n",
       "      <td>29</td>\n",
       "      <td>1</td>\n",
       "    </tr>\n",
       "    <tr>\n",
       "      <th>6856</th>\n",
       "      <td>2005-05-03 19:20:00</td>\n",
       "      <td>1</td>\n",
       "      <td>19</td>\n",
       "      <td>20</td>\n",
       "      <td>30</td>\n",
       "      <td>1</td>\n",
       "    </tr>\n",
       "    <tr>\n",
       "      <th>5721</th>\n",
       "      <td>2005-04-29 20:45:00</td>\n",
       "      <td>4</td>\n",
       "      <td>20</td>\n",
       "      <td>45</td>\n",
       "      <td>12</td>\n",
       "      <td>1</td>\n",
       "    </tr>\n",
       "    <tr>\n",
       "      <th>15505</th>\n",
       "      <td>2005-06-02 20:05:00</td>\n",
       "      <td>3</td>\n",
       "      <td>20</td>\n",
       "      <td>5</td>\n",
       "      <td>21</td>\n",
       "      <td>1</td>\n",
       "    </tr>\n",
       "    <tr>\n",
       "      <th>40011</th>\n",
       "      <td>2005-08-26 22:15:00</td>\n",
       "      <td>4</td>\n",
       "      <td>22</td>\n",
       "      <td>15</td>\n",
       "      <td>27</td>\n",
       "      <td>1</td>\n",
       "    </tr>\n",
       "    <tr>\n",
       "      <th>1681</th>\n",
       "      <td>2005-04-15 20:05:00</td>\n",
       "      <td>4</td>\n",
       "      <td>20</td>\n",
       "      <td>5</td>\n",
       "      <td>20</td>\n",
       "      <td>1</td>\n",
       "    </tr>\n",
       "    <tr>\n",
       "      <th>49216</th>\n",
       "      <td>2005-09-27 21:20:00</td>\n",
       "      <td>1</td>\n",
       "      <td>21</td>\n",
       "      <td>20</td>\n",
       "      <td>45</td>\n",
       "      <td>1</td>\n",
       "    </tr>\n",
       "    <tr>\n",
       "      <th>4581</th>\n",
       "      <td>2005-04-25 21:45:00</td>\n",
       "      <td>0</td>\n",
       "      <td>21</td>\n",
       "      <td>45</td>\n",
       "      <td>32</td>\n",
       "      <td>1</td>\n",
       "    </tr>\n",
       "    <tr>\n",
       "      <th>49215</th>\n",
       "      <td>2005-09-27 21:15:00</td>\n",
       "      <td>1</td>\n",
       "      <td>21</td>\n",
       "      <td>15</td>\n",
       "      <td>16</td>\n",
       "      <td>1</td>\n",
       "    </tr>\n",
       "    <tr>\n",
       "      <th>18323</th>\n",
       "      <td>2005-06-12 14:55:00</td>\n",
       "      <td>6</td>\n",
       "      <td>14</td>\n",
       "      <td>55</td>\n",
       "      <td>30</td>\n",
       "      <td>1</td>\n",
       "    </tr>\n",
       "    <tr>\n",
       "      <th>17826</th>\n",
       "      <td>2005-06-10 21:30:00</td>\n",
       "      <td>4</td>\n",
       "      <td>21</td>\n",
       "      <td>30</td>\n",
       "      <td>15</td>\n",
       "      <td>1</td>\n",
       "    </tr>\n",
       "    <tr>\n",
       "      <th>11084</th>\n",
       "      <td>2005-05-18 11:40:00</td>\n",
       "      <td>2</td>\n",
       "      <td>11</td>\n",
       "      <td>40</td>\n",
       "      <td>28</td>\n",
       "      <td>1</td>\n",
       "    </tr>\n",
       "    <tr>\n",
       "      <th>18099</th>\n",
       "      <td>2005-06-11 20:15:00</td>\n",
       "      <td>5</td>\n",
       "      <td>20</td>\n",
       "      <td>15</td>\n",
       "      <td>18</td>\n",
       "      <td>1</td>\n",
       "    </tr>\n",
       "  </tbody>\n",
       "</table>\n",
       "</div>"
      ],
      "text/plain": [
       "                     Date  Day_of_Week  Hour  Minute  Traffic  Game\n",
       "16106 2005-06-04 22:10:00            5    22      10       29     1\n",
       "14656 2005-05-30 21:20:00            0    21      20       12     1\n",
       "5992  2005-04-30 19:20:00            5    19      20       29     1\n",
       "6856  2005-05-03 19:20:00            1    19      20       30     1\n",
       "5721  2005-04-29 20:45:00            4    20      45       12     1\n",
       "15505 2005-06-02 20:05:00            3    20       5       21     1\n",
       "40011 2005-08-26 22:15:00            4    22      15       27     1\n",
       "1681  2005-04-15 20:05:00            4    20       5       20     1\n",
       "49216 2005-09-27 21:20:00            1    21      20       45     1\n",
       "4581  2005-04-25 21:45:00            0    21      45       32     1\n",
       "49215 2005-09-27 21:15:00            1    21      15       16     1\n",
       "18323 2005-06-12 14:55:00            6    14      55       30     1\n",
       "17826 2005-06-10 21:30:00            4    21      30       15     1\n",
       "11084 2005-05-18 11:40:00            2    11      40       28     1\n",
       "18099 2005-06-11 20:15:00            5    20      15       18     1"
      ]
     },
     "execution_count": 26,
     "metadata": {},
     "output_type": "execute_result"
    }
   ],
   "source": [
    "df_traffic.query(\"Game == 1\").sample(15)"
   ]
  },
  {
   "cell_type": "markdown",
   "id": "0caeb3b6-c8be-40dd-8aa2-ce9ef003d0df",
   "metadata": {},
   "source": [
    "**Dropping missing values**"
   ]
  },
  {
   "cell_type": "markdown",
   "id": "d8996342-21a6-4f92-a167-ba379bd49821",
   "metadata": {},
   "source": [
    "The Dodgers.name file mentions that the missing values that are within the Traffic_flow column are indicated with a value of -1.   "
   ]
  },
  {
   "cell_type": "code",
   "execution_count": 27,
   "id": "3baac635-a038-4405-ab22-39023c6f00da",
   "metadata": {},
   "outputs": [
    {
     "name": "stdout",
     "output_type": "stream",
     "text": [
      "Total number of missing values: 2903\n",
      "Proportion of the total number of missing values: 5.759920634920635%\n"
     ]
    }
   ],
   "source": [
    "print(f\"Total number of missing values: {df_traffic.query('Traffic == -1').Traffic.count()}\")\n",
    "print(f\"Proportion of the total number of missing values: {(df_traffic.query('Traffic == -1').Traffic.count() / df_traffic.Traffic.count()) * 100}%\")"
   ]
  },
  {
   "cell_type": "code",
   "execution_count": 28,
   "id": "ebc2facf-f461-4ff9-91d2-a1980a608e33",
   "metadata": {},
   "outputs": [
    {
     "name": "stdout",
     "output_type": "stream",
     "text": [
      "Total number of missing values that occur around the time of Dodgers games: 140\n",
      "Proportion of the total of missing values that occur around the time of Dodgers games: 3.2871566095327545%\n"
     ]
    }
   ],
   "source": [
    "print(f\"Total number of missing values that occur around the time of Dodgers games: {df_traffic.query('Traffic == -1 and Game == 1').Traffic.count()}\")\n",
    "print(f\"Proportion of the total of missing values that occur around the time of Dodgers games: {(df_traffic.query('Traffic == -1 and Game == 1').Traffic.count() / df_traffic.query('Game == 1').Traffic.count()) * 100}%\")\n"
   ]
  },
  {
   "cell_type": "markdown",
   "id": "895bcd05-fe5c-43d5-9b3d-4d4c189a9807",
   "metadata": {},
   "source": [
    "   \n",
    "Futhermore, it doesn't appear that we are missing to much data from the games since we are only missing traffic data that only happen after a total of 3 games"
   ]
  },
  {
   "cell_type": "code",
   "execution_count": 29,
   "id": "38228f9e-8fcb-4541-9d1c-23964e10f60f",
   "metadata": {},
   "outputs": [
    {
     "data": {
      "text/plain": [
       "Date\n",
       "2005-06-27    49\n",
       "2005-06-28    56\n",
       "2005-09-10    35\n",
       "Name: Date, dtype: int64"
      ]
     },
     "execution_count": 29,
     "metadata": {},
     "output_type": "execute_result"
    }
   ],
   "source": [
    "df_traffic.query('Traffic == -1 and Game == 1').Date.dt.date.groupby(\n",
    "    df_traffic.query('Traffic == -1 and Game == 1').Date.dt.date).count()"
   ]
  },
  {
   "cell_type": "markdown",
   "id": "8e1fdde3-9090-4ca7-8ba6-aaec0c2269e6",
   "metadata": {},
   "source": [
    "Since the missing data represents just a small portion of the data that does and doesn;t occur around the ending of a baseball game, we decided to drop the 2903 values"
   ]
  },
  {
   "cell_type": "code",
   "execution_count": 30,
   "id": "f80d3994-1617-45e9-ae09-ae9d3f9c863c",
   "metadata": {},
   "outputs": [
    {
     "data": {
      "text/html": [
       "<div>\n",
       "<style scoped>\n",
       "    .dataframe tbody tr th:only-of-type {\n",
       "        vertical-align: middle;\n",
       "    }\n",
       "\n",
       "    .dataframe tbody tr th {\n",
       "        vertical-align: top;\n",
       "    }\n",
       "\n",
       "    .dataframe thead th {\n",
       "        text-align: right;\n",
       "    }\n",
       "</style>\n",
       "<table border=\"1\" class=\"dataframe\">\n",
       "  <thead>\n",
       "    <tr style=\"text-align: right;\">\n",
       "      <th></th>\n",
       "      <th>Date</th>\n",
       "      <th>Day_of_Week</th>\n",
       "      <th>Hour</th>\n",
       "      <th>Minute</th>\n",
       "      <th>Traffic</th>\n",
       "      <th>Game</th>\n",
       "    </tr>\n",
       "  </thead>\n",
       "  <tbody>\n",
       "    <tr>\n",
       "      <th>0</th>\n",
       "      <td>2005-04-11 07:35:00</td>\n",
       "      <td>0</td>\n",
       "      <td>7</td>\n",
       "      <td>35</td>\n",
       "      <td>23</td>\n",
       "      <td>0</td>\n",
       "    </tr>\n",
       "    <tr>\n",
       "      <th>1</th>\n",
       "      <td>2005-04-11 07:40:00</td>\n",
       "      <td>0</td>\n",
       "      <td>7</td>\n",
       "      <td>40</td>\n",
       "      <td>42</td>\n",
       "      <td>0</td>\n",
       "    </tr>\n",
       "    <tr>\n",
       "      <th>2</th>\n",
       "      <td>2005-04-11 07:45:00</td>\n",
       "      <td>0</td>\n",
       "      <td>7</td>\n",
       "      <td>45</td>\n",
       "      <td>37</td>\n",
       "      <td>0</td>\n",
       "    </tr>\n",
       "    <tr>\n",
       "      <th>3</th>\n",
       "      <td>2005-04-11 07:50:00</td>\n",
       "      <td>0</td>\n",
       "      <td>7</td>\n",
       "      <td>50</td>\n",
       "      <td>24</td>\n",
       "      <td>0</td>\n",
       "    </tr>\n",
       "    <tr>\n",
       "      <th>4</th>\n",
       "      <td>2005-04-11 07:55:00</td>\n",
       "      <td>0</td>\n",
       "      <td>7</td>\n",
       "      <td>55</td>\n",
       "      <td>39</td>\n",
       "      <td>0</td>\n",
       "    </tr>\n",
       "    <tr>\n",
       "      <th>...</th>\n",
       "      <td>...</td>\n",
       "      <td>...</td>\n",
       "      <td>...</td>\n",
       "      <td>...</td>\n",
       "      <td>...</td>\n",
       "      <td>...</td>\n",
       "    </tr>\n",
       "    <tr>\n",
       "      <th>47492</th>\n",
       "      <td>2005-09-30 23:45:00</td>\n",
       "      <td>4</td>\n",
       "      <td>23</td>\n",
       "      <td>45</td>\n",
       "      <td>14</td>\n",
       "      <td>0</td>\n",
       "    </tr>\n",
       "    <tr>\n",
       "      <th>47493</th>\n",
       "      <td>2005-09-30 23:50:00</td>\n",
       "      <td>4</td>\n",
       "      <td>23</td>\n",
       "      <td>50</td>\n",
       "      <td>12</td>\n",
       "      <td>0</td>\n",
       "    </tr>\n",
       "    <tr>\n",
       "      <th>47494</th>\n",
       "      <td>2005-09-30 23:55:00</td>\n",
       "      <td>4</td>\n",
       "      <td>23</td>\n",
       "      <td>55</td>\n",
       "      <td>8</td>\n",
       "      <td>0</td>\n",
       "    </tr>\n",
       "    <tr>\n",
       "      <th>47495</th>\n",
       "      <td>2005-10-01 00:00:00</td>\n",
       "      <td>5</td>\n",
       "      <td>0</td>\n",
       "      <td>0</td>\n",
       "      <td>13</td>\n",
       "      <td>0</td>\n",
       "    </tr>\n",
       "    <tr>\n",
       "      <th>47496</th>\n",
       "      <td>2005-10-01 00:05:00</td>\n",
       "      <td>5</td>\n",
       "      <td>0</td>\n",
       "      <td>5</td>\n",
       "      <td>13</td>\n",
       "      <td>0</td>\n",
       "    </tr>\n",
       "  </tbody>\n",
       "</table>\n",
       "<p>47497 rows × 6 columns</p>\n",
       "</div>"
      ],
      "text/plain": [
       "                     Date  Day_of_Week  Hour  Minute  Traffic  Game\n",
       "0     2005-04-11 07:35:00            0     7      35       23     0\n",
       "1     2005-04-11 07:40:00            0     7      40       42     0\n",
       "2     2005-04-11 07:45:00            0     7      45       37     0\n",
       "3     2005-04-11 07:50:00            0     7      50       24     0\n",
       "4     2005-04-11 07:55:00            0     7      55       39     0\n",
       "...                   ...          ...   ...     ...      ...   ...\n",
       "47492 2005-09-30 23:45:00            4    23      45       14     0\n",
       "47493 2005-09-30 23:50:00            4    23      50       12     0\n",
       "47494 2005-09-30 23:55:00            4    23      55        8     0\n",
       "47495 2005-10-01 00:00:00            5     0       0       13     0\n",
       "47496 2005-10-01 00:05:00            5     0       5       13     0\n",
       "\n",
       "[47497 rows x 6 columns]"
      ]
     },
     "execution_count": 30,
     "metadata": {},
     "output_type": "execute_result"
    }
   ],
   "source": [
    "df_traffic = df_traffic[df_traffic.Traffic != -1]\n",
    "df_traffic.reset_index(drop = True, inplace=True)\n",
    "df_traffic"
   ]
  },
  {
   "cell_type": "code",
   "execution_count": 31,
   "id": "a16d2705-5832-443f-9892-75e3f7c7af3d",
   "metadata": {},
   "outputs": [],
   "source": [
    "df_traffic.drop([\"Date\"], axis=1, inplace=True)"
   ]
  },
  {
   "cell_type": "code",
   "execution_count": 32,
   "id": "84321576-da87-4cb9-9722-7e92b6fefa8f",
   "metadata": {},
   "outputs": [
    {
     "data": {
      "text/html": [
       "<div>\n",
       "<style scoped>\n",
       "    .dataframe tbody tr th:only-of-type {\n",
       "        vertical-align: middle;\n",
       "    }\n",
       "\n",
       "    .dataframe tbody tr th {\n",
       "        vertical-align: top;\n",
       "    }\n",
       "\n",
       "    .dataframe thead th {\n",
       "        text-align: right;\n",
       "    }\n",
       "</style>\n",
       "<table border=\"1\" class=\"dataframe\">\n",
       "  <thead>\n",
       "    <tr style=\"text-align: right;\">\n",
       "      <th></th>\n",
       "      <th>Day_of_Week</th>\n",
       "      <th>Hour</th>\n",
       "      <th>Minute</th>\n",
       "      <th>Traffic</th>\n",
       "      <th>Game</th>\n",
       "    </tr>\n",
       "  </thead>\n",
       "  <tbody>\n",
       "    <tr>\n",
       "      <th>0</th>\n",
       "      <td>0</td>\n",
       "      <td>7</td>\n",
       "      <td>35</td>\n",
       "      <td>23</td>\n",
       "      <td>0</td>\n",
       "    </tr>\n",
       "    <tr>\n",
       "      <th>1</th>\n",
       "      <td>0</td>\n",
       "      <td>7</td>\n",
       "      <td>40</td>\n",
       "      <td>42</td>\n",
       "      <td>0</td>\n",
       "    </tr>\n",
       "    <tr>\n",
       "      <th>2</th>\n",
       "      <td>0</td>\n",
       "      <td>7</td>\n",
       "      <td>45</td>\n",
       "      <td>37</td>\n",
       "      <td>0</td>\n",
       "    </tr>\n",
       "    <tr>\n",
       "      <th>3</th>\n",
       "      <td>0</td>\n",
       "      <td>7</td>\n",
       "      <td>50</td>\n",
       "      <td>24</td>\n",
       "      <td>0</td>\n",
       "    </tr>\n",
       "    <tr>\n",
       "      <th>4</th>\n",
       "      <td>0</td>\n",
       "      <td>7</td>\n",
       "      <td>55</td>\n",
       "      <td>39</td>\n",
       "      <td>0</td>\n",
       "    </tr>\n",
       "    <tr>\n",
       "      <th>...</th>\n",
       "      <td>...</td>\n",
       "      <td>...</td>\n",
       "      <td>...</td>\n",
       "      <td>...</td>\n",
       "      <td>...</td>\n",
       "    </tr>\n",
       "    <tr>\n",
       "      <th>47492</th>\n",
       "      <td>4</td>\n",
       "      <td>23</td>\n",
       "      <td>45</td>\n",
       "      <td>14</td>\n",
       "      <td>0</td>\n",
       "    </tr>\n",
       "    <tr>\n",
       "      <th>47493</th>\n",
       "      <td>4</td>\n",
       "      <td>23</td>\n",
       "      <td>50</td>\n",
       "      <td>12</td>\n",
       "      <td>0</td>\n",
       "    </tr>\n",
       "    <tr>\n",
       "      <th>47494</th>\n",
       "      <td>4</td>\n",
       "      <td>23</td>\n",
       "      <td>55</td>\n",
       "      <td>8</td>\n",
       "      <td>0</td>\n",
       "    </tr>\n",
       "    <tr>\n",
       "      <th>47495</th>\n",
       "      <td>5</td>\n",
       "      <td>0</td>\n",
       "      <td>0</td>\n",
       "      <td>13</td>\n",
       "      <td>0</td>\n",
       "    </tr>\n",
       "    <tr>\n",
       "      <th>47496</th>\n",
       "      <td>5</td>\n",
       "      <td>0</td>\n",
       "      <td>5</td>\n",
       "      <td>13</td>\n",
       "      <td>0</td>\n",
       "    </tr>\n",
       "  </tbody>\n",
       "</table>\n",
       "<p>47497 rows × 5 columns</p>\n",
       "</div>"
      ],
      "text/plain": [
       "       Day_of_Week  Hour  Minute  Traffic  Game\n",
       "0                0     7      35       23     0\n",
       "1                0     7      40       42     0\n",
       "2                0     7      45       37     0\n",
       "3                0     7      50       24     0\n",
       "4                0     7      55       39     0\n",
       "...            ...   ...     ...      ...   ...\n",
       "47492            4    23      45       14     0\n",
       "47493            4    23      50       12     0\n",
       "47494            4    23      55        8     0\n",
       "47495            5     0       0       13     0\n",
       "47496            5     0       5       13     0\n",
       "\n",
       "[47497 rows x 5 columns]"
      ]
     },
     "execution_count": 32,
     "metadata": {},
     "output_type": "execute_result"
    }
   ],
   "source": [
    "df_traffic"
   ]
  },
  {
   "cell_type": "code",
   "execution_count": 33,
   "id": "1c06fe52-46d6-46fc-b6fd-906ee537840d",
   "metadata": {},
   "outputs": [],
   "source": [
    "df_traffic.to_csv(\"New_Dodgers_Traffic.csv\", index=False)"
   ]
  },
  {
   "cell_type": "markdown",
   "id": "f18c1603-c2be-4a76-bc65-91ec0690b856",
   "metadata": {},
   "source": [
    "### Description of Cleaned Traffic Dataset"
   ]
  },
  {
   "cell_type": "markdown",
   "id": "17add605-cb75-4976-b9a4-9852603815c6",
   "metadata": {},
   "source": [
    "**Basic Summary of Dataset**"
   ]
  },
  {
   "cell_type": "code",
   "execution_count": 34,
   "id": "f8da3e88-1802-4b88-81da-d84e72017704",
   "metadata": {},
   "outputs": [
    {
     "data": {
      "text/plain": [
       "(47497, 5)"
      ]
     },
     "execution_count": 34,
     "metadata": {},
     "output_type": "execute_result"
    }
   ],
   "source": [
    "df_traffic.shape"
   ]
  },
  {
   "cell_type": "code",
   "execution_count": 35,
   "id": "3dd15e99-957f-4764-adff-d188e831c667",
   "metadata": {},
   "outputs": [
    {
     "name": "stdout",
     "output_type": "stream",
     "text": [
      "<class 'pandas.core.frame.DataFrame'>\n",
      "RangeIndex: 47497 entries, 0 to 47496\n",
      "Data columns (total 5 columns):\n",
      " #   Column       Non-Null Count  Dtype\n",
      "---  ------       --------------  -----\n",
      " 0   Day_of_Week  47497 non-null  int64\n",
      " 1   Hour         47497 non-null  int64\n",
      " 2   Minute       47497 non-null  int64\n",
      " 3   Traffic      47497 non-null  int64\n",
      " 4   Game         47497 non-null  int64\n",
      "dtypes: int64(5)\n",
      "memory usage: 1.8 MB\n"
     ]
    }
   ],
   "source": [
    "df_traffic.info()"
   ]
  },
  {
   "cell_type": "markdown",
   "id": "6123c530-8933-4735-95a4-0f8a48ee8a40",
   "metadata": {},
   "source": [
    "**Unusual Inbalance between datapoints that occur between game intervals and non game datapoints**"
   ]
  },
  {
   "cell_type": "code",
   "execution_count": 39,
   "id": "174b7c0d-bfe0-4994-83e6-0f296a2a665e",
   "metadata": {},
   "outputs": [
    {
     "data": {
      "text/html": [
       "<div>\n",
       "<style scoped>\n",
       "    .dataframe tbody tr th:only-of-type {\n",
       "        vertical-align: middle;\n",
       "    }\n",
       "\n",
       "    .dataframe tbody tr th {\n",
       "        vertical-align: top;\n",
       "    }\n",
       "\n",
       "    .dataframe thead th {\n",
       "        text-align: right;\n",
       "    }\n",
       "</style>\n",
       "<table border=\"1\" class=\"dataframe\">\n",
       "  <thead>\n",
       "    <tr style=\"text-align: right;\">\n",
       "      <th></th>\n",
       "      <th>Value Count</th>\n",
       "    </tr>\n",
       "  </thead>\n",
       "  <tbody>\n",
       "    <tr>\n",
       "      <th>No Dodgers Games</th>\n",
       "      <td>43378</td>\n",
       "    </tr>\n",
       "    <tr>\n",
       "      <th>Dodgers Game</th>\n",
       "      <td>4119</td>\n",
       "    </tr>\n",
       "  </tbody>\n",
       "</table>\n",
       "</div>"
      ],
      "text/plain": [
       "                  Value Count\n",
       "No Dodgers Games        43378\n",
       "Dodgers Game             4119"
      ]
     },
     "execution_count": 39,
     "metadata": {},
     "output_type": "execute_result"
    }
   ],
   "source": [
    "Values = pd.DataFrame({\"Value Count\": df_traffic.Game.value_counts()})\n",
    "Values.rename(index = {0: \"No Dodgers Games\",\n",
    "                       1: \"Dodgers Game\"}, inplace = True)\n",
    "\n",
    "Values"
   ]
  },
  {
   "cell_type": "code",
   "execution_count": 40,
   "id": "617a0ccc-7997-4922-9013-ddd0a7fd95b5",
   "metadata": {},
   "outputs": [
    {
     "data": {
      "image/png": "[encoded data removed]",
      "text/plain": [
       "<Figure size 576x288 with 1 Axes>"
      ]
     },
     "metadata": {
      "needs_background": "light"
     },
     "output_type": "display_data"
    }
   ],
   "source": [
    "figure = plt.figure(figsize = (8,4))\n",
    "Values[\"Value Count\"].plot(kind=\"barh\")\n",
    "plt.title(\"Imbalanced Number of Data Points\")\n",
    "plt.xlabel(\"Number of Entires\")\n",
    "plt.savefig('Inbalanced_barchart.png', bbox_inches='tight')"
   ]
  },
  {
   "cell_type": "markdown",
   "id": "60434e55-e65b-4e88-b446-c9d08631615e",
   "metadata": {},
   "source": [
    "### Creating a balanced dataset"
   ]
  },
  {
   "cell_type": "markdown",
   "id": "97223bf8-952c-438a-a694-f52bac4df2e4",
   "metadata": {},
   "source": [
    "Due to this drastic difference in the number of entries that do and do not occur around a Dodgers game, we decided to resampled the Traffic dataset to include a total of 4200 data points of Traffic for when their was no dodgers game happening, in order to balance out the Dataset. "
   ]
  },
  {
   "cell_type": "code",
   "execution_count": 41,
   "id": "c06e8639-5021-4b5e-b0e3-e33d11765ae9",
   "metadata": {},
   "outputs": [],
   "source": [
    "Game = df_traffic.query(\"Game == 1\")\n",
    "No_Game = df_traffic.query(\"Game == 0\")\n",
    "No_Game_resampled = resample(No_Game, n_samples = 4200)\n",
    "balanced_traffic = pd.concat([Game, No_Game_resampled], axis = 0)\n",
    "balanced_traffic.reset_index(drop = True, inplace=True)\n",
    "balanced_traffic\n",
    "\n",
    "balanced_traffic.to_csv(\"Balanced_New_Dodgers_Traffic.csv\", index=False)"
   ]
  },
  {
   "cell_type": "code",
   "execution_count": 42,
   "id": "cd12e23b-98f8-45cd-ad5b-a56ada9a3ab1",
   "metadata": {},
   "outputs": [
    {
     "data": {
      "text/html": [
       "<div>\n",
       "<style scoped>\n",
       "    .dataframe tbody tr th:only-of-type {\n",
       "        vertical-align: middle;\n",
       "    }\n",
       "\n",
       "    .dataframe tbody tr th {\n",
       "        vertical-align: top;\n",
       "    }\n",
       "\n",
       "    .dataframe thead th {\n",
       "        text-align: right;\n",
       "    }\n",
       "</style>\n",
       "<table border=\"1\" class=\"dataframe\">\n",
       "  <thead>\n",
       "    <tr style=\"text-align: right;\">\n",
       "      <th></th>\n",
       "      <th>Day_of_Week</th>\n",
       "      <th>Hour</th>\n",
       "      <th>Minute</th>\n",
       "      <th>Traffic</th>\n",
       "      <th>Game</th>\n",
       "    </tr>\n",
       "  </thead>\n",
       "  <tbody>\n",
       "    <tr>\n",
       "      <th>0</th>\n",
       "      <td>1</td>\n",
       "      <td>12</td>\n",
       "      <td>40</td>\n",
       "      <td>40</td>\n",
       "      <td>1</td>\n",
       "    </tr>\n",
       "    <tr>\n",
       "      <th>1</th>\n",
       "      <td>1</td>\n",
       "      <td>12</td>\n",
       "      <td>45</td>\n",
       "      <td>13</td>\n",
       "      <td>1</td>\n",
       "    </tr>\n",
       "    <tr>\n",
       "      <th>2</th>\n",
       "      <td>1</td>\n",
       "      <td>12</td>\n",
       "      <td>50</td>\n",
       "      <td>34</td>\n",
       "      <td>1</td>\n",
       "    </tr>\n",
       "    <tr>\n",
       "      <th>3</th>\n",
       "      <td>1</td>\n",
       "      <td>12</td>\n",
       "      <td>55</td>\n",
       "      <td>30</td>\n",
       "      <td>1</td>\n",
       "    </tr>\n",
       "    <tr>\n",
       "      <th>4</th>\n",
       "      <td>1</td>\n",
       "      <td>13</td>\n",
       "      <td>0</td>\n",
       "      <td>34</td>\n",
       "      <td>1</td>\n",
       "    </tr>\n",
       "    <tr>\n",
       "      <th>...</th>\n",
       "      <td>...</td>\n",
       "      <td>...</td>\n",
       "      <td>...</td>\n",
       "      <td>...</td>\n",
       "      <td>...</td>\n",
       "    </tr>\n",
       "    <tr>\n",
       "      <th>8314</th>\n",
       "      <td>3</td>\n",
       "      <td>5</td>\n",
       "      <td>20</td>\n",
       "      <td>7</td>\n",
       "      <td>0</td>\n",
       "    </tr>\n",
       "    <tr>\n",
       "      <th>8315</th>\n",
       "      <td>4</td>\n",
       "      <td>1</td>\n",
       "      <td>20</td>\n",
       "      <td>1</td>\n",
       "      <td>0</td>\n",
       "    </tr>\n",
       "    <tr>\n",
       "      <th>8316</th>\n",
       "      <td>5</td>\n",
       "      <td>7</td>\n",
       "      <td>20</td>\n",
       "      <td>6</td>\n",
       "      <td>0</td>\n",
       "    </tr>\n",
       "    <tr>\n",
       "      <th>8317</th>\n",
       "      <td>6</td>\n",
       "      <td>8</td>\n",
       "      <td>50</td>\n",
       "      <td>18</td>\n",
       "      <td>0</td>\n",
       "    </tr>\n",
       "    <tr>\n",
       "      <th>8318</th>\n",
       "      <td>1</td>\n",
       "      <td>2</td>\n",
       "      <td>30</td>\n",
       "      <td>3</td>\n",
       "      <td>0</td>\n",
       "    </tr>\n",
       "  </tbody>\n",
       "</table>\n",
       "<p>8319 rows × 5 columns</p>\n",
       "</div>"
      ],
      "text/plain": [
       "      Day_of_Week  Hour  Minute  Traffic  Game\n",
       "0               1    12      40       40     1\n",
       "1               1    12      45       13     1\n",
       "2               1    12      50       34     1\n",
       "3               1    12      55       30     1\n",
       "4               1    13       0       34     1\n",
       "...           ...   ...     ...      ...   ...\n",
       "8314            3     5      20        7     0\n",
       "8315            4     1      20        1     0\n",
       "8316            5     7      20        6     0\n",
       "8317            6     8      50       18     0\n",
       "8318            1     2      30        3     0\n",
       "\n",
       "[8319 rows x 5 columns]"
      ]
     },
     "execution_count": 42,
     "metadata": {},
     "output_type": "execute_result"
    }
   ],
   "source": [
    "balanced_traffic"
   ]
  },
  {
   "cell_type": "markdown",
   "id": "fa892bad-c977-46b1-aedb-1432c9c2d66c",
   "metadata": {},
   "source": [
    "### Dataset Descriprion of Balanced Dataset"
   ]
  },
  {
   "cell_type": "markdown",
   "id": "f974e974-acb4-44dc-a872-bba202b95ccf",
   "metadata": {},
   "source": [
    "**Basic Summary of Dataset**"
   ]
  },
  {
   "cell_type": "code",
   "execution_count": 43,
   "id": "cbd72381-666e-4622-8e96-ad398347190a",
   "metadata": {},
   "outputs": [
    {
     "data": {
      "text/plain": [
       "(8319, 5)"
      ]
     },
     "execution_count": 43,
     "metadata": {},
     "output_type": "execute_result"
    }
   ],
   "source": [
    "balanced_traffic.shape"
   ]
  },
  {
   "cell_type": "code",
   "execution_count": 44,
   "id": "f89bbad1-c705-4f38-9812-1f995bdd270c",
   "metadata": {},
   "outputs": [
    {
     "name": "stdout",
     "output_type": "stream",
     "text": [
      "<class 'pandas.core.frame.DataFrame'>\n",
      "RangeIndex: 8319 entries, 0 to 8318\n",
      "Data columns (total 5 columns):\n",
      " #   Column       Non-Null Count  Dtype\n",
      "---  ------       --------------  -----\n",
      " 0   Day_of_Week  8319 non-null   int64\n",
      " 1   Hour         8319 non-null   int64\n",
      " 2   Minute       8319 non-null   int64\n",
      " 3   Traffic      8319 non-null   int64\n",
      " 4   Game         8319 non-null   int64\n",
      "dtypes: int64(5)\n",
      "memory usage: 325.1 KB\n"
     ]
    }
   ],
   "source": [
    "balanced_traffic.info()"
   ]
  },
  {
   "cell_type": "markdown",
   "id": "6e40893f-8d3f-487a-8c1f-97e58b46a93b",
   "metadata": {},
   "source": [
    "**Interesting Statistics**"
   ]
  },
  {
   "cell_type": "markdown",
   "id": "406ff6c8-fb7e-4b20-a408-3007a4ce1375",
   "metadata": {},
   "source": [
    "Comparing the distributions of the car counts of the balanced dataset, the car count or traffic distribution around the time Dodgers games ends sees a higher frequency of higher car counts compared to non Dodgers game ending intervals"
   ]
  },
  {
   "cell_type": "code",
   "execution_count": 45,
   "id": "20dd0df5-0b84-44ba-a36e-8a391d16b2af",
   "metadata": {},
   "outputs": [
    {
     "data": {
      "image/png": "[encoded data removed]",
      "text/plain": [
       "<Figure size 864x864 with 3 Axes>"
      ]
     },
     "metadata": {
      "needs_background": "light"
     },
     "output_type": "display_data"
    }
   ],
   "source": [
    "figure1, axes = plt.subplots(3,1, figsize=(12,12), sharex=True, sharey= True)\n",
    "sns.histplot(data=balanced_traffic, x=\"Traffic\", binwidth = 2, ax=axes[0]).set(title = \"Overall Traffic Distribution\", \n",
    "                                                                      xlabel = \"Car Count\",\n",
    "                                                                      ylabel = \"Occurance\")\n",
    "\n",
    "sns.histplot(data=balanced_traffic.query(\"Game == 1\"), x=\"Traffic\", binwidth = 2, ax=axes[1]).set(\n",
    "    title = \"Traffic Distribution During Dodgers Games\", \n",
    "    xlabel = \"Car Count\",\n",
    "    ylabel = \"Occurance\")\n",
    "\n",
    "sns.histplot(data=balanced_traffic.query(\"Game == 0\"), x=\"Traffic\", binwidth = 2, ax=axes[2]).set(\n",
    "    title = \"Traffic Distribution Otherwise\", \n",
    "    xlabel = \"Car Count\",\n",
    "    ylabel = \"Occurance\")\n",
    "\n",
    "plt.savefig('Traffic_Count_Distributions.png', bbox_inches='tight')"
   ]
  },
  {
   "cell_type": "markdown",
   "id": "26b7ace0-9106-4ef9-b4d2-d67cb6447d73",
   "metadata": {},
   "source": [
    "Wanting to see how Dodgers the ending games affects the total car by time, we created a bar chart containing the number of 5-minute intervals around the ending of a Dodgers and a heatmap heatmap for the total car count by minute (x-axis) and hour (y-axis). In doing so we see that the total car count increases around the time that a Dodgers game ends"
   ]
  },
  {
   "cell_type": "code",
   "execution_count": 46,
   "id": "797aca75-ba71-434e-9a83-3094885f3e6b",
   "metadata": {},
   "outputs": [],
   "source": [
    "#Heat map preperations\n",
    "traffic_table = pd.DataFrame(balanced_traffic.Traffic.groupby([balanced_traffic.Hour,balanced_traffic.Minute]).sum())\n",
    "traffic_table.rename_axis([\"hour\", \"minute\"], inplace=True)\n",
    "traffic_table = traffic_table.reset_index()\n",
    "traffic_table = traffic_table.pivot(\"hour\", \"minute\", \"Traffic\")"
   ]
  },
  {
   "cell_type": "code",
   "execution_count": 47,
   "id": "20a160c5-9c96-442c-8b6f-c3992d5ee1eb",
   "metadata": {},
   "outputs": [],
   "source": [
    "Gametime_hours = balanced_traffic.query(\"Game == 1\").Hour.groupby(balanced_traffic.query(\"Game == 1\").Hour).count()"
   ]
  },
  {
   "cell_type": "code",
   "execution_count": 48,
   "id": "c97ac229-b188-4c5c-834a-e20512c08868",
   "metadata": {},
   "outputs": [
    {
     "data": {
      "image/png": "[encoded data removed]",
      "text/plain": [
       "<Figure size 1944x648 with 3 Axes>"
      ]
     },
     "metadata": {
      "needs_background": "light"
     },
     "output_type": "display_data"
    }
   ],
   "source": [
    "figure2 = plt.figure(figsize=(27,9))\n",
    "\n",
    "ax1 = figure2.add_subplot(121)\n",
    "Gametime_hours.plot(kind=\"barh\", grid=True)\n",
    "plt.title(\"5-minute Intervals During and Around Dodgers Games by Hour\")\n",
    "plt.ylabel(\"Hour\")\n",
    "plt.xlabel(\"Number of 5-minute Intervals Around the Endtime of Dodgers Games\")\n",
    "\n",
    "ax2 = figure2.add_subplot(122)\n",
    "sns.heatmap(traffic_table, cmap='Blues', linewidths=.5, linecolor='black')\n",
    "plt.title(\"Total Car Count by Minute and Hour\")\n",
    "plt.ylabel(\"Hour\")\n",
    "plt.xlabel(\"Minute\")\n",
    "plt.yticks(rotation=0)\n",
    "\n",
    "plt.savefig('Game_Ending_Intervals_and_Total_Traffic_Count.png', bbox_inches='tight')"
   ]
  },
  {
   "cell_type": "markdown",
   "id": "e2fae608-4556-40c4-b33d-e05958e6b14e",
   "metadata": {},
   "source": [
    "### Final Processesing Before Working on Models"
   ]
  },
  {
   "cell_type": "markdown",
   "id": "61602a2d-d1af-4eb2-afa0-a3eb0efcf3e9",
   "metadata": {},
   "source": [
    "**Note:** We wanted to include time in our models. We Initially did do one hot encoding, however we came to the conlcusion that since measurements of time are not categorical but interval we tried looking for some other ways.\n",
    "\n",
    "*One Hot Encoding The Day of Week, Hour, and Minute Columns*    \n",
    "We considered ways to encode or transform the date data in someway that made sense rather than just pulling out the the number day of the week, and hour and minute of day it was. One our first thoughs was using one hot. We used the One Hot Encoder documentation <a href=\"https://scikit-learn.org/0.24/modules/generated/sklearn.preprocessing.OneHotEncoder.html?highlight=one%20hot%20encoding?\">page</a> on the Scikit Learn documentation website to help with the function.  We were having trouble with how the column headers were being stored, since initially didn't account for the columns being stored as MultiIndexes, where each column value was a tuple. The line encoded_column_df.columns.get_level_values() to help get the column headers the way that we wanted them formatted, which we used one of the documentation <a href=\"https://pandas.pydata.org/pandas-docs/version/1.2/user_guide/advanced.html?\">pages</a> on the pandas documentation website for some help with the MultiIndex problem. See commented out cells, if you want to see what we had worked on from one of our previous notebooks.*\n"
   ]
  },
  {
   "cell_type": "code",
   "execution_count": 49,
   "id": "e0938fdf-36be-4448-8643-30eab84a89b0",
   "metadata": {},
   "outputs": [],
   "source": [
    "#encoder = OneHotEncoder(handle_unknown='ignore')"
   ]
  },
  {
   "cell_type": "code",
   "execution_count": 50,
   "id": "3c969d8b-1226-4707-bffc-2c9846907439",
   "metadata": {},
   "outputs": [],
   "source": [
    "#column_data = np.array(balanced_traffic.Day_of_Week).reshape(-1, 1)\n",
    "#column_data = encoder.fit_transform(column_data).toarray()\n",
    "#encoded_column_df = pd.DataFrame(column_data, columns=encoder.categories_)\n",
    "#print(encoded_column_df.columns)"
   ]
  },
  {
   "cell_type": "code",
   "execution_count": 51,
   "id": "6be018dd-80a3-40df-8d39-f5e53d075f4b",
   "metadata": {},
   "outputs": [],
   "source": [
    "#def one_hot_encoding_data(column_name):\n",
    "    #column_data = np.array(column_name).reshape(-1, 1)\n",
    "    #column_data = encoder.fit_transform(column_data).toarray()\n",
    "    #encoded_column_df = pd.DataFrame(column_data, columns=encoder.categories_)\n",
    "    #encoded_column_df.columns = encoded_column_df.columns.get_level_values(0)\n",
    "    #return encoded_column_df\n",
    "\n",
    "##*Passing the individual balanced_traffic columns through the one_hot_encoding_data and renaming the columns of the resulting dataframe to an appropriate column header*\n",
    "#day_of_week_encoded = one_hot_encoding_data(balanced_traffic.Day_of_Week)\n",
    "#day_of_week_encoded.rename(columns={0:\"Monday\", 1:\"Tuesday\", 2:\"Wednesday\", 3:\"Thursday\", 4:\"Friday\", 5:\"Saturday\", 6:\"Sunday\"}, inplace=True)\n",
    "\n",
    "##Dropping the Day_of_Week column from the balanced traffic dataframe, so that we can concatenate the day_of_week_encoded dataframe with what remains in the balanced_traffic dataframe*\n",
    "#balanced_traffic.drop([\"Day_of_Week\"], axis=1, inplace=True)\n",
    "#encoded_balanced_traffic = pd.concat([day_of_week_encoded, balanced_traffic], axis=1)\n",
    "\n"
   ]
  },
  {
   "cell_type": "markdown",
   "id": "4acbbfb5-7ad4-4b8d-b316-a9d0fb09897f",
   "metadata": {},
   "source": [
    "We decided to follow Pierre-Louis Bescond way of going about encoding for cyclical features like time, by normalizing the data point to be within 0 and 2pi, then taking the cosine and sin of that result. Following the instructions from the towards datascience page, the codes below are what came out of it. This felt like a better move since it helps keep the cycled nature of time\n",
    "\n",
    "Reference: Pierre-Louis Bescond (2020). Cyclical features encoding, it’s about time! Towards Data Science. Retrieved April 31, 2022, from <a href=\"https://towardsdatascience.com/cyclical-features-encoding-its-about-time-ce23581845ca?\">link</a>\n"
   ]
  },
  {
   "cell_type": "code",
   "execution_count": 52,
   "id": "33b78efa-96e7-4e6a-9dd2-2d95df8c2703",
   "metadata": {},
   "outputs": [
    {
     "data": {
      "text/html": [
       "<div>\n",
       "<style scoped>\n",
       "    .dataframe tbody tr th:only-of-type {\n",
       "        vertical-align: middle;\n",
       "    }\n",
       "\n",
       "    .dataframe tbody tr th {\n",
       "        vertical-align: top;\n",
       "    }\n",
       "\n",
       "    .dataframe thead th {\n",
       "        text-align: right;\n",
       "    }\n",
       "</style>\n",
       "<table border=\"1\" class=\"dataframe\">\n",
       "  <thead>\n",
       "    <tr style=\"text-align: right;\">\n",
       "      <th></th>\n",
       "      <th>Day_of_Week_norm</th>\n",
       "      <th>Day_of_Week_cos</th>\n",
       "      <th>Day_of_Week_sin</th>\n",
       "    </tr>\n",
       "  </thead>\n",
       "  <tbody>\n",
       "    <tr>\n",
       "      <th>0</th>\n",
       "      <td>1.047198</td>\n",
       "      <td>0.5</td>\n",
       "      <td>8.660254e-01</td>\n",
       "    </tr>\n",
       "    <tr>\n",
       "      <th>1</th>\n",
       "      <td>1.047198</td>\n",
       "      <td>0.5</td>\n",
       "      <td>8.660254e-01</td>\n",
       "    </tr>\n",
       "    <tr>\n",
       "      <th>2</th>\n",
       "      <td>1.047198</td>\n",
       "      <td>0.5</td>\n",
       "      <td>8.660254e-01</td>\n",
       "    </tr>\n",
       "    <tr>\n",
       "      <th>3</th>\n",
       "      <td>1.047198</td>\n",
       "      <td>0.5</td>\n",
       "      <td>8.660254e-01</td>\n",
       "    </tr>\n",
       "    <tr>\n",
       "      <th>4</th>\n",
       "      <td>1.047198</td>\n",
       "      <td>0.5</td>\n",
       "      <td>8.660254e-01</td>\n",
       "    </tr>\n",
       "    <tr>\n",
       "      <th>...</th>\n",
       "      <td>...</td>\n",
       "      <td>...</td>\n",
       "      <td>...</td>\n",
       "    </tr>\n",
       "    <tr>\n",
       "      <th>8314</th>\n",
       "      <td>3.141593</td>\n",
       "      <td>-1.0</td>\n",
       "      <td>1.224647e-16</td>\n",
       "    </tr>\n",
       "    <tr>\n",
       "      <th>8315</th>\n",
       "      <td>4.188790</td>\n",
       "      <td>-0.5</td>\n",
       "      <td>-8.660254e-01</td>\n",
       "    </tr>\n",
       "    <tr>\n",
       "      <th>8316</th>\n",
       "      <td>5.235988</td>\n",
       "      <td>0.5</td>\n",
       "      <td>-8.660254e-01</td>\n",
       "    </tr>\n",
       "    <tr>\n",
       "      <th>8317</th>\n",
       "      <td>6.283185</td>\n",
       "      <td>1.0</td>\n",
       "      <td>-2.449294e-16</td>\n",
       "    </tr>\n",
       "    <tr>\n",
       "      <th>8318</th>\n",
       "      <td>1.047198</td>\n",
       "      <td>0.5</td>\n",
       "      <td>8.660254e-01</td>\n",
       "    </tr>\n",
       "  </tbody>\n",
       "</table>\n",
       "<p>8319 rows × 3 columns</p>\n",
       "</div>"
      ],
      "text/plain": [
       "      Day_of_Week_norm  Day_of_Week_cos  Day_of_Week_sin\n",
       "0             1.047198              0.5     8.660254e-01\n",
       "1             1.047198              0.5     8.660254e-01\n",
       "2             1.047198              0.5     8.660254e-01\n",
       "3             1.047198              0.5     8.660254e-01\n",
       "4             1.047198              0.5     8.660254e-01\n",
       "...                ...              ...              ...\n",
       "8314          3.141593             -1.0     1.224647e-16\n",
       "8315          4.188790             -0.5    -8.660254e-01\n",
       "8316          5.235988              0.5    -8.660254e-01\n",
       "8317          6.283185              1.0    -2.449294e-16\n",
       "8318          1.047198              0.5     8.660254e-01\n",
       "\n",
       "[8319 rows x 3 columns]"
      ]
     },
     "execution_count": 52,
     "metadata": {},
     "output_type": "execute_result"
    }
   ],
   "source": [
    "day_transformation = pd.DataFrame(columns=[\"Day_of_Week_norm\"])\n",
    "day_transformation[\"Day_of_Week_norm\"] = ((2 * np.pi * balanced_traffic[\"Day_of_Week\"]) / (balanced_traffic[\"Day_of_Week\"].max()))\n",
    "day_transformation[\"Day_of_Week_cos\"] = np.cos(day_transformation[\"Day_of_Week_norm\"])\n",
    "day_transformation[\"Day_of_Week_sin\"] = np.sin(day_transformation[\"Day_of_Week_norm\"])\n",
    "day_transformation"
   ]
  },
  {
   "cell_type": "code",
   "execution_count": 53,
   "id": "cc7afad1-2695-4d97-8b7a-8b5ca62b96c2",
   "metadata": {},
   "outputs": [
    {
     "data": {
      "image/png": "[encoded data removed]",
      "text/plain": [
       "<Figure size 432x432 with 1 Axes>"
      ]
     },
     "metadata": {
      "needs_background": "light"
     },
     "output_type": "display_data"
    }
   ],
   "source": [
    "figure = plt.figure(figsize=(6,6))\n",
    "plt.scatter(day_transformation.Day_of_Week_sin, day_transformation.Day_of_Week_cos)\n",
    "plt.xlabel(\"Sine\")\n",
    "plt.ylabel(\"Cosine\")\n",
    "plt.title(\"Day of Week Transformation\")\n",
    "plt.savefig('day_transformation_graph.png', bbox_inches='tight')"
   ]
  },
  {
   "cell_type": "code",
   "execution_count": 54,
   "id": "99a51934-65c9-4dd1-8c30-59ae96ebb532",
   "metadata": {},
   "outputs": [
    {
     "data": {
      "text/html": [
       "<div>\n",
       "<style scoped>\n",
       "    .dataframe tbody tr th:only-of-type {\n",
       "        vertical-align: middle;\n",
       "    }\n",
       "\n",
       "    .dataframe tbody tr th {\n",
       "        vertical-align: top;\n",
       "    }\n",
       "\n",
       "    .dataframe thead th {\n",
       "        text-align: right;\n",
       "    }\n",
       "</style>\n",
       "<table border=\"1\" class=\"dataframe\">\n",
       "  <thead>\n",
       "    <tr style=\"text-align: right;\">\n",
       "      <th></th>\n",
       "      <th>Hour_norm</th>\n",
       "      <th>Hour_cos</th>\n",
       "      <th>Hour_sin</th>\n",
       "    </tr>\n",
       "  </thead>\n",
       "  <tbody>\n",
       "    <tr>\n",
       "      <th>0</th>\n",
       "      <td>3.278184</td>\n",
       "      <td>-0.990686</td>\n",
       "      <td>-0.136167</td>\n",
       "    </tr>\n",
       "    <tr>\n",
       "      <th>1</th>\n",
       "      <td>3.278184</td>\n",
       "      <td>-0.990686</td>\n",
       "      <td>-0.136167</td>\n",
       "    </tr>\n",
       "    <tr>\n",
       "      <th>2</th>\n",
       "      <td>3.278184</td>\n",
       "      <td>-0.990686</td>\n",
       "      <td>-0.136167</td>\n",
       "    </tr>\n",
       "    <tr>\n",
       "      <th>3</th>\n",
       "      <td>3.278184</td>\n",
       "      <td>-0.990686</td>\n",
       "      <td>-0.136167</td>\n",
       "    </tr>\n",
       "    <tr>\n",
       "      <th>4</th>\n",
       "      <td>3.551366</td>\n",
       "      <td>-0.917211</td>\n",
       "      <td>-0.398401</td>\n",
       "    </tr>\n",
       "    <tr>\n",
       "      <th>...</th>\n",
       "      <td>...</td>\n",
       "      <td>...</td>\n",
       "      <td>...</td>\n",
       "    </tr>\n",
       "    <tr>\n",
       "      <th>8314</th>\n",
       "      <td>1.365910</td>\n",
       "      <td>0.203456</td>\n",
       "      <td>0.979084</td>\n",
       "    </tr>\n",
       "    <tr>\n",
       "      <th>8315</th>\n",
       "      <td>0.273182</td>\n",
       "      <td>0.962917</td>\n",
       "      <td>0.269797</td>\n",
       "    </tr>\n",
       "    <tr>\n",
       "      <th>8316</th>\n",
       "      <td>1.912274</td>\n",
       "      <td>-0.334880</td>\n",
       "      <td>0.942261</td>\n",
       "    </tr>\n",
       "    <tr>\n",
       "      <th>8317</th>\n",
       "      <td>2.185456</td>\n",
       "      <td>-0.576680</td>\n",
       "      <td>0.816970</td>\n",
       "    </tr>\n",
       "    <tr>\n",
       "      <th>8318</th>\n",
       "      <td>0.546364</td>\n",
       "      <td>0.854419</td>\n",
       "      <td>0.519584</td>\n",
       "    </tr>\n",
       "  </tbody>\n",
       "</table>\n",
       "<p>8319 rows × 3 columns</p>\n",
       "</div>"
      ],
      "text/plain": [
       "      Hour_norm  Hour_cos  Hour_sin\n",
       "0      3.278184 -0.990686 -0.136167\n",
       "1      3.278184 -0.990686 -0.136167\n",
       "2      3.278184 -0.990686 -0.136167\n",
       "3      3.278184 -0.990686 -0.136167\n",
       "4      3.551366 -0.917211 -0.398401\n",
       "...         ...       ...       ...\n",
       "8314   1.365910  0.203456  0.979084\n",
       "8315   0.273182  0.962917  0.269797\n",
       "8316   1.912274 -0.334880  0.942261\n",
       "8317   2.185456 -0.576680  0.816970\n",
       "8318   0.546364  0.854419  0.519584\n",
       "\n",
       "[8319 rows x 3 columns]"
      ]
     },
     "execution_count": 54,
     "metadata": {},
     "output_type": "execute_result"
    }
   ],
   "source": [
    "hr_transformation = pd.DataFrame(columns=[\"Hour_norm\"])\n",
    "hr_transformation[\"Hour_norm\"] = 2 * np.pi * balanced_traffic[\"Hour\"] / balanced_traffic[\"Hour\"].max()\n",
    "hr_transformation[\"Hour_cos\"] = np.cos(hr_transformation[\"Hour_norm\"])\n",
    "hr_transformation[\"Hour_sin\"] = np.sin(hr_transformation[\"Hour_norm\"])\n",
    "hr_transformation"
   ]
  },
  {
   "cell_type": "code",
   "execution_count": 55,
   "id": "f56a7838-9759-4cc8-9a1d-a29da10a39e9",
   "metadata": {},
   "outputs": [
    {
     "data": {
      "image/png": "[encoded data removed]",
      "text/plain": [
       "<Figure size 432x432 with 1 Axes>"
      ]
     },
     "metadata": {
      "needs_background": "light"
     },
     "output_type": "display_data"
    }
   ],
   "source": [
    "figure = plt.figure(figsize=(6,6))\n",
    "plt.scatter(hr_transformation.Hour_sin, hr_transformation.Hour_cos)\n",
    "plt.xlabel(\"Sine\")\n",
    "plt.ylabel(\"Cosine\")\n",
    "plt.title(\"Hour Transfromation\")\n",
    "plt.savefig('hr_transformation_graph.png', bbox_inches='tight')"
   ]
  },
  {
   "cell_type": "code",
   "execution_count": 56,
   "id": "112ad3a7-2c71-499f-b79d-30eb5e92546e",
   "metadata": {},
   "outputs": [
    {
     "data": {
      "text/html": [
       "<div>\n",
       "<style scoped>\n",
       "    .dataframe tbody tr th:only-of-type {\n",
       "        vertical-align: middle;\n",
       "    }\n",
       "\n",
       "    .dataframe tbody tr th {\n",
       "        vertical-align: top;\n",
       "    }\n",
       "\n",
       "    .dataframe thead th {\n",
       "        text-align: right;\n",
       "    }\n",
       "</style>\n",
       "<table border=\"1\" class=\"dataframe\">\n",
       "  <thead>\n",
       "    <tr style=\"text-align: right;\">\n",
       "      <th></th>\n",
       "      <th>Minute_norm</th>\n",
       "      <th>Min_cos</th>\n",
       "      <th>Min_sin</th>\n",
       "    </tr>\n",
       "  </thead>\n",
       "  <tbody>\n",
       "    <tr>\n",
       "      <th>0</th>\n",
       "      <td>4.569589</td>\n",
       "      <td>-0.142315</td>\n",
       "      <td>-9.898214e-01</td>\n",
       "    </tr>\n",
       "    <tr>\n",
       "      <th>1</th>\n",
       "      <td>5.140788</td>\n",
       "      <td>0.415415</td>\n",
       "      <td>-9.096320e-01</td>\n",
       "    </tr>\n",
       "    <tr>\n",
       "      <th>2</th>\n",
       "      <td>5.711987</td>\n",
       "      <td>0.841254</td>\n",
       "      <td>-5.406408e-01</td>\n",
       "    </tr>\n",
       "    <tr>\n",
       "      <th>3</th>\n",
       "      <td>6.283185</td>\n",
       "      <td>1.000000</td>\n",
       "      <td>-2.449294e-16</td>\n",
       "    </tr>\n",
       "    <tr>\n",
       "      <th>4</th>\n",
       "      <td>0.000000</td>\n",
       "      <td>1.000000</td>\n",
       "      <td>0.000000e+00</td>\n",
       "    </tr>\n",
       "    <tr>\n",
       "      <th>...</th>\n",
       "      <td>...</td>\n",
       "      <td>...</td>\n",
       "      <td>...</td>\n",
       "    </tr>\n",
       "    <tr>\n",
       "      <th>8314</th>\n",
       "      <td>2.284795</td>\n",
       "      <td>-0.654861</td>\n",
       "      <td>7.557496e-01</td>\n",
       "    </tr>\n",
       "    <tr>\n",
       "      <th>8315</th>\n",
       "      <td>2.284795</td>\n",
       "      <td>-0.654861</td>\n",
       "      <td>7.557496e-01</td>\n",
       "    </tr>\n",
       "    <tr>\n",
       "      <th>8316</th>\n",
       "      <td>2.284795</td>\n",
       "      <td>-0.654861</td>\n",
       "      <td>7.557496e-01</td>\n",
       "    </tr>\n",
       "    <tr>\n",
       "      <th>8317</th>\n",
       "      <td>5.711987</td>\n",
       "      <td>0.841254</td>\n",
       "      <td>-5.406408e-01</td>\n",
       "    </tr>\n",
       "    <tr>\n",
       "      <th>8318</th>\n",
       "      <td>3.427192</td>\n",
       "      <td>-0.959493</td>\n",
       "      <td>-2.817326e-01</td>\n",
       "    </tr>\n",
       "  </tbody>\n",
       "</table>\n",
       "<p>8319 rows × 3 columns</p>\n",
       "</div>"
      ],
      "text/plain": [
       "      Minute_norm   Min_cos       Min_sin\n",
       "0        4.569589 -0.142315 -9.898214e-01\n",
       "1        5.140788  0.415415 -9.096320e-01\n",
       "2        5.711987  0.841254 -5.406408e-01\n",
       "3        6.283185  1.000000 -2.449294e-16\n",
       "4        0.000000  1.000000  0.000000e+00\n",
       "...           ...       ...           ...\n",
       "8314     2.284795 -0.654861  7.557496e-01\n",
       "8315     2.284795 -0.654861  7.557496e-01\n",
       "8316     2.284795 -0.654861  7.557496e-01\n",
       "8317     5.711987  0.841254 -5.406408e-01\n",
       "8318     3.427192 -0.959493 -2.817326e-01\n",
       "\n",
       "[8319 rows x 3 columns]"
      ]
     },
     "execution_count": 56,
     "metadata": {},
     "output_type": "execute_result"
    }
   ],
   "source": [
    "min_transformation = pd.DataFrame(columns=[\"Minute_norm\"])\n",
    "min_transformation[\"Minute_norm\"] = 2 * np.pi * balanced_traffic[\"Minute\"] / balanced_traffic[\"Minute\"].max()\n",
    "min_transformation[\"Min_cos\"] = np.cos(min_transformation[\"Minute_norm\"])\n",
    "min_transformation[\"Min_sin\"] = np.sin(min_transformation[\"Minute_norm\"])\n",
    "min_transformation"
   ]
  },
  {
   "cell_type": "code",
   "execution_count": 57,
   "id": "b90cfce1-868d-4fcd-8110-99a2f91e0362",
   "metadata": {},
   "outputs": [
    {
     "data": {
      "image/png": "[encoded data removed]",
      "text/plain": [
       "<Figure size 432x432 with 1 Axes>"
      ]
     },
     "metadata": {
      "needs_background": "light"
     },
     "output_type": "display_data"
    }
   ],
   "source": [
    "figure = plt.figure(figsize=(6,6))\n",
    "plt.scatter(min_transformation.Min_sin, min_transformation.Min_cos)\n",
    "plt.xlabel(\"Sine\")\n",
    "plt.ylabel(\"Cosine\")\n",
    "plt.title(\"Minute Transfromation\")\n",
    "plt.savefig('min_transformation_graph.png', bbox_inches='tight')"
   ]
  },
  {
   "cell_type": "code",
   "execution_count": 58,
   "id": "1e9c8411-2131-4d61-a469-b44f06c4ec35",
   "metadata": {},
   "outputs": [
    {
     "data": {
      "text/html": [
       "<div>\n",
       "<style scoped>\n",
       "    .dataframe tbody tr th:only-of-type {\n",
       "        vertical-align: middle;\n",
       "    }\n",
       "\n",
       "    .dataframe tbody tr th {\n",
       "        vertical-align: top;\n",
       "    }\n",
       "\n",
       "    .dataframe thead th {\n",
       "        text-align: right;\n",
       "    }\n",
       "</style>\n",
       "<table border=\"1\" class=\"dataframe\">\n",
       "  <thead>\n",
       "    <tr style=\"text-align: right;\">\n",
       "      <th></th>\n",
       "      <th>Day_of_Week_norm</th>\n",
       "      <th>Day_of_Week_cos</th>\n",
       "      <th>Day_of_Week_sin</th>\n",
       "      <th>Hour_norm</th>\n",
       "      <th>Hour_cos</th>\n",
       "      <th>Hour_sin</th>\n",
       "      <th>Minute_norm</th>\n",
       "      <th>Min_cos</th>\n",
       "      <th>Min_sin</th>\n",
       "      <th>Day_of_Week</th>\n",
       "      <th>Hour</th>\n",
       "      <th>Minute</th>\n",
       "      <th>Traffic</th>\n",
       "      <th>Game</th>\n",
       "    </tr>\n",
       "  </thead>\n",
       "  <tbody>\n",
       "    <tr>\n",
       "      <th>0</th>\n",
       "      <td>1.047198</td>\n",
       "      <td>0.5</td>\n",
       "      <td>8.660254e-01</td>\n",
       "      <td>3.278184</td>\n",
       "      <td>-0.990686</td>\n",
       "      <td>-0.136167</td>\n",
       "      <td>4.569589</td>\n",
       "      <td>-0.142315</td>\n",
       "      <td>-9.898214e-01</td>\n",
       "      <td>1</td>\n",
       "      <td>12</td>\n",
       "      <td>40</td>\n",
       "      <td>40</td>\n",
       "      <td>1</td>\n",
       "    </tr>\n",
       "    <tr>\n",
       "      <th>1</th>\n",
       "      <td>1.047198</td>\n",
       "      <td>0.5</td>\n",
       "      <td>8.660254e-01</td>\n",
       "      <td>3.278184</td>\n",
       "      <td>-0.990686</td>\n",
       "      <td>-0.136167</td>\n",
       "      <td>5.140788</td>\n",
       "      <td>0.415415</td>\n",
       "      <td>-9.096320e-01</td>\n",
       "      <td>1</td>\n",
       "      <td>12</td>\n",
       "      <td>45</td>\n",
       "      <td>13</td>\n",
       "      <td>1</td>\n",
       "    </tr>\n",
       "    <tr>\n",
       "      <th>2</th>\n",
       "      <td>1.047198</td>\n",
       "      <td>0.5</td>\n",
       "      <td>8.660254e-01</td>\n",
       "      <td>3.278184</td>\n",
       "      <td>-0.990686</td>\n",
       "      <td>-0.136167</td>\n",
       "      <td>5.711987</td>\n",
       "      <td>0.841254</td>\n",
       "      <td>-5.406408e-01</td>\n",
       "      <td>1</td>\n",
       "      <td>12</td>\n",
       "      <td>50</td>\n",
       "      <td>34</td>\n",
       "      <td>1</td>\n",
       "    </tr>\n",
       "    <tr>\n",
       "      <th>3</th>\n",
       "      <td>1.047198</td>\n",
       "      <td>0.5</td>\n",
       "      <td>8.660254e-01</td>\n",
       "      <td>3.278184</td>\n",
       "      <td>-0.990686</td>\n",
       "      <td>-0.136167</td>\n",
       "      <td>6.283185</td>\n",
       "      <td>1.000000</td>\n",
       "      <td>-2.449294e-16</td>\n",
       "      <td>1</td>\n",
       "      <td>12</td>\n",
       "      <td>55</td>\n",
       "      <td>30</td>\n",
       "      <td>1</td>\n",
       "    </tr>\n",
       "    <tr>\n",
       "      <th>4</th>\n",
       "      <td>1.047198</td>\n",
       "      <td>0.5</td>\n",
       "      <td>8.660254e-01</td>\n",
       "      <td>3.551366</td>\n",
       "      <td>-0.917211</td>\n",
       "      <td>-0.398401</td>\n",
       "      <td>0.000000</td>\n",
       "      <td>1.000000</td>\n",
       "      <td>0.000000e+00</td>\n",
       "      <td>1</td>\n",
       "      <td>13</td>\n",
       "      <td>0</td>\n",
       "      <td>34</td>\n",
       "      <td>1</td>\n",
       "    </tr>\n",
       "    <tr>\n",
       "      <th>...</th>\n",
       "      <td>...</td>\n",
       "      <td>...</td>\n",
       "      <td>...</td>\n",
       "      <td>...</td>\n",
       "      <td>...</td>\n",
       "      <td>...</td>\n",
       "      <td>...</td>\n",
       "      <td>...</td>\n",
       "      <td>...</td>\n",
       "      <td>...</td>\n",
       "      <td>...</td>\n",
       "      <td>...</td>\n",
       "      <td>...</td>\n",
       "      <td>...</td>\n",
       "    </tr>\n",
       "    <tr>\n",
       "      <th>8314</th>\n",
       "      <td>3.141593</td>\n",
       "      <td>-1.0</td>\n",
       "      <td>1.224647e-16</td>\n",
       "      <td>1.365910</td>\n",
       "      <td>0.203456</td>\n",
       "      <td>0.979084</td>\n",
       "      <td>2.284795</td>\n",
       "      <td>-0.654861</td>\n",
       "      <td>7.557496e-01</td>\n",
       "      <td>3</td>\n",
       "      <td>5</td>\n",
       "      <td>20</td>\n",
       "      <td>7</td>\n",
       "      <td>0</td>\n",
       "    </tr>\n",
       "    <tr>\n",
       "      <th>8315</th>\n",
       "      <td>4.188790</td>\n",
       "      <td>-0.5</td>\n",
       "      <td>-8.660254e-01</td>\n",
       "      <td>0.273182</td>\n",
       "      <td>0.962917</td>\n",
       "      <td>0.269797</td>\n",
       "      <td>2.284795</td>\n",
       "      <td>-0.654861</td>\n",
       "      <td>7.557496e-01</td>\n",
       "      <td>4</td>\n",
       "      <td>1</td>\n",
       "      <td>20</td>\n",
       "      <td>1</td>\n",
       "      <td>0</td>\n",
       "    </tr>\n",
       "    <tr>\n",
       "      <th>8316</th>\n",
       "      <td>5.235988</td>\n",
       "      <td>0.5</td>\n",
       "      <td>-8.660254e-01</td>\n",
       "      <td>1.912274</td>\n",
       "      <td>-0.334880</td>\n",
       "      <td>0.942261</td>\n",
       "      <td>2.284795</td>\n",
       "      <td>-0.654861</td>\n",
       "      <td>7.557496e-01</td>\n",
       "      <td>5</td>\n",
       "      <td>7</td>\n",
       "      <td>20</td>\n",
       "      <td>6</td>\n",
       "      <td>0</td>\n",
       "    </tr>\n",
       "    <tr>\n",
       "      <th>8317</th>\n",
       "      <td>6.283185</td>\n",
       "      <td>1.0</td>\n",
       "      <td>-2.449294e-16</td>\n",
       "      <td>2.185456</td>\n",
       "      <td>-0.576680</td>\n",
       "      <td>0.816970</td>\n",
       "      <td>5.711987</td>\n",
       "      <td>0.841254</td>\n",
       "      <td>-5.406408e-01</td>\n",
       "      <td>6</td>\n",
       "      <td>8</td>\n",
       "      <td>50</td>\n",
       "      <td>18</td>\n",
       "      <td>0</td>\n",
       "    </tr>\n",
       "    <tr>\n",
       "      <th>8318</th>\n",
       "      <td>1.047198</td>\n",
       "      <td>0.5</td>\n",
       "      <td>8.660254e-01</td>\n",
       "      <td>0.546364</td>\n",
       "      <td>0.854419</td>\n",
       "      <td>0.519584</td>\n",
       "      <td>3.427192</td>\n",
       "      <td>-0.959493</td>\n",
       "      <td>-2.817326e-01</td>\n",
       "      <td>1</td>\n",
       "      <td>2</td>\n",
       "      <td>30</td>\n",
       "      <td>3</td>\n",
       "      <td>0</td>\n",
       "    </tr>\n",
       "  </tbody>\n",
       "</table>\n",
       "<p>8319 rows × 14 columns</p>\n",
       "</div>"
      ],
      "text/plain": [
       "      Day_of_Week_norm  Day_of_Week_cos  Day_of_Week_sin  Hour_norm  Hour_cos  \\\n",
       "0             1.047198              0.5     8.660254e-01   3.278184 -0.990686   \n",
       "1             1.047198              0.5     8.660254e-01   3.278184 -0.990686   \n",
       "2             1.047198              0.5     8.660254e-01   3.278184 -0.990686   \n",
       "3             1.047198              0.5     8.660254e-01   3.278184 -0.990686   \n",
       "4             1.047198              0.5     8.660254e-01   3.551366 -0.917211   \n",
       "...                ...              ...              ...        ...       ...   \n",
       "8314          3.141593             -1.0     1.224647e-16   1.365910  0.203456   \n",
       "8315          4.188790             -0.5    -8.660254e-01   0.273182  0.962917   \n",
       "8316          5.235988              0.5    -8.660254e-01   1.912274 -0.334880   \n",
       "8317          6.283185              1.0    -2.449294e-16   2.185456 -0.576680   \n",
       "8318          1.047198              0.5     8.660254e-01   0.546364  0.854419   \n",
       "\n",
       "      Hour_sin  Minute_norm   Min_cos       Min_sin  Day_of_Week  Hour  \\\n",
       "0    -0.136167     4.569589 -0.142315 -9.898214e-01            1    12   \n",
       "1    -0.136167     5.140788  0.415415 -9.096320e-01            1    12   \n",
       "2    -0.136167     5.711987  0.841254 -5.406408e-01            1    12   \n",
       "3    -0.136167     6.283185  1.000000 -2.449294e-16            1    12   \n",
       "4    -0.398401     0.000000  1.000000  0.000000e+00            1    13   \n",
       "...        ...          ...       ...           ...          ...   ...   \n",
       "8314  0.979084     2.284795 -0.654861  7.557496e-01            3     5   \n",
       "8315  0.269797     2.284795 -0.654861  7.557496e-01            4     1   \n",
       "8316  0.942261     2.284795 -0.654861  7.557496e-01            5     7   \n",
       "8317  0.816970     5.711987  0.841254 -5.406408e-01            6     8   \n",
       "8318  0.519584     3.427192 -0.959493 -2.817326e-01            1     2   \n",
       "\n",
       "      Minute  Traffic  Game  \n",
       "0         40       40     1  \n",
       "1         45       13     1  \n",
       "2         50       34     1  \n",
       "3         55       30     1  \n",
       "4          0       34     1  \n",
       "...      ...      ...   ...  \n",
       "8314      20        7     0  \n",
       "8315      20        1     0  \n",
       "8316      20        6     0  \n",
       "8317      50       18     0  \n",
       "8318      30        3     0  \n",
       "\n",
       "[8319 rows x 14 columns]"
      ]
     },
     "execution_count": 58,
     "metadata": {},
     "output_type": "execute_result"
    }
   ],
   "source": [
    "encoded_balanced_traffic = pd.DataFrame()\n",
    "encoded_balanced_traffic = pd.concat([day_transformation, hr_transformation, min_transformation, balanced_traffic], axis=1)\n",
    "encoded_balanced_traffic"
   ]
  },
  {
   "cell_type": "code",
   "execution_count": 59,
   "id": "af09411d-6aab-40b7-8683-a7cfa72e4436",
   "metadata": {},
   "outputs": [
    {
     "data": {
      "text/html": [
       "<div>\n",
       "<style scoped>\n",
       "    .dataframe tbody tr th:only-of-type {\n",
       "        vertical-align: middle;\n",
       "    }\n",
       "\n",
       "    .dataframe tbody tr th {\n",
       "        vertical-align: top;\n",
       "    }\n",
       "\n",
       "    .dataframe thead th {\n",
       "        text-align: right;\n",
       "    }\n",
       "</style>\n",
       "<table border=\"1\" class=\"dataframe\">\n",
       "  <thead>\n",
       "    <tr style=\"text-align: right;\">\n",
       "      <th></th>\n",
       "      <th>Day_of_Week</th>\n",
       "      <th>Day_of_Week_norm</th>\n",
       "      <th>Day_of_Week_cos</th>\n",
       "      <th>Day_of_Week_sin</th>\n",
       "      <th>Hour</th>\n",
       "      <th>Hour_norm</th>\n",
       "      <th>Hour_cos</th>\n",
       "      <th>Hour_sin</th>\n",
       "      <th>Minute</th>\n",
       "      <th>Minute_norm</th>\n",
       "      <th>Min_cos</th>\n",
       "      <th>Min_sin</th>\n",
       "      <th>Traffic</th>\n",
       "      <th>Game</th>\n",
       "    </tr>\n",
       "  </thead>\n",
       "  <tbody>\n",
       "    <tr>\n",
       "      <th>0</th>\n",
       "      <td>1</td>\n",
       "      <td>1.047198</td>\n",
       "      <td>0.5</td>\n",
       "      <td>8.660254e-01</td>\n",
       "      <td>12</td>\n",
       "      <td>3.278184</td>\n",
       "      <td>-0.990686</td>\n",
       "      <td>-0.136167</td>\n",
       "      <td>40</td>\n",
       "      <td>4.569589</td>\n",
       "      <td>-0.142315</td>\n",
       "      <td>-9.898214e-01</td>\n",
       "      <td>40</td>\n",
       "      <td>1</td>\n",
       "    </tr>\n",
       "    <tr>\n",
       "      <th>1</th>\n",
       "      <td>1</td>\n",
       "      <td>1.047198</td>\n",
       "      <td>0.5</td>\n",
       "      <td>8.660254e-01</td>\n",
       "      <td>12</td>\n",
       "      <td>3.278184</td>\n",
       "      <td>-0.990686</td>\n",
       "      <td>-0.136167</td>\n",
       "      <td>45</td>\n",
       "      <td>5.140788</td>\n",
       "      <td>0.415415</td>\n",
       "      <td>-9.096320e-01</td>\n",
       "      <td>13</td>\n",
       "      <td>1</td>\n",
       "    </tr>\n",
       "    <tr>\n",
       "      <th>2</th>\n",
       "      <td>1</td>\n",
       "      <td>1.047198</td>\n",
       "      <td>0.5</td>\n",
       "      <td>8.660254e-01</td>\n",
       "      <td>12</td>\n",
       "      <td>3.278184</td>\n",
       "      <td>-0.990686</td>\n",
       "      <td>-0.136167</td>\n",
       "      <td>50</td>\n",
       "      <td>5.711987</td>\n",
       "      <td>0.841254</td>\n",
       "      <td>-5.406408e-01</td>\n",
       "      <td>34</td>\n",
       "      <td>1</td>\n",
       "    </tr>\n",
       "    <tr>\n",
       "      <th>3</th>\n",
       "      <td>1</td>\n",
       "      <td>1.047198</td>\n",
       "      <td>0.5</td>\n",
       "      <td>8.660254e-01</td>\n",
       "      <td>12</td>\n",
       "      <td>3.278184</td>\n",
       "      <td>-0.990686</td>\n",
       "      <td>-0.136167</td>\n",
       "      <td>55</td>\n",
       "      <td>6.283185</td>\n",
       "      <td>1.000000</td>\n",
       "      <td>-2.449294e-16</td>\n",
       "      <td>30</td>\n",
       "      <td>1</td>\n",
       "    </tr>\n",
       "    <tr>\n",
       "      <th>4</th>\n",
       "      <td>1</td>\n",
       "      <td>1.047198</td>\n",
       "      <td>0.5</td>\n",
       "      <td>8.660254e-01</td>\n",
       "      <td>13</td>\n",
       "      <td>3.551366</td>\n",
       "      <td>-0.917211</td>\n",
       "      <td>-0.398401</td>\n",
       "      <td>0</td>\n",
       "      <td>0.000000</td>\n",
       "      <td>1.000000</td>\n",
       "      <td>0.000000e+00</td>\n",
       "      <td>34</td>\n",
       "      <td>1</td>\n",
       "    </tr>\n",
       "    <tr>\n",
       "      <th>...</th>\n",
       "      <td>...</td>\n",
       "      <td>...</td>\n",
       "      <td>...</td>\n",
       "      <td>...</td>\n",
       "      <td>...</td>\n",
       "      <td>...</td>\n",
       "      <td>...</td>\n",
       "      <td>...</td>\n",
       "      <td>...</td>\n",
       "      <td>...</td>\n",
       "      <td>...</td>\n",
       "      <td>...</td>\n",
       "      <td>...</td>\n",
       "      <td>...</td>\n",
       "    </tr>\n",
       "    <tr>\n",
       "      <th>8314</th>\n",
       "      <td>3</td>\n",
       "      <td>3.141593</td>\n",
       "      <td>-1.0</td>\n",
       "      <td>1.224647e-16</td>\n",
       "      <td>5</td>\n",
       "      <td>1.365910</td>\n",
       "      <td>0.203456</td>\n",
       "      <td>0.979084</td>\n",
       "      <td>20</td>\n",
       "      <td>2.284795</td>\n",
       "      <td>-0.654861</td>\n",
       "      <td>7.557496e-01</td>\n",
       "      <td>7</td>\n",
       "      <td>0</td>\n",
       "    </tr>\n",
       "    <tr>\n",
       "      <th>8315</th>\n",
       "      <td>4</td>\n",
       "      <td>4.188790</td>\n",
       "      <td>-0.5</td>\n",
       "      <td>-8.660254e-01</td>\n",
       "      <td>1</td>\n",
       "      <td>0.273182</td>\n",
       "      <td>0.962917</td>\n",
       "      <td>0.269797</td>\n",
       "      <td>20</td>\n",
       "      <td>2.284795</td>\n",
       "      <td>-0.654861</td>\n",
       "      <td>7.557496e-01</td>\n",
       "      <td>1</td>\n",
       "      <td>0</td>\n",
       "    </tr>\n",
       "    <tr>\n",
       "      <th>8316</th>\n",
       "      <td>5</td>\n",
       "      <td>5.235988</td>\n",
       "      <td>0.5</td>\n",
       "      <td>-8.660254e-01</td>\n",
       "      <td>7</td>\n",
       "      <td>1.912274</td>\n",
       "      <td>-0.334880</td>\n",
       "      <td>0.942261</td>\n",
       "      <td>20</td>\n",
       "      <td>2.284795</td>\n",
       "      <td>-0.654861</td>\n",
       "      <td>7.557496e-01</td>\n",
       "      <td>6</td>\n",
       "      <td>0</td>\n",
       "    </tr>\n",
       "    <tr>\n",
       "      <th>8317</th>\n",
       "      <td>6</td>\n",
       "      <td>6.283185</td>\n",
       "      <td>1.0</td>\n",
       "      <td>-2.449294e-16</td>\n",
       "      <td>8</td>\n",
       "      <td>2.185456</td>\n",
       "      <td>-0.576680</td>\n",
       "      <td>0.816970</td>\n",
       "      <td>50</td>\n",
       "      <td>5.711987</td>\n",
       "      <td>0.841254</td>\n",
       "      <td>-5.406408e-01</td>\n",
       "      <td>18</td>\n",
       "      <td>0</td>\n",
       "    </tr>\n",
       "    <tr>\n",
       "      <th>8318</th>\n",
       "      <td>1</td>\n",
       "      <td>1.047198</td>\n",
       "      <td>0.5</td>\n",
       "      <td>8.660254e-01</td>\n",
       "      <td>2</td>\n",
       "      <td>0.546364</td>\n",
       "      <td>0.854419</td>\n",
       "      <td>0.519584</td>\n",
       "      <td>30</td>\n",
       "      <td>3.427192</td>\n",
       "      <td>-0.959493</td>\n",
       "      <td>-2.817326e-01</td>\n",
       "      <td>3</td>\n",
       "      <td>0</td>\n",
       "    </tr>\n",
       "  </tbody>\n",
       "</table>\n",
       "<p>8319 rows × 14 columns</p>\n",
       "</div>"
      ],
      "text/plain": [
       "      Day_of_Week  Day_of_Week_norm  Day_of_Week_cos  Day_of_Week_sin  Hour  \\\n",
       "0               1          1.047198              0.5     8.660254e-01    12   \n",
       "1               1          1.047198              0.5     8.660254e-01    12   \n",
       "2               1          1.047198              0.5     8.660254e-01    12   \n",
       "3               1          1.047198              0.5     8.660254e-01    12   \n",
       "4               1          1.047198              0.5     8.660254e-01    13   \n",
       "...           ...               ...              ...              ...   ...   \n",
       "8314            3          3.141593             -1.0     1.224647e-16     5   \n",
       "8315            4          4.188790             -0.5    -8.660254e-01     1   \n",
       "8316            5          5.235988              0.5    -8.660254e-01     7   \n",
       "8317            6          6.283185              1.0    -2.449294e-16     8   \n",
       "8318            1          1.047198              0.5     8.660254e-01     2   \n",
       "\n",
       "      Hour_norm  Hour_cos  Hour_sin  Minute  Minute_norm   Min_cos  \\\n",
       "0      3.278184 -0.990686 -0.136167      40     4.569589 -0.142315   \n",
       "1      3.278184 -0.990686 -0.136167      45     5.140788  0.415415   \n",
       "2      3.278184 -0.990686 -0.136167      50     5.711987  0.841254   \n",
       "3      3.278184 -0.990686 -0.136167      55     6.283185  1.000000   \n",
       "4      3.551366 -0.917211 -0.398401       0     0.000000  1.000000   \n",
       "...         ...       ...       ...     ...          ...       ...   \n",
       "8314   1.365910  0.203456  0.979084      20     2.284795 -0.654861   \n",
       "8315   0.273182  0.962917  0.269797      20     2.284795 -0.654861   \n",
       "8316   1.912274 -0.334880  0.942261      20     2.284795 -0.654861   \n",
       "8317   2.185456 -0.576680  0.816970      50     5.711987  0.841254   \n",
       "8318   0.546364  0.854419  0.519584      30     3.427192 -0.959493   \n",
       "\n",
       "           Min_sin  Traffic  Game  \n",
       "0    -9.898214e-01       40     1  \n",
       "1    -9.096320e-01       13     1  \n",
       "2    -5.406408e-01       34     1  \n",
       "3    -2.449294e-16       30     1  \n",
       "4     0.000000e+00       34     1  \n",
       "...            ...      ...   ...  \n",
       "8314  7.557496e-01        7     0  \n",
       "8315  7.557496e-01        1     0  \n",
       "8316  7.557496e-01        6     0  \n",
       "8317 -5.406408e-01       18     0  \n",
       "8318 -2.817326e-01        3     0  \n",
       "\n",
       "[8319 rows x 14 columns]"
      ]
     },
     "execution_count": 59,
     "metadata": {},
     "output_type": "execute_result"
    }
   ],
   "source": [
    "encoded_balanced_traffic = encoded_balanced_traffic[[\"Day_of_Week\", \"Day_of_Week_norm\", \"Day_of_Week_cos\", \"Day_of_Week_sin\", \"Hour\", \"Hour_norm\", \"Hour_cos\", \"Hour_sin\", \"Minute\",\n",
    "                                                     \"Minute_norm\", \"Min_cos\", \"Min_sin\", \"Traffic\", \"Game\"]]\n",
    "encoded_balanced_traffic"
   ]
  },
  {
   "cell_type": "code",
   "execution_count": 60,
   "id": "e91397ce-0be9-43e6-a630-0958a55569ff",
   "metadata": {},
   "outputs": [],
   "source": [
    "encoded_balanced_traffic.to_csv(\"encoded_balanced_traffic.csv\", index = False)"
   ]
  },
  {
   "cell_type": "markdown",
   "id": "8e2fea7f-113e-4e6c-9893-228ce7b65022",
   "metadata": {},
   "source": [
    "### Models"
   ]
  },
  {
   "cell_type": "markdown",
   "id": "f6b5ede0-f648-495e-b44c-281faab7d129",
   "metadata": {},
   "source": [
    "*confusion matrix function*"
   ]
  },
  {
   "cell_type": "code",
   "execution_count": 61,
   "id": "b174deb8-1c1b-400b-b237-c60d2b15f8c1",
   "metadata": {},
   "outputs": [],
   "source": [
    "def Confusion_matrix_graph(y_testing_data, y_prediction_data, filename):\n",
    "    matrix = confusion_matrix(y_true = y_testing_data, y_pred = y_prediction_data)\n",
    "    figure = plt.figure(figsize=(8,8))\n",
    "    heatmap = sns.heatmap(matrix, annot=True, fmt = \".2f\", cmap = \"RdYlGn\")\n",
    "    plt.ylabel(\"Correct Value\")\n",
    "    plt.xlabel(\"Predicted Value\")\n",
    "    plt.title(\"Confusion Matrix\")\n",
    "    plt.savefig(filename)"
   ]
  },
  {
   "cell_type": "markdown",
   "id": "6869766c-1cee-400b-ae52-d0c6b9b29c00",
   "metadata": {},
   "source": [
    "## KNeighborsClassifier"
   ]
  },
  {
   "cell_type": "markdown",
   "id": "261ae11a-84fa-44f8-803c-63664c2cea31",
   "metadata": {},
   "source": [
    "*Experiment Parameter 1*"
   ]
  },
  {
   "cell_type": "code",
   "execution_count": 62,
   "id": "c8da5bf1-7b7c-4574-b1e8-d4d86c3fe9f8",
   "metadata": {},
   "outputs": [],
   "source": [
    "y = encoded_balanced_traffic.Game\n",
    "X = np.array(encoded_balanced_traffic.iloc[:, :-1])\n",
    "\n",
    "X_train, X_test, y_train, y_test = train_test_split(X, y, \n",
    "                                                    train_size=.80,\n",
    "                                                    test_size=.20, \n",
    "                                                    random_state=25)\n",
    "\n",
    "neighbor = KNeighborsClassifier(n_neighbors=3)\n",
    "neighbor.fit(X_train,y_train)\n",
    "y_pred = neighbor.predict(X_test)"
   ]
  },
  {
   "cell_type": "code",
   "execution_count": 63,
   "id": "f57d800d-7976-4e51-88d5-a2ab1dc73982",
   "metadata": {},
   "outputs": [
    {
     "data": {
      "image/png": "[encoded data removed]",
      "text/plain": [
       "<Figure size 576x576 with 2 Axes>"
      ]
     },
     "metadata": {
      "needs_background": "light"
     },
     "output_type": "display_data"
    }
   ],
   "source": [
    "Confusion_matrix_graph(y_test, y_pred, \"knn_matrix1.png\")"
   ]
  },
  {
   "cell_type": "code",
   "execution_count": 64,
   "id": "8a8a03e3-390b-4653-9804-18e8d804ee59",
   "metadata": {},
   "outputs": [
    {
     "data": {
      "text/plain": [
       "0.8395432692307693"
      ]
     },
     "execution_count": 64,
     "metadata": {},
     "output_type": "execute_result"
    }
   ],
   "source": [
    "neighbor.score(X_test,y_test)"
   ]
  },
  {
   "cell_type": "code",
   "execution_count": 65,
   "id": "c1e23691-b671-4ee1-99c1-53cfddfca419",
   "metadata": {},
   "outputs": [
    {
     "name": "stdout",
     "output_type": "stream",
     "text": [
      "              precision    recall  f1-score   support\n",
      "\n",
      "           0       0.87      0.79      0.83       831\n",
      "           1       0.81      0.89      0.85       833\n",
      "\n",
      "    accuracy                           0.84      1664\n",
      "   macro avg       0.84      0.84      0.84      1664\n",
      "weighted avg       0.84      0.84      0.84      1664\n",
      "\n"
     ]
    }
   ],
   "source": [
    "print(classification_report(y_test, y_pred))"
   ]
  },
  {
   "cell_type": "markdown",
   "id": "58a5b7c7-974b-484d-b45f-d8bfdbd160f8",
   "metadata": {},
   "source": [
    "*Experiment Parameter 2*"
   ]
  },
  {
   "cell_type": "code",
   "execution_count": 75,
   "id": "6f7848b8-04bc-46b5-bd3e-1dac19eafdb7",
   "metadata": {},
   "outputs": [],
   "source": [
    "y = encoded_balanced_traffic.Game\n",
    "X = np.array(encoded_balanced_traffic[['Day_of_Week', 'Hour', 'Minute', 'Traffic']])\n",
    "\n",
    "X_train, X_test, y_train, y_test = train_test_split(X, y, \n",
    "                                                    train_size=.80,\n",
    "                                                    test_size=.20, \n",
    "                                                    random_state=25)\n",
    "\n",
    "neighbor = KNeighborsClassifier(n_neighbors=5)\n",
    "neighbor.fit(X_train,y_train)\n",
    "y_pred = neighbor.predict(X_test)"
   ]
  },
  {
   "cell_type": "code",
   "execution_count": 76,
   "id": "aefbcf74-255c-4d7d-82e8-1728b10aac2e",
   "metadata": {},
   "outputs": [
    {
     "data": {
      "image/png": "[encoded data removed]",
      "text/plain": [
       "<Figure size 576x576 with 2 Axes>"
      ]
     },
     "metadata": {
      "needs_background": "light"
     },
     "output_type": "display_data"
    }
   ],
   "source": [
    "Confusion_matrix_graph(y_test, y_pred, \"knn_matrix2.png\")"
   ]
  },
  {
   "cell_type": "code",
   "execution_count": 77,
   "id": "3449c739-db53-47b1-9b71-8e08fcfdb77d",
   "metadata": {},
   "outputs": [
    {
     "data": {
      "text/plain": [
       "0.8305288461538461"
      ]
     },
     "execution_count": 77,
     "metadata": {},
     "output_type": "execute_result"
    }
   ],
   "source": [
    "neighbor.score(X_test,y_test)"
   ]
  },
  {
   "cell_type": "code",
   "execution_count": 78,
   "id": "17f465ac-2321-4811-9ef8-5bc7f37a2df8",
   "metadata": {},
   "outputs": [
    {
     "name": "stdout",
     "output_type": "stream",
     "text": [
      "              precision    recall  f1-score   support\n",
      "\n",
      "           0       0.87      0.77      0.82       831\n",
      "           1       0.80      0.89      0.84       833\n",
      "\n",
      "    accuracy                           0.83      1664\n",
      "   macro avg       0.83      0.83      0.83      1664\n",
      "weighted avg       0.83      0.83      0.83      1664\n",
      "\n"
     ]
    }
   ],
   "source": [
    "print(classification_report(y_test, y_pred))"
   ]
  },
  {
   "cell_type": "markdown",
   "id": "14526292-195d-4809-80d5-444d59df6499",
   "metadata": {},
   "source": [
    "*Experiment Parameter 3*"
   ]
  },
  {
   "cell_type": "code",
   "execution_count": 82,
   "id": "926bdba3-1dff-412b-9e19-dce53b9653a1",
   "metadata": {},
   "outputs": [],
   "source": [
    "y = encoded_balanced_traffic.Game\n",
    "X = np.array(encoded_balanced_traffic[['Day_of_Week_cos', 'Day_of_Week_sin', 'Hour_cos', 'Hour_sin', 'Minute', 'Min_cos', 'Min_sin']])\n",
    "\n",
    "X_train, X_test, y_train, y_test = train_test_split(X, y, \n",
    "                                                    train_size=.70,\n",
    "                                                    test_size=.30, \n",
    "                                                    random_state=25)\n",
    "\n",
    "neighbor = KNeighborsClassifier(n_neighbors=3)\n",
    "neighbor.fit(X_train,y_train)\n",
    "y_pred = neighbor.predict(X_test)"
   ]
  },
  {
   "cell_type": "code",
   "execution_count": 83,
   "id": "8aa98dd4-c67d-4bc9-b5e7-ea89210fec4a",
   "metadata": {},
   "outputs": [
    {
     "data": {
      "image/png": "[encoded data removed]",
      "text/plain": [
       "<Figure size 576x576 with 2 Axes>"
      ]
     },
     "metadata": {
      "needs_background": "light"
     },
     "output_type": "display_data"
    }
   ],
   "source": [
    "Confusion_matrix_graph(y_test, y_pred, \"knn_matrix3.png\")"
   ]
  },
  {
   "cell_type": "code",
   "execution_count": 84,
   "id": "9f76482f-ecf4-4e63-ae04-b4ba3e8cecc1",
   "metadata": {},
   "outputs": [
    {
     "data": {
      "text/plain": [
       "0.8349358974358975"
      ]
     },
     "execution_count": 84,
     "metadata": {},
     "output_type": "execute_result"
    }
   ],
   "source": [
    "neighbor.score(X_test,y_test)"
   ]
  },
  {
   "cell_type": "code",
   "execution_count": 85,
   "id": "aa3d771d-a3a0-41ee-a27f-ca3cf6648177",
   "metadata": {},
   "outputs": [
    {
     "name": "stdout",
     "output_type": "stream",
     "text": [
      "              precision    recall  f1-score   support\n",
      "\n",
      "           0       0.86      0.80      0.83      1267\n",
      "           1       0.81      0.87      0.84      1229\n",
      "\n",
      "    accuracy                           0.83      2496\n",
      "   macro avg       0.84      0.84      0.83      2496\n",
      "weighted avg       0.84      0.83      0.83      2496\n",
      "\n"
     ]
    }
   ],
   "source": [
    "print(classification_report(y_test, y_pred))"
   ]
  },
  {
   "cell_type": "markdown",
   "id": "720bbed0-62f1-4fef-8193-0d006290fe43",
   "metadata": {},
   "source": [
    "## Random Forest"
   ]
  },
  {
   "cell_type": "markdown",
   "id": "cb481a30-363f-4e44-88be-fa5464056f4e",
   "metadata": {},
   "source": [
    "*Experiment Parameter 1*"
   ]
  },
  {
   "cell_type": "code",
   "execution_count": 86,
   "id": "9d004dea-ca12-458f-b410-9177759df557",
   "metadata": {},
   "outputs": [],
   "source": [
    "y = encoded_balanced_traffic.Game\n",
    "X = np.array(encoded_balanced_traffic.iloc[:, :-1])"
   ]
  },
  {
   "cell_type": "code",
   "execution_count": 87,
   "id": "942f5d62-8e6d-4435-ab27-d0760a5c02b8",
   "metadata": {},
   "outputs": [
    {
     "data": {
      "image/png": "[encoded data removed]",
      "text/plain": [
       "<Figure size 576x576 with 2 Axes>"
      ]
     },
     "metadata": {
      "needs_background": "light"
     },
     "output_type": "display_data"
    }
   ],
   "source": [
    "X_train, X_test, y_train, y_test = train_test_split(X, y, \n",
    "                                                    train_size=.80,\n",
    "                                                    test_size=.20, \n",
    "                                                    random_state=25)\n",
    "model = RandomForestClassifier(n_estimators = 100,\n",
    "                               criterion = \"entropy\",\n",
    "                               bootstrap=False)\n",
    "\n",
    "model.fit(X_train, y_train)\n",
    "y_pred = model.predict(X_test)\n",
    "Confusion_matrix_graph(y_test, y_pred, \"Random_Forest_confusion_matrix1.png\")"
   ]
  },
  {
   "cell_type": "code",
   "execution_count": 88,
   "id": "d60c9a51-f08d-4fff-9a0f-66f741edbae1",
   "metadata": {},
   "outputs": [
    {
     "name": "stdout",
     "output_type": "stream",
     "text": [
      "85.39663461538461%\n"
     ]
    }
   ],
   "source": [
    "print(f\"{model.score(X_test, y_test)*100}%\")"
   ]
  },
  {
   "cell_type": "code",
   "execution_count": 89,
   "id": "69660da4-0944-46dc-a6c2-edc5baeaab05",
   "metadata": {},
   "outputs": [
    {
     "name": "stdout",
     "output_type": "stream",
     "text": [
      "              precision    recall  f1-score   support\n",
      "\n",
      "           0       0.85      0.87      0.86       831\n",
      "           1       0.86      0.84      0.85       833\n",
      "\n",
      "    accuracy                           0.85      1664\n",
      "   macro avg       0.85      0.85      0.85      1664\n",
      "weighted avg       0.85      0.85      0.85      1664\n",
      "\n"
     ]
    }
   ],
   "source": [
    "print(classification_report(y_test, y_pred))"
   ]
  },
  {
   "cell_type": "markdown",
   "id": "b23145d4-4cb7-4e69-a50e-da3c6b213c55",
   "metadata": {},
   "source": [
    "*Experiment Parameter 2*"
   ]
  },
  {
   "cell_type": "code",
   "execution_count": 90,
   "id": "5bc5e17c-ee2f-4d8a-a6c0-89e5ab964ff8",
   "metadata": {},
   "outputs": [],
   "source": [
    "y = encoded_balanced_traffic.Game\n",
    "X = np.array(encoded_balanced_traffic[['Day_of_Week', 'Hour', 'Minute', 'Traffic']])"
   ]
  },
  {
   "cell_type": "code",
   "execution_count": 91,
   "id": "77921552-d8c9-4bc2-9a36-a79c1462660d",
   "metadata": {},
   "outputs": [
    {
     "data": {
      "image/png": "[encoded data removed]",
      "text/plain": [
       "<Figure size 576x576 with 2 Axes>"
      ]
     },
     "metadata": {
      "needs_background": "light"
     },
     "output_type": "display_data"
    }
   ],
   "source": [
    "X_train, X_test, y_train, y_test = train_test_split(X, y, \n",
    "                                                    train_size=.70,\n",
    "                                                    test_size=.30, \n",
    "                                                    random_state=25)\n",
    "model = RandomForestClassifier(n_estimators = 170,\n",
    "                               criterion = \"entropy\", \n",
    "                               max_samples=1000)\n",
    "\n",
    "model.fit(X_train, y_train)\n",
    "y_pred = model.predict(X_test)\n",
    "Confusion_matrix_graph(y_test, y_pred, \"Random_Forest_confusion_matrix2.png\")"
   ]
  },
  {
   "cell_type": "code",
   "execution_count": 92,
   "id": "633cd1b9-a4d4-4645-aa39-8b7339bb77a8",
   "metadata": {},
   "outputs": [
    {
     "name": "stdout",
     "output_type": "stream",
     "text": [
      "              precision    recall  f1-score   support\n",
      "\n",
      "           0       0.91      0.87      0.89      1267\n",
      "           1       0.87      0.91      0.89      1229\n",
      "\n",
      "    accuracy                           0.89      2496\n",
      "   macro avg       0.89      0.89      0.89      2496\n",
      "weighted avg       0.89      0.89      0.89      2496\n",
      "\n"
     ]
    }
   ],
   "source": [
    "print(classification_report(y_test, y_pred))"
   ]
  },
  {
   "cell_type": "code",
   "execution_count": 93,
   "id": "f3d5f2e2-a172-49ef-8325-51864ad422d5",
   "metadata": {},
   "outputs": [
    {
     "name": "stdout",
     "output_type": "stream",
     "text": [
      "89.1025641025641%\n"
     ]
    }
   ],
   "source": [
    "print(f\"{model.score(X_test, y_test)*100}%\")"
   ]
  },
  {
   "cell_type": "markdown",
   "id": "b29b28b4-d103-4c40-a995-fe31a9a44a20",
   "metadata": {},
   "source": [
    "*Experiment Parameter 3*"
   ]
  },
  {
   "cell_type": "code",
   "execution_count": 94,
   "id": "e4f090ba-b322-4a97-a28b-e7b1a3891b02",
   "metadata": {},
   "outputs": [],
   "source": [
    "y = encoded_balanced_traffic.Game\n",
    "X = np.array(encoded_balanced_traffic[[\"Day_of_Week_cos\", \"Day_of_Week_sin\", \"Hour_cos\", \"Hour_sin\", \"Min_cos\", \"Min_sin\"]])"
   ]
  },
  {
   "cell_type": "code",
   "execution_count": 95,
   "id": "cc3e10d8-9a05-4f5b-8b9a-d98d543769b2",
   "metadata": {},
   "outputs": [
    {
     "data": {
      "image/png": "[encoded data removed]",
      "text/plain": [
       "<Figure size 576x576 with 2 Axes>"
      ]
     },
     "metadata": {
      "needs_background": "light"
     },
     "output_type": "display_data"
    }
   ],
   "source": [
    "X_train, X_test, y_train, y_test = train_test_split(X, y, \n",
    "                                                    train_size=.70,\n",
    "                                                    test_size=.30, \n",
    "                                                    random_state=25)\n",
    "\n",
    "model = RandomForestClassifier(n_estimators = 170,\n",
    "                               criterion = \"entropy\",\n",
    "                               max_samples=1500)\n",
    "model.fit(X_train, y_train)\n",
    "y_pred = model.predict(X_test)\n",
    "Confusion_matrix_graph(y_test, y_pred, \"Random_Forest_confusion_matrix3.png\")"
   ]
  },
  {
   "cell_type": "code",
   "execution_count": 96,
   "id": "6cd67075-eee5-45f4-a5dd-a4fd3b413646",
   "metadata": {},
   "outputs": [
    {
     "name": "stdout",
     "output_type": "stream",
     "text": [
      "              precision    recall  f1-score   support\n",
      "\n",
      "           0       0.87      0.78      0.82      1267\n",
      "           1       0.79      0.89      0.84      1229\n",
      "\n",
      "    accuracy                           0.83      2496\n",
      "   macro avg       0.83      0.83      0.83      2496\n",
      "weighted avg       0.83      0.83      0.83      2496\n",
      "\n"
     ]
    }
   ],
   "source": [
    "print(classification_report(y_test, y_pred))"
   ]
  },
  {
   "cell_type": "code",
   "execution_count": 97,
   "id": "de419e34-8296-4bd7-a06f-6e950a1ce872",
   "metadata": {},
   "outputs": [
    {
     "name": "stdout",
     "output_type": "stream",
     "text": [
      "82.9326923076923%\n"
     ]
    }
   ],
   "source": [
    "print(f\"{model.score(X_test, y_test)*100}%\")"
   ]
  },
  {
   "cell_type": "code",
   "execution_count": null,
   "id": "e2e61e0c-dc3e-4f3c-ab68-7e540adffaeb",
   "metadata": {},
   "outputs": [],
   "source": []
  }
 ],
 "metadata": {
  "kernelspec": {
   "display_name": "Python 3",
   "language": "python",
   "name": "python3"
  },
  "language_info": {
   "codemirror_mode": {
    "name": "ipython",
    "version": 3
   },
   "file_extension": ".py",
   "mimetype": "text/x-python",
   "name": "python",
   "nbconvert_exporter": "python",
   "pygments_lexer": "ipython3",
   "version": "3.8.8"
  }
 },
 "nbformat": 4,
 "nbformat_minor": 5
}
