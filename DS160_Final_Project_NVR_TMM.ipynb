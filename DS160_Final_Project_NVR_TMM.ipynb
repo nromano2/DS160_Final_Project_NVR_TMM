{
 "cells": [
  {
   "cell_type": "markdown",
   "id": "e383dd65-def1-4c8b-ac40-37f293bb291c",
   "metadata": {},
   "source": [
    "## Final Project\n",
    "**Authors:** Nick Romano and Trevor McCormick   \n",
    "**Version 1.0**   \n",
    "**DS160-01: Introduction to Data Science**   \n",
    "\n",
    "\n",
    "---"
   ]
  },
  {
   "cell_type": "markdown",
   "id": "4e06dbc4-dfdf-4a41-afee-698f5197a583",
   "metadata": {},
   "source": [
    "This datasets used in this notebook come from the `Dodgers Loop Sensor Data Set` from the UCI Machine Learning Repository. <a href=\"https://archive.ics.uci.edu/ml/datasets/dodgers+loop+sensor?\">Link to Dataset</a>.   \n",
    "\n",
    "The `Dodgers Loop Sensor Data Set` conatains a three datasets: `Dodgers.data`, `Dodgers.events`, and `Dodgers.names`. The `Dodgers.data` has data pertaining the car count every 5 minutes on the ramp for the 101 North freeway in Los Angeles, which is close to where the Dodgers play. The car count was obtained by using he Freeway Performance Measurement System (PeMS). The `Dodgers.events` has a listing of the Date, Beginning Time, Ending Time, Attendence, Oppenent, and Score of Dodgers Games in 2005. The `Dodgers.names` was just a file that described the `Dodgers.data` and `Dodgers.events` datasets. \n",
    "\n",
    "The goal is to be able to predict whether a Dodgers baseball game is undergoing given the flow of traffic.   \n",
    "\n",
    "---"
   ]
  },
  {
   "cell_type": "code",
   "execution_count": 1,
   "id": "7dcc2510-7bce-426c-b26e-7e1eae090edd",
   "metadata": {},
   "outputs": [],
   "source": [
    "import pandas as pd\n",
    "import numpy as np\n",
    "import seaborn as sns\n",
    "import matplotlib.pyplot as plt\n",
    "%matplotlib inline\n",
    "\n",
    "from sklearn.utils import resample"
   ]
  },
  {
   "cell_type": "markdown",
   "id": "4ef3f0b2-77d0-4890-a459-320b1da2fc4c",
   "metadata": {},
   "source": [
    "#### Reading in Data"
   ]
  },
  {
   "cell_type": "code",
   "execution_count": 2,
   "id": "215f1f61-81da-4786-9f4c-46e45df1fe36",
   "metadata": {},
   "outputs": [],
   "source": [
    "df_traffic = pd.read_csv(\"Dodgers.data\", header = None)\n",
    "df_games = pd.read_csv(\"Dodgers.events\", header = None)"
   ]
  },
  {
   "cell_type": "code",
   "execution_count": 3,
   "id": "be8b3d22-bc4f-4f3a-b355-ace418213e58",
   "metadata": {},
   "outputs": [
    {
     "data": {
      "text/html": [
       "<div>\n",
       "<style scoped>\n",
       "    .dataframe tbody tr th:only-of-type {\n",
       "        vertical-align: middle;\n",
       "    }\n",
       "\n",
       "    .dataframe tbody tr th {\n",
       "        vertical-align: top;\n",
       "    }\n",
       "\n",
       "    .dataframe thead th {\n",
       "        text-align: right;\n",
       "    }\n",
       "</style>\n",
       "<table border=\"1\" class=\"dataframe\">\n",
       "  <thead>\n",
       "    <tr style=\"text-align: right;\">\n",
       "      <th></th>\n",
       "      <th>0</th>\n",
       "      <th>1</th>\n",
       "    </tr>\n",
       "  </thead>\n",
       "  <tbody>\n",
       "    <tr>\n",
       "      <th>0</th>\n",
       "      <td>4/10/2005 0:00</td>\n",
       "      <td>-1</td>\n",
       "    </tr>\n",
       "    <tr>\n",
       "      <th>1</th>\n",
       "      <td>4/10/2005 0:05</td>\n",
       "      <td>-1</td>\n",
       "    </tr>\n",
       "    <tr>\n",
       "      <th>2</th>\n",
       "      <td>4/10/2005 0:10</td>\n",
       "      <td>-1</td>\n",
       "    </tr>\n",
       "    <tr>\n",
       "      <th>3</th>\n",
       "      <td>4/10/2005 0:15</td>\n",
       "      <td>-1</td>\n",
       "    </tr>\n",
       "    <tr>\n",
       "      <th>4</th>\n",
       "      <td>4/10/2005 0:20</td>\n",
       "      <td>-1</td>\n",
       "    </tr>\n",
       "    <tr>\n",
       "      <th>...</th>\n",
       "      <td>...</td>\n",
       "      <td>...</td>\n",
       "    </tr>\n",
       "    <tr>\n",
       "      <th>50395</th>\n",
       "      <td>10/1/2005 23:35</td>\n",
       "      <td>-1</td>\n",
       "    </tr>\n",
       "    <tr>\n",
       "      <th>50396</th>\n",
       "      <td>10/1/2005 23:40</td>\n",
       "      <td>-1</td>\n",
       "    </tr>\n",
       "    <tr>\n",
       "      <th>50397</th>\n",
       "      <td>10/1/2005 23:45</td>\n",
       "      <td>-1</td>\n",
       "    </tr>\n",
       "    <tr>\n",
       "      <th>50398</th>\n",
       "      <td>10/1/2005 23:50</td>\n",
       "      <td>-1</td>\n",
       "    </tr>\n",
       "    <tr>\n",
       "      <th>50399</th>\n",
       "      <td>10/1/2005 23:55</td>\n",
       "      <td>-1</td>\n",
       "    </tr>\n",
       "  </tbody>\n",
       "</table>\n",
       "<p>50400 rows × 2 columns</p>\n",
       "</div>"
      ],
      "text/plain": [
       "                     0  1\n",
       "0       4/10/2005 0:00 -1\n",
       "1       4/10/2005 0:05 -1\n",
       "2       4/10/2005 0:10 -1\n",
       "3       4/10/2005 0:15 -1\n",
       "4       4/10/2005 0:20 -1\n",
       "...                ... ..\n",
       "50395  10/1/2005 23:35 -1\n",
       "50396  10/1/2005 23:40 -1\n",
       "50397  10/1/2005 23:45 -1\n",
       "50398  10/1/2005 23:50 -1\n",
       "50399  10/1/2005 23:55 -1\n",
       "\n",
       "[50400 rows x 2 columns]"
      ]
     },
     "execution_count": 3,
     "metadata": {},
     "output_type": "execute_result"
    }
   ],
   "source": [
    "df_traffic"
   ]
  },
  {
   "cell_type": "code",
   "execution_count": 4,
   "id": "84908745-293c-47c3-b248-b12f3fa12396",
   "metadata": {},
   "outputs": [
    {
     "data": {
      "text/html": [
       "<div>\n",
       "<style scoped>\n",
       "    .dataframe tbody tr th:only-of-type {\n",
       "        vertical-align: middle;\n",
       "    }\n",
       "\n",
       "    .dataframe tbody tr th {\n",
       "        vertical-align: top;\n",
       "    }\n",
       "\n",
       "    .dataframe thead th {\n",
       "        text-align: right;\n",
       "    }\n",
       "</style>\n",
       "<table border=\"1\" class=\"dataframe\">\n",
       "  <thead>\n",
       "    <tr style=\"text-align: right;\">\n",
       "      <th></th>\n",
       "      <th>0</th>\n",
       "      <th>1</th>\n",
       "      <th>2</th>\n",
       "      <th>3</th>\n",
       "      <th>4</th>\n",
       "      <th>5</th>\n",
       "    </tr>\n",
       "  </thead>\n",
       "  <tbody>\n",
       "    <tr>\n",
       "      <th>0</th>\n",
       "      <td>04/12/05</td>\n",
       "      <td>13:10:00</td>\n",
       "      <td>16:23:00</td>\n",
       "      <td>55892</td>\n",
       "      <td>San Francisco</td>\n",
       "      <td>W 9-8�</td>\n",
       "    </tr>\n",
       "    <tr>\n",
       "      <th>1</th>\n",
       "      <td>04/13/05</td>\n",
       "      <td>19:10:00</td>\n",
       "      <td>21:48:00</td>\n",
       "      <td>46514</td>\n",
       "      <td>San Francisco</td>\n",
       "      <td>W 4-1�</td>\n",
       "    </tr>\n",
       "    <tr>\n",
       "      <th>2</th>\n",
       "      <td>04/15/05</td>\n",
       "      <td>19:40:00</td>\n",
       "      <td>21:48:00</td>\n",
       "      <td>51816</td>\n",
       "      <td>San Diego</td>\n",
       "      <td>W 4-0�</td>\n",
       "    </tr>\n",
       "    <tr>\n",
       "      <th>3</th>\n",
       "      <td>04/16/05</td>\n",
       "      <td>19:10:00</td>\n",
       "      <td>21:52:00</td>\n",
       "      <td>54704</td>\n",
       "      <td>San Diego</td>\n",
       "      <td>W 8-3�</td>\n",
       "    </tr>\n",
       "    <tr>\n",
       "      <th>4</th>\n",
       "      <td>04/17/05</td>\n",
       "      <td>13:10:00</td>\n",
       "      <td>15:31:00</td>\n",
       "      <td>53402</td>\n",
       "      <td>San Diego</td>\n",
       "      <td>W 6-0�</td>\n",
       "    </tr>\n",
       "    <tr>\n",
       "      <th>...</th>\n",
       "      <td>...</td>\n",
       "      <td>...</td>\n",
       "      <td>...</td>\n",
       "      <td>...</td>\n",
       "      <td>...</td>\n",
       "      <td>...</td>\n",
       "    </tr>\n",
       "    <tr>\n",
       "      <th>76</th>\n",
       "      <td>09/25/05</td>\n",
       "      <td>13:10:00</td>\n",
       "      <td>16:06:00</td>\n",
       "      <td>37846</td>\n",
       "      <td>Pittsburgh</td>\n",
       "      <td>W 9-2�</td>\n",
       "    </tr>\n",
       "    <tr>\n",
       "      <th>77</th>\n",
       "      <td>09/26/05</td>\n",
       "      <td>19:10:00</td>\n",
       "      <td>22:27:00</td>\n",
       "      <td>36397</td>\n",
       "      <td>Pittsburgh</td>\n",
       "      <td>W 9-4�</td>\n",
       "    </tr>\n",
       "    <tr>\n",
       "      <th>78</th>\n",
       "      <td>09/27/05</td>\n",
       "      <td>19:10:00</td>\n",
       "      <td>21:33:00</td>\n",
       "      <td>42604</td>\n",
       "      <td>Arizona</td>\n",
       "      <td>L 2-0�</td>\n",
       "    </tr>\n",
       "    <tr>\n",
       "      <th>79</th>\n",
       "      <td>09/28/05</td>\n",
       "      <td>19:10:00</td>\n",
       "      <td>21:58:00</td>\n",
       "      <td>46424</td>\n",
       "      <td>Arizona</td>\n",
       "      <td>L 4-3�</td>\n",
       "    </tr>\n",
       "    <tr>\n",
       "      <th>80</th>\n",
       "      <td>09/29/05</td>\n",
       "      <td>19:10:00</td>\n",
       "      <td>22:24:00</td>\n",
       "      <td>45053</td>\n",
       "      <td>Arizona</td>\n",
       "      <td>L 3-2�</td>\n",
       "    </tr>\n",
       "  </tbody>\n",
       "</table>\n",
       "<p>81 rows × 6 columns</p>\n",
       "</div>"
      ],
      "text/plain": [
       "           0         1         2      3              4       5\n",
       "0   04/12/05  13:10:00  16:23:00  55892  San Francisco  W 9-8�\n",
       "1   04/13/05  19:10:00  21:48:00  46514  San Francisco  W 4-1�\n",
       "2   04/15/05  19:40:00  21:48:00  51816      San Diego  W 4-0�\n",
       "3   04/16/05  19:10:00  21:52:00  54704      San Diego  W 8-3�\n",
       "4   04/17/05  13:10:00  15:31:00  53402      San Diego  W 6-0�\n",
       "..       ...       ...       ...    ...            ...     ...\n",
       "76  09/25/05  13:10:00  16:06:00  37846     Pittsburgh  W 9-2�\n",
       "77  09/26/05  19:10:00  22:27:00  36397     Pittsburgh  W 9-4�\n",
       "78  09/27/05  19:10:00  21:33:00  42604        Arizona  L 2-0�\n",
       "79  09/28/05  19:10:00  21:58:00  46424        Arizona  L 4-3�\n",
       "80  09/29/05  19:10:00  22:24:00  45053        Arizona  L 3-2�\n",
       "\n",
       "[81 rows x 6 columns]"
      ]
     },
     "execution_count": 4,
     "metadata": {},
     "output_type": "execute_result"
    }
   ],
   "source": [
    "df_games"
   ]
  },
  {
   "cell_type": "code",
   "execution_count": 5,
   "id": "37b8a5a6-317a-41f1-b143-889c32926e5c",
   "metadata": {},
   "outputs": [],
   "source": [
    "df_traffic.to_csv(\"Original_Dodgers_Traffic.csv\", index=False, header=False)"
   ]
  },
  {
   "cell_type": "code",
   "execution_count": 6,
   "id": "288e5f68-4661-4179-9fe5-3aec765edc85",
   "metadata": {},
   "outputs": [],
   "source": [
    "df_games.to_csv(\"Original_Dodgers_Events.csv\", index=False, header=False)"
   ]
  },
  {
   "cell_type": "markdown",
   "id": "b8357ba7-cf4c-4296-916c-b47107d436dc",
   "metadata": {},
   "source": [
    "We ended up saving an original version of the Dodgers.data and Dodgers.events data frames as .csv files to have a version in that format"
   ]
  },
  {
   "cell_type": "markdown",
   "id": "c46b12a9-20fc-4df4-9925-921d4ea02a9d",
   "metadata": {},
   "source": [
    "---\n",
    "#### Processesing and Cleaning up the data\n"
   ]
  },
  {
   "cell_type": "markdown",
   "id": "422167a2-ff98-40d8-9304-35836fee07de",
   "metadata": {},
   "source": [
    "\n",
    "   \n",
    "**df_games cleanup**"
   ]
  },
  {
   "cell_type": "code",
   "execution_count": 7,
   "id": "2828fd05-ee85-4e38-8303-cff505d6d090",
   "metadata": {},
   "outputs": [
    {
     "data": {
      "text/html": [
       "<div>\n",
       "<style scoped>\n",
       "    .dataframe tbody tr th:only-of-type {\n",
       "        vertical-align: middle;\n",
       "    }\n",
       "\n",
       "    .dataframe tbody tr th {\n",
       "        vertical-align: top;\n",
       "    }\n",
       "\n",
       "    .dataframe thead th {\n",
       "        text-align: right;\n",
       "    }\n",
       "</style>\n",
       "<table border=\"1\" class=\"dataframe\">\n",
       "  <thead>\n",
       "    <tr style=\"text-align: right;\">\n",
       "      <th></th>\n",
       "      <th>0</th>\n",
       "      <th>1</th>\n",
       "      <th>2</th>\n",
       "      <th>3</th>\n",
       "      <th>4</th>\n",
       "      <th>5</th>\n",
       "    </tr>\n",
       "  </thead>\n",
       "  <tbody>\n",
       "    <tr>\n",
       "      <th>0</th>\n",
       "      <td>04/12/05</td>\n",
       "      <td>13:10:00</td>\n",
       "      <td>16:23:00</td>\n",
       "      <td>55892</td>\n",
       "      <td>San Francisco</td>\n",
       "      <td>W 9-8�</td>\n",
       "    </tr>\n",
       "    <tr>\n",
       "      <th>1</th>\n",
       "      <td>04/13/05</td>\n",
       "      <td>19:10:00</td>\n",
       "      <td>21:48:00</td>\n",
       "      <td>46514</td>\n",
       "      <td>San Francisco</td>\n",
       "      <td>W 4-1�</td>\n",
       "    </tr>\n",
       "    <tr>\n",
       "      <th>2</th>\n",
       "      <td>04/15/05</td>\n",
       "      <td>19:40:00</td>\n",
       "      <td>21:48:00</td>\n",
       "      <td>51816</td>\n",
       "      <td>San Diego</td>\n",
       "      <td>W 4-0�</td>\n",
       "    </tr>\n",
       "    <tr>\n",
       "      <th>3</th>\n",
       "      <td>04/16/05</td>\n",
       "      <td>19:10:00</td>\n",
       "      <td>21:52:00</td>\n",
       "      <td>54704</td>\n",
       "      <td>San Diego</td>\n",
       "      <td>W 8-3�</td>\n",
       "    </tr>\n",
       "    <tr>\n",
       "      <th>4</th>\n",
       "      <td>04/17/05</td>\n",
       "      <td>13:10:00</td>\n",
       "      <td>15:31:00</td>\n",
       "      <td>53402</td>\n",
       "      <td>San Diego</td>\n",
       "      <td>W 6-0�</td>\n",
       "    </tr>\n",
       "    <tr>\n",
       "      <th>...</th>\n",
       "      <td>...</td>\n",
       "      <td>...</td>\n",
       "      <td>...</td>\n",
       "      <td>...</td>\n",
       "      <td>...</td>\n",
       "      <td>...</td>\n",
       "    </tr>\n",
       "    <tr>\n",
       "      <th>76</th>\n",
       "      <td>09/25/05</td>\n",
       "      <td>13:10:00</td>\n",
       "      <td>16:06:00</td>\n",
       "      <td>37846</td>\n",
       "      <td>Pittsburgh</td>\n",
       "      <td>W 9-2�</td>\n",
       "    </tr>\n",
       "    <tr>\n",
       "      <th>77</th>\n",
       "      <td>09/26/05</td>\n",
       "      <td>19:10:00</td>\n",
       "      <td>22:27:00</td>\n",
       "      <td>36397</td>\n",
       "      <td>Pittsburgh</td>\n",
       "      <td>W 9-4�</td>\n",
       "    </tr>\n",
       "    <tr>\n",
       "      <th>78</th>\n",
       "      <td>09/27/05</td>\n",
       "      <td>19:10:00</td>\n",
       "      <td>21:33:00</td>\n",
       "      <td>42604</td>\n",
       "      <td>Arizona</td>\n",
       "      <td>L 2-0�</td>\n",
       "    </tr>\n",
       "    <tr>\n",
       "      <th>79</th>\n",
       "      <td>09/28/05</td>\n",
       "      <td>19:10:00</td>\n",
       "      <td>21:58:00</td>\n",
       "      <td>46424</td>\n",
       "      <td>Arizona</td>\n",
       "      <td>L 4-3�</td>\n",
       "    </tr>\n",
       "    <tr>\n",
       "      <th>80</th>\n",
       "      <td>09/29/05</td>\n",
       "      <td>19:10:00</td>\n",
       "      <td>22:24:00</td>\n",
       "      <td>45053</td>\n",
       "      <td>Arizona</td>\n",
       "      <td>L 3-2�</td>\n",
       "    </tr>\n",
       "  </tbody>\n",
       "</table>\n",
       "<p>81 rows × 6 columns</p>\n",
       "</div>"
      ],
      "text/plain": [
       "           0         1         2      3              4       5\n",
       "0   04/12/05  13:10:00  16:23:00  55892  San Francisco  W 9-8�\n",
       "1   04/13/05  19:10:00  21:48:00  46514  San Francisco  W 4-1�\n",
       "2   04/15/05  19:40:00  21:48:00  51816      San Diego  W 4-0�\n",
       "3   04/16/05  19:10:00  21:52:00  54704      San Diego  W 8-3�\n",
       "4   04/17/05  13:10:00  15:31:00  53402      San Diego  W 6-0�\n",
       "..       ...       ...       ...    ...            ...     ...\n",
       "76  09/25/05  13:10:00  16:06:00  37846     Pittsburgh  W 9-2�\n",
       "77  09/26/05  19:10:00  22:27:00  36397     Pittsburgh  W 9-4�\n",
       "78  09/27/05  19:10:00  21:33:00  42604        Arizona  L 2-0�\n",
       "79  09/28/05  19:10:00  21:58:00  46424        Arizona  L 4-3�\n",
       "80  09/29/05  19:10:00  22:24:00  45053        Arizona  L 3-2�\n",
       "\n",
       "[81 rows x 6 columns]"
      ]
     },
     "execution_count": 7,
     "metadata": {},
     "output_type": "execute_result"
    }
   ],
   "source": [
    "df_games"
   ]
  },
  {
   "cell_type": "markdown",
   "id": "bd046742-f92c-4192-a255-2a483575f1e3",
   "metadata": {},
   "source": [
    "Renaming the columns of df_games with appropriately labeled column names rather than leaving the the numbered column headings"
   ]
  },
  {
   "cell_type": "code",
   "execution_count": 8,
   "id": "e0011b0c-4ef3-4afb-b24a-a6e1b8f21b12",
   "metadata": {},
   "outputs": [
    {
     "data": {
      "text/html": [
       "<div>\n",
       "<style scoped>\n",
       "    .dataframe tbody tr th:only-of-type {\n",
       "        vertical-align: middle;\n",
       "    }\n",
       "\n",
       "    .dataframe tbody tr th {\n",
       "        vertical-align: top;\n",
       "    }\n",
       "\n",
       "    .dataframe thead th {\n",
       "        text-align: right;\n",
       "    }\n",
       "</style>\n",
       "<table border=\"1\" class=\"dataframe\">\n",
       "  <thead>\n",
       "    <tr style=\"text-align: right;\">\n",
       "      <th></th>\n",
       "      <th>Date</th>\n",
       "      <th>Starttime</th>\n",
       "      <th>Endtime</th>\n",
       "      <th>Total Attendance</th>\n",
       "      <th>Opponent</th>\n",
       "      <th>Result</th>\n",
       "    </tr>\n",
       "  </thead>\n",
       "  <tbody>\n",
       "    <tr>\n",
       "      <th>0</th>\n",
       "      <td>04/12/05</td>\n",
       "      <td>13:10:00</td>\n",
       "      <td>16:23:00</td>\n",
       "      <td>55892</td>\n",
       "      <td>San Francisco</td>\n",
       "      <td>W 9-8�</td>\n",
       "    </tr>\n",
       "    <tr>\n",
       "      <th>1</th>\n",
       "      <td>04/13/05</td>\n",
       "      <td>19:10:00</td>\n",
       "      <td>21:48:00</td>\n",
       "      <td>46514</td>\n",
       "      <td>San Francisco</td>\n",
       "      <td>W 4-1�</td>\n",
       "    </tr>\n",
       "    <tr>\n",
       "      <th>2</th>\n",
       "      <td>04/15/05</td>\n",
       "      <td>19:40:00</td>\n",
       "      <td>21:48:00</td>\n",
       "      <td>51816</td>\n",
       "      <td>San Diego</td>\n",
       "      <td>W 4-0�</td>\n",
       "    </tr>\n",
       "    <tr>\n",
       "      <th>3</th>\n",
       "      <td>04/16/05</td>\n",
       "      <td>19:10:00</td>\n",
       "      <td>21:52:00</td>\n",
       "      <td>54704</td>\n",
       "      <td>San Diego</td>\n",
       "      <td>W 8-3�</td>\n",
       "    </tr>\n",
       "    <tr>\n",
       "      <th>4</th>\n",
       "      <td>04/17/05</td>\n",
       "      <td>13:10:00</td>\n",
       "      <td>15:31:00</td>\n",
       "      <td>53402</td>\n",
       "      <td>San Diego</td>\n",
       "      <td>W 6-0�</td>\n",
       "    </tr>\n",
       "    <tr>\n",
       "      <th>...</th>\n",
       "      <td>...</td>\n",
       "      <td>...</td>\n",
       "      <td>...</td>\n",
       "      <td>...</td>\n",
       "      <td>...</td>\n",
       "      <td>...</td>\n",
       "    </tr>\n",
       "    <tr>\n",
       "      <th>76</th>\n",
       "      <td>09/25/05</td>\n",
       "      <td>13:10:00</td>\n",
       "      <td>16:06:00</td>\n",
       "      <td>37846</td>\n",
       "      <td>Pittsburgh</td>\n",
       "      <td>W 9-2�</td>\n",
       "    </tr>\n",
       "    <tr>\n",
       "      <th>77</th>\n",
       "      <td>09/26/05</td>\n",
       "      <td>19:10:00</td>\n",
       "      <td>22:27:00</td>\n",
       "      <td>36397</td>\n",
       "      <td>Pittsburgh</td>\n",
       "      <td>W 9-4�</td>\n",
       "    </tr>\n",
       "    <tr>\n",
       "      <th>78</th>\n",
       "      <td>09/27/05</td>\n",
       "      <td>19:10:00</td>\n",
       "      <td>21:33:00</td>\n",
       "      <td>42604</td>\n",
       "      <td>Arizona</td>\n",
       "      <td>L 2-0�</td>\n",
       "    </tr>\n",
       "    <tr>\n",
       "      <th>79</th>\n",
       "      <td>09/28/05</td>\n",
       "      <td>19:10:00</td>\n",
       "      <td>21:58:00</td>\n",
       "      <td>46424</td>\n",
       "      <td>Arizona</td>\n",
       "      <td>L 4-3�</td>\n",
       "    </tr>\n",
       "    <tr>\n",
       "      <th>80</th>\n",
       "      <td>09/29/05</td>\n",
       "      <td>19:10:00</td>\n",
       "      <td>22:24:00</td>\n",
       "      <td>45053</td>\n",
       "      <td>Arizona</td>\n",
       "      <td>L 3-2�</td>\n",
       "    </tr>\n",
       "  </tbody>\n",
       "</table>\n",
       "<p>81 rows × 6 columns</p>\n",
       "</div>"
      ],
      "text/plain": [
       "        Date Starttime   Endtime  Total Attendance       Opponent  Result\n",
       "0   04/12/05  13:10:00  16:23:00             55892  San Francisco  W 9-8�\n",
       "1   04/13/05  19:10:00  21:48:00             46514  San Francisco  W 4-1�\n",
       "2   04/15/05  19:40:00  21:48:00             51816      San Diego  W 4-0�\n",
       "3   04/16/05  19:10:00  21:52:00             54704      San Diego  W 8-3�\n",
       "4   04/17/05  13:10:00  15:31:00             53402      San Diego  W 6-0�\n",
       "..       ...       ...       ...               ...            ...     ...\n",
       "76  09/25/05  13:10:00  16:06:00             37846     Pittsburgh  W 9-2�\n",
       "77  09/26/05  19:10:00  22:27:00             36397     Pittsburgh  W 9-4�\n",
       "78  09/27/05  19:10:00  21:33:00             42604        Arizona  L 2-0�\n",
       "79  09/28/05  19:10:00  21:58:00             46424        Arizona  L 4-3�\n",
       "80  09/29/05  19:10:00  22:24:00             45053        Arizona  L 3-2�\n",
       "\n",
       "[81 rows x 6 columns]"
      ]
     },
     "execution_count": 8,
     "metadata": {},
     "output_type": "execute_result"
    }
   ],
   "source": [
    "df_games = df_games.rename(columns = {0: 'Date', \n",
    "                                      1: 'Starttime',\n",
    "                                      2: 'Endtime',\n",
    "                                      3: 'Total Attendance',\n",
    "                                      4: 'Opponent',\n",
    "                                      5: 'Result'})\n",
    "\n",
    "df_games"
   ]
  },
  {
   "cell_type": "markdown",
   "id": "6cf91ae4-8060-4aba-a2d7-d3c6f936ec27",
   "metadata": {},
   "source": [
    "With the Date, Starttime, and Endtime taking up three columns we wanted to combine these columns in a way that would have just the Starttime and Endtime of each Dodgers game in Datetime form.   \n",
    "\n",
    "In doing so, we had to check whether or not there was a baseball game that extended into the next day. There doesn't seem to be a game that lasted into the next day as the latest Endtime value was 23:18:00 or 11:18:00 pm. Knowing this, we wouldn't have to change any of the values within the Date column to match the Endtime values.    \n",
    "\n",
    "To combine the Date and Endtime columns, we converted these columns into strings and concatenated them with a space in between, then we converted the resulting value into Datetime form and stored the value within the Endtime column. We did this same strategy to with the Date and Startime columns and stored the resulting datetime value within the Date column. Then we dropped the Starttime column, since the needed data was now within the Date column, then renamed the Date column as Starttime "
   ]
  },
  {
   "cell_type": "code",
   "execution_count": 9,
   "id": "2bccc233-5710-4f14-a026-295371ce1fc5",
   "metadata": {},
   "outputs": [
    {
     "name": "stdout",
     "output_type": "stream",
     "text": [
      "23:18:00\n"
     ]
    }
   ],
   "source": [
    "print(max(df_games['Endtime']))"
   ]
  },
  {
   "cell_type": "code",
   "execution_count": 10,
   "id": "b14468c3-000c-4c0a-adc0-05f09d139161",
   "metadata": {},
   "outputs": [],
   "source": [
    "df_games.Endtime = df_games.Date.astype(str) + \" \" + df_games.Endtime.astype(str)\n",
    "df_games.Endtime = pd.to_datetime(df_games.Endtime)\n",
    "\n",
    "df_games.Date = df_games.Date.astype(str) + \" \" + df_games.Starttime.astype(str)\n",
    "df_games.Date = pd.to_datetime(df_games.Date)\n",
    "\n",
    "df_games.drop(columns=['Starttime', 'Result'], axis = 1, inplace=True)\n",
    "df_games.rename(columns = {'Date': 'Starttime'}, inplace=True)"
   ]
  },
  {
   "cell_type": "code",
   "execution_count": 11,
   "id": "79e02965-03cf-41b8-99aa-d9851b40aed3",
   "metadata": {},
   "outputs": [
    {
     "data": {
      "text/html": [
       "<div>\n",
       "<style scoped>\n",
       "    .dataframe tbody tr th:only-of-type {\n",
       "        vertical-align: middle;\n",
       "    }\n",
       "\n",
       "    .dataframe tbody tr th {\n",
       "        vertical-align: top;\n",
       "    }\n",
       "\n",
       "    .dataframe thead th {\n",
       "        text-align: right;\n",
       "    }\n",
       "</style>\n",
       "<table border=\"1\" class=\"dataframe\">\n",
       "  <thead>\n",
       "    <tr style=\"text-align: right;\">\n",
       "      <th></th>\n",
       "      <th>Starttime</th>\n",
       "      <th>Endtime</th>\n",
       "      <th>Total Attendance</th>\n",
       "      <th>Opponent</th>\n",
       "    </tr>\n",
       "  </thead>\n",
       "  <tbody>\n",
       "    <tr>\n",
       "      <th>0</th>\n",
       "      <td>2005-04-12 13:10:00</td>\n",
       "      <td>2005-04-12 16:23:00</td>\n",
       "      <td>55892</td>\n",
       "      <td>San Francisco</td>\n",
       "    </tr>\n",
       "    <tr>\n",
       "      <th>1</th>\n",
       "      <td>2005-04-13 19:10:00</td>\n",
       "      <td>2005-04-13 21:48:00</td>\n",
       "      <td>46514</td>\n",
       "      <td>San Francisco</td>\n",
       "    </tr>\n",
       "    <tr>\n",
       "      <th>2</th>\n",
       "      <td>2005-04-15 19:40:00</td>\n",
       "      <td>2005-04-15 21:48:00</td>\n",
       "      <td>51816</td>\n",
       "      <td>San Diego</td>\n",
       "    </tr>\n",
       "    <tr>\n",
       "      <th>3</th>\n",
       "      <td>2005-04-16 19:10:00</td>\n",
       "      <td>2005-04-16 21:52:00</td>\n",
       "      <td>54704</td>\n",
       "      <td>San Diego</td>\n",
       "    </tr>\n",
       "    <tr>\n",
       "      <th>4</th>\n",
       "      <td>2005-04-17 13:10:00</td>\n",
       "      <td>2005-04-17 15:31:00</td>\n",
       "      <td>53402</td>\n",
       "      <td>San Diego</td>\n",
       "    </tr>\n",
       "    <tr>\n",
       "      <th>...</th>\n",
       "      <td>...</td>\n",
       "      <td>...</td>\n",
       "      <td>...</td>\n",
       "      <td>...</td>\n",
       "    </tr>\n",
       "    <tr>\n",
       "      <th>76</th>\n",
       "      <td>2005-09-25 13:10:00</td>\n",
       "      <td>2005-09-25 16:06:00</td>\n",
       "      <td>37846</td>\n",
       "      <td>Pittsburgh</td>\n",
       "    </tr>\n",
       "    <tr>\n",
       "      <th>77</th>\n",
       "      <td>2005-09-26 19:10:00</td>\n",
       "      <td>2005-09-26 22:27:00</td>\n",
       "      <td>36397</td>\n",
       "      <td>Pittsburgh</td>\n",
       "    </tr>\n",
       "    <tr>\n",
       "      <th>78</th>\n",
       "      <td>2005-09-27 19:10:00</td>\n",
       "      <td>2005-09-27 21:33:00</td>\n",
       "      <td>42604</td>\n",
       "      <td>Arizona</td>\n",
       "    </tr>\n",
       "    <tr>\n",
       "      <th>79</th>\n",
       "      <td>2005-09-28 19:10:00</td>\n",
       "      <td>2005-09-28 21:58:00</td>\n",
       "      <td>46424</td>\n",
       "      <td>Arizona</td>\n",
       "    </tr>\n",
       "    <tr>\n",
       "      <th>80</th>\n",
       "      <td>2005-09-29 19:10:00</td>\n",
       "      <td>2005-09-29 22:24:00</td>\n",
       "      <td>45053</td>\n",
       "      <td>Arizona</td>\n",
       "    </tr>\n",
       "  </tbody>\n",
       "</table>\n",
       "<p>81 rows × 4 columns</p>\n",
       "</div>"
      ],
      "text/plain": [
       "             Starttime             Endtime  Total Attendance       Opponent\n",
       "0  2005-04-12 13:10:00 2005-04-12 16:23:00             55892  San Francisco\n",
       "1  2005-04-13 19:10:00 2005-04-13 21:48:00             46514  San Francisco\n",
       "2  2005-04-15 19:40:00 2005-04-15 21:48:00             51816      San Diego\n",
       "3  2005-04-16 19:10:00 2005-04-16 21:52:00             54704      San Diego\n",
       "4  2005-04-17 13:10:00 2005-04-17 15:31:00             53402      San Diego\n",
       "..                 ...                 ...               ...            ...\n",
       "76 2005-09-25 13:10:00 2005-09-25 16:06:00             37846     Pittsburgh\n",
       "77 2005-09-26 19:10:00 2005-09-26 22:27:00             36397     Pittsburgh\n",
       "78 2005-09-27 19:10:00 2005-09-27 21:33:00             42604        Arizona\n",
       "79 2005-09-28 19:10:00 2005-09-28 21:58:00             46424        Arizona\n",
       "80 2005-09-29 19:10:00 2005-09-29 22:24:00             45053        Arizona\n",
       "\n",
       "[81 rows x 4 columns]"
      ]
     },
     "execution_count": 11,
     "metadata": {},
     "output_type": "execute_result"
    }
   ],
   "source": [
    "df_games"
   ]
  },
  {
   "cell_type": "code",
   "execution_count": 12,
   "id": "b85a7a12-9d12-4c93-9f08-661653df233b",
   "metadata": {},
   "outputs": [],
   "source": [
    "df_games.to_csv(\"New_Dodgers_Events.csv\", index=False)"
   ]
  },
  {
   "cell_type": "markdown",
   "id": "31e994fa-6623-4511-afed-dd2f29955b5d",
   "metadata": {},
   "source": [
    "**df_traffic clean up**"
   ]
  },
  {
   "cell_type": "code",
   "execution_count": 13,
   "id": "a7e96297-91e0-47cc-9565-83daeeed5972",
   "metadata": {},
   "outputs": [
    {
     "data": {
      "text/html": [
       "<div>\n",
       "<style scoped>\n",
       "    .dataframe tbody tr th:only-of-type {\n",
       "        vertical-align: middle;\n",
       "    }\n",
       "\n",
       "    .dataframe tbody tr th {\n",
       "        vertical-align: top;\n",
       "    }\n",
       "\n",
       "    .dataframe thead th {\n",
       "        text-align: right;\n",
       "    }\n",
       "</style>\n",
       "<table border=\"1\" class=\"dataframe\">\n",
       "  <thead>\n",
       "    <tr style=\"text-align: right;\">\n",
       "      <th></th>\n",
       "      <th>0</th>\n",
       "      <th>1</th>\n",
       "    </tr>\n",
       "  </thead>\n",
       "  <tbody>\n",
       "    <tr>\n",
       "      <th>0</th>\n",
       "      <td>4/10/2005 0:00</td>\n",
       "      <td>-1</td>\n",
       "    </tr>\n",
       "    <tr>\n",
       "      <th>1</th>\n",
       "      <td>4/10/2005 0:05</td>\n",
       "      <td>-1</td>\n",
       "    </tr>\n",
       "    <tr>\n",
       "      <th>2</th>\n",
       "      <td>4/10/2005 0:10</td>\n",
       "      <td>-1</td>\n",
       "    </tr>\n",
       "    <tr>\n",
       "      <th>3</th>\n",
       "      <td>4/10/2005 0:15</td>\n",
       "      <td>-1</td>\n",
       "    </tr>\n",
       "    <tr>\n",
       "      <th>4</th>\n",
       "      <td>4/10/2005 0:20</td>\n",
       "      <td>-1</td>\n",
       "    </tr>\n",
       "    <tr>\n",
       "      <th>...</th>\n",
       "      <td>...</td>\n",
       "      <td>...</td>\n",
       "    </tr>\n",
       "    <tr>\n",
       "      <th>50395</th>\n",
       "      <td>10/1/2005 23:35</td>\n",
       "      <td>-1</td>\n",
       "    </tr>\n",
       "    <tr>\n",
       "      <th>50396</th>\n",
       "      <td>10/1/2005 23:40</td>\n",
       "      <td>-1</td>\n",
       "    </tr>\n",
       "    <tr>\n",
       "      <th>50397</th>\n",
       "      <td>10/1/2005 23:45</td>\n",
       "      <td>-1</td>\n",
       "    </tr>\n",
       "    <tr>\n",
       "      <th>50398</th>\n",
       "      <td>10/1/2005 23:50</td>\n",
       "      <td>-1</td>\n",
       "    </tr>\n",
       "    <tr>\n",
       "      <th>50399</th>\n",
       "      <td>10/1/2005 23:55</td>\n",
       "      <td>-1</td>\n",
       "    </tr>\n",
       "  </tbody>\n",
       "</table>\n",
       "<p>50400 rows × 2 columns</p>\n",
       "</div>"
      ],
      "text/plain": [
       "                     0  1\n",
       "0       4/10/2005 0:00 -1\n",
       "1       4/10/2005 0:05 -1\n",
       "2       4/10/2005 0:10 -1\n",
       "3       4/10/2005 0:15 -1\n",
       "4       4/10/2005 0:20 -1\n",
       "...                ... ..\n",
       "50395  10/1/2005 23:35 -1\n",
       "50396  10/1/2005 23:40 -1\n",
       "50397  10/1/2005 23:45 -1\n",
       "50398  10/1/2005 23:50 -1\n",
       "50399  10/1/2005 23:55 -1\n",
       "\n",
       "[50400 rows x 2 columns]"
      ]
     },
     "execution_count": 13,
     "metadata": {},
     "output_type": "execute_result"
    }
   ],
   "source": [
    "df_traffic"
   ]
  },
  {
   "cell_type": "markdown",
   "id": "768ba1a0-9bea-4878-b19b-24183c52ddcd",
   "metadata": {},
   "source": [
    "Renaming column headers that appropriately fit the data"
   ]
  },
  {
   "cell_type": "code",
   "execution_count": 14,
   "id": "800425dc-d070-424f-9d3d-3af58d270e01",
   "metadata": {},
   "outputs": [],
   "source": [
    "df_traffic = df_traffic.rename(columns = {0: 'Date', \n",
    "                                          1: 'Traffic_flow'})"
   ]
  },
  {
   "cell_type": "markdown",
   "id": "0e2d27d1-1e31-45c0-88b6-d259259f2bbb",
   "metadata": {},
   "source": [
    "The data within the Date column is represented as object rather than being in Datetime form"
   ]
  },
  {
   "cell_type": "code",
   "execution_count": 15,
   "id": "8ec99528-e10a-4609-a179-6101ffd58508",
   "metadata": {},
   "outputs": [
    {
     "data": {
      "text/plain": [
       "Date            object\n",
       "Traffic_flow     int64\n",
       "dtype: object"
      ]
     },
     "execution_count": 15,
     "metadata": {},
     "output_type": "execute_result"
    }
   ],
   "source": [
    "df_traffic.dtypes"
   ]
  },
  {
   "cell_type": "code",
   "execution_count": 16,
   "id": "634f7e6c-dac1-4c59-b3e2-f6839bd6d47f",
   "metadata": {},
   "outputs": [
    {
     "data": {
      "text/plain": [
       "Date            datetime64[ns]\n",
       "Traffic_flow             int64\n",
       "dtype: object"
      ]
     },
     "execution_count": 16,
     "metadata": {},
     "output_type": "execute_result"
    }
   ],
   "source": [
    "df_traffic.Date = pd.to_datetime(df_traffic.Date)\n",
    "df_traffic.dtypes"
   ]
  },
  {
   "cell_type": "markdown",
   "id": "f9021914-fb20-4b3c-80c3-afff01c2aadc",
   "metadata": {},
   "source": [
    "Checking to see if datatype change happened correctly"
   ]
  },
  {
   "cell_type": "code",
   "execution_count": 17,
   "id": "0ee17aed-922a-4a7e-b77a-c79be2358f30",
   "metadata": {},
   "outputs": [
    {
     "data": {
      "text/html": [
       "<div>\n",
       "<style scoped>\n",
       "    .dataframe tbody tr th:only-of-type {\n",
       "        vertical-align: middle;\n",
       "    }\n",
       "\n",
       "    .dataframe tbody tr th {\n",
       "        vertical-align: top;\n",
       "    }\n",
       "\n",
       "    .dataframe thead th {\n",
       "        text-align: right;\n",
       "    }\n",
       "</style>\n",
       "<table border=\"1\" class=\"dataframe\">\n",
       "  <thead>\n",
       "    <tr style=\"text-align: right;\">\n",
       "      <th></th>\n",
       "      <th>Date</th>\n",
       "      <th>Traffic_flow</th>\n",
       "    </tr>\n",
       "  </thead>\n",
       "  <tbody>\n",
       "    <tr>\n",
       "      <th>0</th>\n",
       "      <td>2005-04-10 00:00:00</td>\n",
       "      <td>-1</td>\n",
       "    </tr>\n",
       "    <tr>\n",
       "      <th>1</th>\n",
       "      <td>2005-04-10 00:05:00</td>\n",
       "      <td>-1</td>\n",
       "    </tr>\n",
       "    <tr>\n",
       "      <th>2</th>\n",
       "      <td>2005-04-10 00:10:00</td>\n",
       "      <td>-1</td>\n",
       "    </tr>\n",
       "    <tr>\n",
       "      <th>3</th>\n",
       "      <td>2005-04-10 00:15:00</td>\n",
       "      <td>-1</td>\n",
       "    </tr>\n",
       "    <tr>\n",
       "      <th>4</th>\n",
       "      <td>2005-04-10 00:20:00</td>\n",
       "      <td>-1</td>\n",
       "    </tr>\n",
       "    <tr>\n",
       "      <th>...</th>\n",
       "      <td>...</td>\n",
       "      <td>...</td>\n",
       "    </tr>\n",
       "    <tr>\n",
       "      <th>50395</th>\n",
       "      <td>2005-10-01 23:35:00</td>\n",
       "      <td>-1</td>\n",
       "    </tr>\n",
       "    <tr>\n",
       "      <th>50396</th>\n",
       "      <td>2005-10-01 23:40:00</td>\n",
       "      <td>-1</td>\n",
       "    </tr>\n",
       "    <tr>\n",
       "      <th>50397</th>\n",
       "      <td>2005-10-01 23:45:00</td>\n",
       "      <td>-1</td>\n",
       "    </tr>\n",
       "    <tr>\n",
       "      <th>50398</th>\n",
       "      <td>2005-10-01 23:50:00</td>\n",
       "      <td>-1</td>\n",
       "    </tr>\n",
       "    <tr>\n",
       "      <th>50399</th>\n",
       "      <td>2005-10-01 23:55:00</td>\n",
       "      <td>-1</td>\n",
       "    </tr>\n",
       "  </tbody>\n",
       "</table>\n",
       "<p>50400 rows × 2 columns</p>\n",
       "</div>"
      ],
      "text/plain": [
       "                     Date  Traffic_flow\n",
       "0     2005-04-10 00:00:00            -1\n",
       "1     2005-04-10 00:05:00            -1\n",
       "2     2005-04-10 00:10:00            -1\n",
       "3     2005-04-10 00:15:00            -1\n",
       "4     2005-04-10 00:20:00            -1\n",
       "...                   ...           ...\n",
       "50395 2005-10-01 23:35:00            -1\n",
       "50396 2005-10-01 23:40:00            -1\n",
       "50397 2005-10-01 23:45:00            -1\n",
       "50398 2005-10-01 23:50:00            -1\n",
       "50399 2005-10-01 23:55:00            -1\n",
       "\n",
       "[50400 rows x 2 columns]"
      ]
     },
     "execution_count": 17,
     "metadata": {},
     "output_type": "execute_result"
    }
   ],
   "source": [
    "df_traffic"
   ]
  },
  {
   "cell_type": "markdown",
   "id": "97806efa-f827-40e9-9b6d-495cf35a8966",
   "metadata": {},
   "source": [
    "Since we are trying to predict whether or not a Dodgers baseball game is taking place given the traffic car count, we wanted to add a column to the df_traffic dataframe that has a 1 when there is a game happening and 0 otherwise. However, since traffic builds up prior to the starting time of a game and after the starting time of a game we decided to include 30 minutes before the startime, throughout the game, and 30 minutes after the game as indicating that there is game underway. \n",
    "\n",
    "The occurance list, takes the index values of all the index values within the df_traffic dataframe that are within 30 minutes before, during, and 30 minutes after each dodgers game. Then we add a \"Game_Occurance\" column to the dataframe with an initial value of 0 and add 1 to any index that is in the occurance list.  \n",
    "\n",
    "Looking ahead, we thought that we might want to take into account the weekday, hour, and minute in building our models so we pulled the these datapoints from the Date column and stored each of them into their own column."
   ]
  },
  {
   "cell_type": "markdown",
   "id": "20bcbd32-1565-4b62-95b4-d12435818e4c",
   "metadata": {},
   "source": [
    "Note: We previously tried to run the following code to for matching the df_traffic.Date and df_games.Starttime and df_games.Endtime data.   \n",
    "**for i in occurance_list:   \n",
    "    for j in df_traffic.index.values:   \n",
    "        if j == i:   \n",
    "            df_traffic.Game_Occurance[i] += 1**\n",
    "\n",
    "However, we got a SettingWithCopyingWarning. To get around this, we used .iat[i] to get access to the data at a specific index value since we were looping through the index values"
   ]
  },
  {
   "cell_type": "code",
   "execution_count": 18,
   "id": "9afb3b0c-92fd-4a9e-acd4-057bc3b3b8c3",
   "metadata": {},
   "outputs": [],
   "source": [
    "df_traffic.insert(1, \"Week_Day\", 0)\n",
    "df_traffic.insert(2, \"Hour\", 0)\n",
    "df_traffic.insert(3, \"Minute\", 0)\n",
    "df_traffic.insert(5, \"Game_Occurance\", 0)"
   ]
  },
  {
   "cell_type": "code",
   "execution_count": 19,
   "id": "ccd0fa8f-475b-48c3-af1a-f5f2c673537b",
   "metadata": {},
   "outputs": [],
   "source": [
    "occurance_list = []\n",
    "for i in range(0, 80):\n",
    "    a = df_traffic[(df_traffic.Date >= (df_games.Starttime[i] - pd.Timedelta(minutes = 30))) & \n",
    "                   (df_traffic.Date <= (df_games.Endtime[i] + pd.Timedelta(minutes = 30)))].index.values.tolist()\n",
    "    for j in a:\n",
    "        occurance_list.append(j)\n",
    "\n",
    "for i in occurance_list:\n",
    "    for j in df_traffic.index.values:\n",
    "        if j == i:\n",
    "            df_traffic.Game_Occurance.iat[i] += 1"
   ]
  },
  {
   "cell_type": "code",
   "execution_count": 20,
   "id": "85d6bb7f-c6b4-4be2-8778-177b87f75c95",
   "metadata": {},
   "outputs": [],
   "source": [
    "for i in df_traffic.index.values:\n",
    "    df_traffic.Week_Day.iat[i] = df_traffic.Date.iat[i].weekday()\n",
    "    df_traffic.Hour.iat[i] = df_traffic.Date.iat[i].hour\n",
    "    df_traffic.Minute.iat[i] = df_traffic.Date.iat[i].minute"
   ]
  },
  {
   "cell_type": "markdown",
   "id": "fc82fe04-316b-4beb-836b-2739ca06431c",
   "metadata": {},
   "source": [
    "Using a Query to check the output previous few cells"
   ]
  },
  {
   "cell_type": "code",
   "execution_count": 21,
   "id": "4a02dbec-f145-42c3-b7c2-a33c9904ad11",
   "metadata": {},
   "outputs": [
    {
     "data": {
      "text/html": [
       "<div>\n",
       "<style scoped>\n",
       "    .dataframe tbody tr th:only-of-type {\n",
       "        vertical-align: middle;\n",
       "    }\n",
       "\n",
       "    .dataframe tbody tr th {\n",
       "        vertical-align: top;\n",
       "    }\n",
       "\n",
       "    .dataframe thead th {\n",
       "        text-align: right;\n",
       "    }\n",
       "</style>\n",
       "<table border=\"1\" class=\"dataframe\">\n",
       "  <thead>\n",
       "    <tr style=\"text-align: right;\">\n",
       "      <th></th>\n",
       "      <th>Date</th>\n",
       "      <th>Week_Day</th>\n",
       "      <th>Hour</th>\n",
       "      <th>Minute</th>\n",
       "      <th>Traffic_flow</th>\n",
       "      <th>Game_Occurance</th>\n",
       "    </tr>\n",
       "  </thead>\n",
       "  <tbody>\n",
       "    <tr>\n",
       "      <th>728</th>\n",
       "      <td>2005-04-12 12:40:00</td>\n",
       "      <td>1</td>\n",
       "      <td>12</td>\n",
       "      <td>40</td>\n",
       "      <td>40</td>\n",
       "      <td>1</td>\n",
       "    </tr>\n",
       "    <tr>\n",
       "      <th>729</th>\n",
       "      <td>2005-04-12 12:45:00</td>\n",
       "      <td>1</td>\n",
       "      <td>12</td>\n",
       "      <td>45</td>\n",
       "      <td>13</td>\n",
       "      <td>1</td>\n",
       "    </tr>\n",
       "    <tr>\n",
       "      <th>730</th>\n",
       "      <td>2005-04-12 12:50:00</td>\n",
       "      <td>1</td>\n",
       "      <td>12</td>\n",
       "      <td>50</td>\n",
       "      <td>34</td>\n",
       "      <td>1</td>\n",
       "    </tr>\n",
       "    <tr>\n",
       "      <th>731</th>\n",
       "      <td>2005-04-12 12:55:00</td>\n",
       "      <td>1</td>\n",
       "      <td>12</td>\n",
       "      <td>55</td>\n",
       "      <td>30</td>\n",
       "      <td>1</td>\n",
       "    </tr>\n",
       "    <tr>\n",
       "      <th>732</th>\n",
       "      <td>2005-04-12 13:00:00</td>\n",
       "      <td>1</td>\n",
       "      <td>13</td>\n",
       "      <td>0</td>\n",
       "      <td>34</td>\n",
       "      <td>1</td>\n",
       "    </tr>\n",
       "    <tr>\n",
       "      <th>...</th>\n",
       "      <td>...</td>\n",
       "      <td>...</td>\n",
       "      <td>...</td>\n",
       "      <td>...</td>\n",
       "      <td>...</td>\n",
       "      <td>...</td>\n",
       "    </tr>\n",
       "    <tr>\n",
       "      <th>49513</th>\n",
       "      <td>2005-09-28 22:05:00</td>\n",
       "      <td>2</td>\n",
       "      <td>22</td>\n",
       "      <td>5</td>\n",
       "      <td>14</td>\n",
       "      <td>1</td>\n",
       "    </tr>\n",
       "    <tr>\n",
       "      <th>49514</th>\n",
       "      <td>2005-09-28 22:10:00</td>\n",
       "      <td>2</td>\n",
       "      <td>22</td>\n",
       "      <td>10</td>\n",
       "      <td>40</td>\n",
       "      <td>1</td>\n",
       "    </tr>\n",
       "    <tr>\n",
       "      <th>49515</th>\n",
       "      <td>2005-09-28 22:15:00</td>\n",
       "      <td>2</td>\n",
       "      <td>22</td>\n",
       "      <td>15</td>\n",
       "      <td>26</td>\n",
       "      <td>1</td>\n",
       "    </tr>\n",
       "    <tr>\n",
       "      <th>49516</th>\n",
       "      <td>2005-09-28 22:20:00</td>\n",
       "      <td>2</td>\n",
       "      <td>22</td>\n",
       "      <td>20</td>\n",
       "      <td>31</td>\n",
       "      <td>1</td>\n",
       "    </tr>\n",
       "    <tr>\n",
       "      <th>49517</th>\n",
       "      <td>2005-09-28 22:25:00</td>\n",
       "      <td>2</td>\n",
       "      <td>22</td>\n",
       "      <td>25</td>\n",
       "      <td>47</td>\n",
       "      <td>1</td>\n",
       "    </tr>\n",
       "  </tbody>\n",
       "</table>\n",
       "<p>3722 rows × 6 columns</p>\n",
       "</div>"
      ],
      "text/plain": [
       "                     Date  Week_Day  Hour  Minute  Traffic_flow  \\\n",
       "728   2005-04-12 12:40:00         1    12      40            40   \n",
       "729   2005-04-12 12:45:00         1    12      45            13   \n",
       "730   2005-04-12 12:50:00         1    12      50            34   \n",
       "731   2005-04-12 12:55:00         1    12      55            30   \n",
       "732   2005-04-12 13:00:00         1    13       0            34   \n",
       "...                   ...       ...   ...     ...           ...   \n",
       "49513 2005-09-28 22:05:00         2    22       5            14   \n",
       "49514 2005-09-28 22:10:00         2    22      10            40   \n",
       "49515 2005-09-28 22:15:00         2    22      15            26   \n",
       "49516 2005-09-28 22:20:00         2    22      20            31   \n",
       "49517 2005-09-28 22:25:00         2    22      25            47   \n",
       "\n",
       "       Game_Occurance  \n",
       "728                 1  \n",
       "729                 1  \n",
       "730                 1  \n",
       "731                 1  \n",
       "732                 1  \n",
       "...               ...  \n",
       "49513               1  \n",
       "49514               1  \n",
       "49515               1  \n",
       "49516               1  \n",
       "49517               1  \n",
       "\n",
       "[3722 rows x 6 columns]"
      ]
     },
     "execution_count": 21,
     "metadata": {},
     "output_type": "execute_result"
    }
   ],
   "source": [
    "df_traffic.query(\"Game_Occurance == 1\")"
   ]
  },
  {
   "cell_type": "markdown",
   "id": "0caeb3b6-c8be-40dd-8aa2-ce9ef003d0df",
   "metadata": {},
   "source": [
    "**Dropping missing values**"
   ]
  },
  {
   "cell_type": "markdown",
   "id": "d8996342-21a6-4f92-a167-ba379bd49821",
   "metadata": {},
   "source": [
    "The missing values that are within the Traffic_flow column are indicated with a value of -1.   \n",
    "   \n",
    "By using a query to look up the number of times that the Traffic_flow is equal to -1, there are 2903 instances of -1. This means that there are a total of **2903** of missing values within the df_traffic dataframe, **122** of which occur during Dodgers games. The total 2903 missing values within the df_traffic dataframe represents roughly **5.76%** of the total data points. The 122 missing data points that occur during a Dodgers games represents just a shade over **3.2778%** of the data points that occur during a Dodgers game. "
   ]
  },
  {
   "cell_type": "code",
   "execution_count": 22,
   "id": "3baac635-a038-4405-ab22-39023c6f00da",
   "metadata": {},
   "outputs": [
    {
     "name": "stdout",
     "output_type": "stream",
     "text": [
      "Total number of missing values: 2903\n",
      "Proportion of the total number of missing values: 5.759920634920635%\n"
     ]
    }
   ],
   "source": [
    "print(f\"Total number of missing values: {df_traffic.query('Traffic_flow == -1').Traffic_flow.count()}\")\n",
    "print(f\"Proportion of the total number of missing values: {(df_traffic.query('Traffic_flow == -1').Traffic_flow.count() / df_traffic.Traffic_flow.count()) * 100}%\")"
   ]
  },
  {
   "cell_type": "code",
   "execution_count": 23,
   "id": "ebc2facf-f461-4ff9-91d2-a1980a608e33",
   "metadata": {},
   "outputs": [
    {
     "name": "stdout",
     "output_type": "stream",
     "text": [
      "Total number of missing values that occur during a Dodgers game: 122\n",
      "Proportion of the total of missing values that occur during a Dodgers game: 3.277807630306287%\n"
     ]
    }
   ],
   "source": [
    "print(f\"Total number of missing values that occur during a Dodgers game: {df_traffic.query('Traffic_flow == -1 and Game_Occurance == 1').Traffic_flow.count()}\")\n",
    "print(f\"Proportion of the total of missing values that occur during a Dodgers game: {(df_traffic.query('Traffic_flow == -1 and Game_Occurance == 1').Traffic_flow.count() / df_traffic.query('Game_Occurance == 1').Traffic_flow.count()) * 100}%\")\n"
   ]
  },
  {
   "cell_type": "markdown",
   "id": "895bcd05-fe5c-43d5-9b3d-4d4c189a9807",
   "metadata": {},
   "source": [
    "   \n",
    "Futhermore, it doesn't appear that we are missing to much data from the games since we are only missing traffic data that only happen during a total of 3 games"
   ]
  },
  {
   "cell_type": "code",
   "execution_count": 24,
   "id": "38228f9e-8fcb-4541-9d1c-23964e10f60f",
   "metadata": {},
   "outputs": [
    {
     "data": {
      "text/plain": [
       "Date\n",
       "2005-06-27    43\n",
       "2005-06-28    50\n",
       "2005-09-10    29\n",
       "Name: Date, dtype: int64"
      ]
     },
     "execution_count": 24,
     "metadata": {},
     "output_type": "execute_result"
    }
   ],
   "source": [
    "df_traffic.query('Traffic_flow == -1 and Game_Occurance == 1').Date.dt.date.groupby(\n",
    "    df_traffic.query('Traffic_flow == -1 and Game_Occurance == 1').Date.dt.date).count()"
   ]
  },
  {
   "cell_type": "code",
   "execution_count": 25,
   "id": "f80d3994-1617-45e9-ae09-ae9d3f9c863c",
   "metadata": {},
   "outputs": [
    {
     "data": {
      "text/html": [
       "<div>\n",
       "<style scoped>\n",
       "    .dataframe tbody tr th:only-of-type {\n",
       "        vertical-align: middle;\n",
       "    }\n",
       "\n",
       "    .dataframe tbody tr th {\n",
       "        vertical-align: top;\n",
       "    }\n",
       "\n",
       "    .dataframe thead th {\n",
       "        text-align: right;\n",
       "    }\n",
       "</style>\n",
       "<table border=\"1\" class=\"dataframe\">\n",
       "  <thead>\n",
       "    <tr style=\"text-align: right;\">\n",
       "      <th></th>\n",
       "      <th>Date</th>\n",
       "      <th>Week_Day</th>\n",
       "      <th>Hour</th>\n",
       "      <th>Minute</th>\n",
       "      <th>Traffic_flow</th>\n",
       "      <th>Game_Occurance</th>\n",
       "    </tr>\n",
       "  </thead>\n",
       "  <tbody>\n",
       "    <tr>\n",
       "      <th>0</th>\n",
       "      <td>2005-04-11 07:35:00</td>\n",
       "      <td>0</td>\n",
       "      <td>7</td>\n",
       "      <td>35</td>\n",
       "      <td>23</td>\n",
       "      <td>0</td>\n",
       "    </tr>\n",
       "    <tr>\n",
       "      <th>1</th>\n",
       "      <td>2005-04-11 07:40:00</td>\n",
       "      <td>0</td>\n",
       "      <td>7</td>\n",
       "      <td>40</td>\n",
       "      <td>42</td>\n",
       "      <td>0</td>\n",
       "    </tr>\n",
       "    <tr>\n",
       "      <th>2</th>\n",
       "      <td>2005-04-11 07:45:00</td>\n",
       "      <td>0</td>\n",
       "      <td>7</td>\n",
       "      <td>45</td>\n",
       "      <td>37</td>\n",
       "      <td>0</td>\n",
       "    </tr>\n",
       "    <tr>\n",
       "      <th>3</th>\n",
       "      <td>2005-04-11 07:50:00</td>\n",
       "      <td>0</td>\n",
       "      <td>7</td>\n",
       "      <td>50</td>\n",
       "      <td>24</td>\n",
       "      <td>0</td>\n",
       "    </tr>\n",
       "    <tr>\n",
       "      <th>4</th>\n",
       "      <td>2005-04-11 07:55:00</td>\n",
       "      <td>0</td>\n",
       "      <td>7</td>\n",
       "      <td>55</td>\n",
       "      <td>39</td>\n",
       "      <td>0</td>\n",
       "    </tr>\n",
       "    <tr>\n",
       "      <th>...</th>\n",
       "      <td>...</td>\n",
       "      <td>...</td>\n",
       "      <td>...</td>\n",
       "      <td>...</td>\n",
       "      <td>...</td>\n",
       "      <td>...</td>\n",
       "    </tr>\n",
       "    <tr>\n",
       "      <th>47492</th>\n",
       "      <td>2005-09-30 23:45:00</td>\n",
       "      <td>4</td>\n",
       "      <td>23</td>\n",
       "      <td>45</td>\n",
       "      <td>14</td>\n",
       "      <td>0</td>\n",
       "    </tr>\n",
       "    <tr>\n",
       "      <th>47493</th>\n",
       "      <td>2005-09-30 23:50:00</td>\n",
       "      <td>4</td>\n",
       "      <td>23</td>\n",
       "      <td>50</td>\n",
       "      <td>12</td>\n",
       "      <td>0</td>\n",
       "    </tr>\n",
       "    <tr>\n",
       "      <th>47494</th>\n",
       "      <td>2005-09-30 23:55:00</td>\n",
       "      <td>4</td>\n",
       "      <td>23</td>\n",
       "      <td>55</td>\n",
       "      <td>8</td>\n",
       "      <td>0</td>\n",
       "    </tr>\n",
       "    <tr>\n",
       "      <th>47495</th>\n",
       "      <td>2005-10-01 00:00:00</td>\n",
       "      <td>5</td>\n",
       "      <td>0</td>\n",
       "      <td>0</td>\n",
       "      <td>13</td>\n",
       "      <td>0</td>\n",
       "    </tr>\n",
       "    <tr>\n",
       "      <th>47496</th>\n",
       "      <td>2005-10-01 00:05:00</td>\n",
       "      <td>5</td>\n",
       "      <td>0</td>\n",
       "      <td>5</td>\n",
       "      <td>13</td>\n",
       "      <td>0</td>\n",
       "    </tr>\n",
       "  </tbody>\n",
       "</table>\n",
       "<p>47497 rows × 6 columns</p>\n",
       "</div>"
      ],
      "text/plain": [
       "                     Date  Week_Day  Hour  Minute  Traffic_flow  \\\n",
       "0     2005-04-11 07:35:00         0     7      35            23   \n",
       "1     2005-04-11 07:40:00         0     7      40            42   \n",
       "2     2005-04-11 07:45:00         0     7      45            37   \n",
       "3     2005-04-11 07:50:00         0     7      50            24   \n",
       "4     2005-04-11 07:55:00         0     7      55            39   \n",
       "...                   ...       ...   ...     ...           ...   \n",
       "47492 2005-09-30 23:45:00         4    23      45            14   \n",
       "47493 2005-09-30 23:50:00         4    23      50            12   \n",
       "47494 2005-09-30 23:55:00         4    23      55             8   \n",
       "47495 2005-10-01 00:00:00         5     0       0            13   \n",
       "47496 2005-10-01 00:05:00         5     0       5            13   \n",
       "\n",
       "       Game_Occurance  \n",
       "0                   0  \n",
       "1                   0  \n",
       "2                   0  \n",
       "3                   0  \n",
       "4                   0  \n",
       "...               ...  \n",
       "47492               0  \n",
       "47493               0  \n",
       "47494               0  \n",
       "47495               0  \n",
       "47496               0  \n",
       "\n",
       "[47497 rows x 6 columns]"
      ]
     },
     "execution_count": 25,
     "metadata": {},
     "output_type": "execute_result"
    }
   ],
   "source": [
    "df_traffic = df_traffic[df_traffic.Traffic_flow != -1]\n",
    "df_traffic.reset_index(drop = True, inplace=True)\n",
    "df_traffic"
   ]
  },
  {
   "cell_type": "code",
   "execution_count": 26,
   "id": "1c06fe52-46d6-46fc-b6fd-906ee537840d",
   "metadata": {},
   "outputs": [],
   "source": [
    "df_traffic.to_csv(\"New_Dodgers_Traffic.csv\", index=False)"
   ]
  },
  {
   "cell_type": "markdown",
   "id": "f18c1603-c2be-4a76-bc65-91ec0690b856",
   "metadata": {},
   "source": [
    "### Description of Cleaned Traffic Dataset"
   ]
  },
  {
   "cell_type": "markdown",
   "id": "17add605-cb75-4976-b9a4-9852603815c6",
   "metadata": {},
   "source": [
    "**Basic Summary of Dataset**"
   ]
  },
  {
   "cell_type": "code",
   "execution_count": 27,
   "id": "f8da3e88-1802-4b88-81da-d84e72017704",
   "metadata": {},
   "outputs": [
    {
     "data": {
      "text/plain": [
       "(47497, 6)"
      ]
     },
     "execution_count": 27,
     "metadata": {},
     "output_type": "execute_result"
    }
   ],
   "source": [
    "df_traffic.shape"
   ]
  },
  {
   "cell_type": "code",
   "execution_count": 28,
   "id": "3dd15e99-957f-4764-adff-d188e831c667",
   "metadata": {},
   "outputs": [
    {
     "name": "stdout",
     "output_type": "stream",
     "text": [
      "<class 'pandas.core.frame.DataFrame'>\n",
      "RangeIndex: 47497 entries, 0 to 47496\n",
      "Data columns (total 6 columns):\n",
      " #   Column          Non-Null Count  Dtype         \n",
      "---  ------          --------------  -----         \n",
      " 0   Date            47497 non-null  datetime64[ns]\n",
      " 1   Week_Day        47497 non-null  int64         \n",
      " 2   Hour            47497 non-null  int64         \n",
      " 3   Minute          47497 non-null  int64         \n",
      " 4   Traffic_flow    47497 non-null  int64         \n",
      " 5   Game_Occurance  47497 non-null  int64         \n",
      "dtypes: datetime64[ns](1), int64(5)\n",
      "memory usage: 2.2 MB\n"
     ]
    }
   ],
   "source": [
    "df_traffic.info()"
   ]
  },
  {
   "cell_type": "markdown",
   "id": "6123c530-8933-4735-95a4-0f8a48ee8a40",
   "metadata": {},
   "source": [
    "**Unusual Inbalance between datapoints that occur during non-game intervals and game intervals**"
   ]
  },
  {
   "cell_type": "code",
   "execution_count": 29,
   "id": "174b7c0d-bfe0-4994-83e6-0f296a2a665e",
   "metadata": {},
   "outputs": [
    {
     "data": {
      "text/html": [
       "<div>\n",
       "<style scoped>\n",
       "    .dataframe tbody tr th:only-of-type {\n",
       "        vertical-align: middle;\n",
       "    }\n",
       "\n",
       "    .dataframe tbody tr th {\n",
       "        vertical-align: top;\n",
       "    }\n",
       "\n",
       "    .dataframe thead th {\n",
       "        text-align: right;\n",
       "    }\n",
       "</style>\n",
       "<table border=\"1\" class=\"dataframe\">\n",
       "  <thead>\n",
       "    <tr style=\"text-align: right;\">\n",
       "      <th></th>\n",
       "      <th>Value Count</th>\n",
       "    </tr>\n",
       "  </thead>\n",
       "  <tbody>\n",
       "    <tr>\n",
       "      <th>No Game Occuring</th>\n",
       "      <td>43897</td>\n",
       "    </tr>\n",
       "    <tr>\n",
       "      <th>Game Occuring</th>\n",
       "      <td>3600</td>\n",
       "    </tr>\n",
       "  </tbody>\n",
       "</table>\n",
       "</div>"
      ],
      "text/plain": [
       "                  Value Count\n",
       "No Game Occuring        43897\n",
       "Game Occuring            3600"
      ]
     },
     "execution_count": 29,
     "metadata": {},
     "output_type": "execute_result"
    }
   ],
   "source": [
    "Values = pd.DataFrame({\"Value Count\": df_traffic.Game_Occurance.value_counts()})\n",
    "Proportions = df_traffic.Game_Occurance.value_counts(normalize=True).rename(\"Proportion\")\n",
    "Values.join(Proportions)\n",
    "Values.rename(index = {0: \"No Game Occuring\",\n",
    "                       1: \"Game Occuring\"}, inplace = True)\n",
    "\n",
    "Values"
   ]
  },
  {
   "cell_type": "code",
   "execution_count": 30,
   "id": "617a0ccc-7997-4922-9013-ddd0a7fd95b5",
   "metadata": {},
   "outputs": [
    {
     "data": {
      "image/png": "[encoded data removed]",
      "text/plain": [
       "<Figure size 576x288 with 1 Axes>"
      ]
     },
     "metadata": {
      "needs_background": "light"
     },
     "output_type": "display_data"
    }
   ],
   "source": [
    "figure = plt.figure(figsize = (8,4))\n",
    "Values[\"Value Count\"].plot(kind=\"barh\")\n",
    "plt.title(\"Number of Entries That Do and Do Not Occur During Dodgers Games\")\n",
    "plt.xlabel(\"Number of Entires\")\n",
    "plt.savefig('Inbalanced_barchart.png', bbox_inches='tight')"
   ]
  },
  {
   "cell_type": "markdown",
   "id": "60434e55-e65b-4e88-b446-c9d08631615e",
   "metadata": {},
   "source": [
    "### Creating a balanced dataset"
   ]
  },
  {
   "cell_type": "markdown",
   "id": "97223bf8-952c-438a-a694-f52bac4df2e4",
   "metadata": {},
   "source": [
    "Due to this drastic difference in the number of entries that occur when the Dodgers aren't playing and when the Dodgers are playing, we resampled the Traffic dataset to include a total of 3500 data points from when the Dodgers are playing and when they are not playing. "
   ]
  },
  {
   "cell_type": "code",
   "execution_count": 31,
   "id": "c06e8639-5021-4b5e-b0e3-e33d11765ae9",
   "metadata": {},
   "outputs": [],
   "source": [
    "Game_Occuring = df_traffic.query(\"Game_Occurance == 1\")\n",
    "No_Game_Occuring = df_traffic.query(\"Game_Occurance == 0\")\n",
    "Game_Occuring_resampled = resample(Game_Occuring, n_samples = 3500)\n",
    "No_Game_Occuring_resampled = resample(No_Game_Occuring, n_samples = 3500)\n",
    "balanced_traffic = pd.concat([Game_Occuring_resampled, No_Game_Occuring_resampled], axis = 0)\n",
    "balanced_traffic.reset_index(drop = True, inplace=True)\n",
    "balanced_traffic\n",
    "\n",
    "balanced_traffic.to_csv(\"Balanced_New_Dodgers_Traffic.csv\", index=False)"
   ]
  },
  {
   "cell_type": "markdown",
   "id": "fa892bad-c977-46b1-aedb-1432c9c2d66c",
   "metadata": {},
   "source": [
    "### Dataset Descriprion of Balanced Dataset"
   ]
  },
  {
   "cell_type": "markdown",
   "id": "f974e974-acb4-44dc-a872-bba202b95ccf",
   "metadata": {},
   "source": [
    "**Basic Summary of Dataset**"
   ]
  },
  {
   "cell_type": "code",
   "execution_count": 32,
   "id": "cbd72381-666e-4622-8e96-ad398347190a",
   "metadata": {},
   "outputs": [
    {
     "data": {
      "text/plain": [
       "(7000, 6)"
      ]
     },
     "execution_count": 32,
     "metadata": {},
     "output_type": "execute_result"
    }
   ],
   "source": [
    "balanced_traffic.shape"
   ]
  },
  {
   "cell_type": "code",
   "execution_count": 33,
   "id": "f89bbad1-c705-4f38-9812-1f995bdd270c",
   "metadata": {},
   "outputs": [
    {
     "name": "stdout",
     "output_type": "stream",
     "text": [
      "<class 'pandas.core.frame.DataFrame'>\n",
      "RangeIndex: 7000 entries, 0 to 6999\n",
      "Data columns (total 6 columns):\n",
      " #   Column          Non-Null Count  Dtype         \n",
      "---  ------          --------------  -----         \n",
      " 0   Date            7000 non-null   datetime64[ns]\n",
      " 1   Week_Day        7000 non-null   int64         \n",
      " 2   Hour            7000 non-null   int64         \n",
      " 3   Minute          7000 non-null   int64         \n",
      " 4   Traffic_flow    7000 non-null   int64         \n",
      " 5   Game_Occurance  7000 non-null   int64         \n",
      "dtypes: datetime64[ns](1), int64(5)\n",
      "memory usage: 328.2 KB\n"
     ]
    }
   ],
   "source": [
    "balanced_traffic.info()"
   ]
  },
  {
   "cell_type": "markdown",
   "id": "6e40893f-8d3f-487a-8c1f-97e58b46a93b",
   "metadata": {},
   "source": [
    "**Interesting Statistics**"
   ]
  },
  {
   "cell_type": "markdown",
   "id": "406ff6c8-fb7e-4b20-a408-3007a4ce1375",
   "metadata": {},
   "source": [
    "Comparing the distributions of the car counts of the balanced dataset, the car count or traffic distribution during Dodgers games sees a higher frequency of higher car counts compared to when there is no Dodgers game taking place"
   ]
  },
  {
   "cell_type": "code",
   "execution_count": 34,
   "id": "20dd0df5-0b84-44ba-a36e-8a391d16b2af",
   "metadata": {},
   "outputs": [
    {
     "data": {
      "image/png": "[encoded data removed]",
      "text/plain": [
       "<Figure size 864x864 with 3 Axes>"
      ]
     },
     "metadata": {
      "needs_background": "light"
     },
     "output_type": "display_data"
    }
   ],
   "source": [
    "figure1, axes = plt.subplots(3,1, figsize=(12,12), sharex=True, sharey= True)\n",
    "sns.histplot(data=balanced_traffic, x=\"Traffic_flow\", binwidth = 2, ax=axes[0]).set(title = \"Overall Traffic Distribution\", \n",
    "                                                                      xlabel = \"Car Count\",\n",
    "                                                                      ylabel = \"Occurance\")\n",
    "\n",
    "sns.histplot(data=balanced_traffic.query(\"Game_Occurance == 1\"), x=\"Traffic_flow\", binwidth = 2, ax=axes[1]).set(\n",
    "    title = \"Traffic Distribution During Dodgers Games\", \n",
    "    xlabel = \"Car Count\",\n",
    "    ylabel = \"Occurance\")\n",
    "\n",
    "sns.histplot(data=balanced_traffic.query(\"Game_Occurance == 0\"), x=\"Traffic_flow\", binwidth = 2, ax=axes[2]).set(\n",
    "    title = \"Traffic Distribution Otherwise\", \n",
    "    xlabel = \"Car Count\",\n",
    "    ylabel = \"Occurance\")\n",
    "\n",
    "plt.savefig('Traffic_Count_Distributions.png', bbox_inches='tight')"
   ]
  },
  {
   "cell_type": "markdown",
   "id": "26b7ace0-9106-4ef9-b4d2-d67cb6447d73",
   "metadata": {},
   "source": [
    "Wanting to see how Dodgers games affects the total car by time, we created a bar chart containing the number of 5-minute intervals in which a Dodgers game takes palce and a heatmap heatmap for the total car count by minute (x-axis) and hour (y-axis). In doing so we see that the total car count spikes during the time of Dodgers games, especially during the later games that occur after 7pm (19 hr)."
   ]
  },
  {
   "cell_type": "code",
   "execution_count": 35,
   "id": "797aca75-ba71-434e-9a83-3094885f3e6b",
   "metadata": {},
   "outputs": [],
   "source": [
    "#Heat map preperations\n",
    "traffic_table = pd.DataFrame(balanced_traffic.Traffic_flow.groupby([balanced_traffic.Date.dt.hour,balanced_traffic.Date.dt.minute]).sum())\n",
    "traffic_table.rename_axis([\"hour\", \"minute\"], inplace=True)\n",
    "traffic_table = traffic_table.reset_index()\n",
    "traffic_table = traffic_table.pivot(\"hour\", \"minute\", \"Traffic_flow\")"
   ]
  },
  {
   "cell_type": "code",
   "execution_count": 36,
   "id": "20a160c5-9c96-442c-8b6f-c3992d5ee1eb",
   "metadata": {},
   "outputs": [],
   "source": [
    "Gametime_hours = balanced_traffic.query(\"Game_Occurance == 1\").Hour.groupby(balanced_traffic.query(\"Game_Occurance == 1\").Hour).count()"
   ]
  },
  {
   "cell_type": "code",
   "execution_count": 37,
   "id": "c97ac229-b188-4c5c-834a-e20512c08868",
   "metadata": {},
   "outputs": [
    {
     "data": {
      "image/png": "[encoded data removed]",
      "text/plain": [
       "<Figure size 1944x648 with 3 Axes>"
      ]
     },
     "metadata": {
      "needs_background": "light"
     },
     "output_type": "display_data"
    }
   ],
   "source": [
    "figure2 = plt.figure(figsize=(27,9))\n",
    "\n",
    "ax1 = figure2.add_subplot(121)\n",
    "Gametime_hours.plot(kind=\"barh\", grid=True)\n",
    "plt.title(\"5-minute Intervals During Dodgers Games by Hour\")\n",
    "plt.ylabel(\"Hour\")\n",
    "plt.xlabel(\"Number of 5-minute Intervals During Dodgers Games\")\n",
    "\n",
    "ax2 = figure2.add_subplot(122)\n",
    "sns.heatmap(traffic_table, cmap='Blues', linewidths=.5, linecolor='black')\n",
    "plt.title(\"Total Car Count by Minute and Hour\")\n",
    "plt.ylabel(\"Hour\")\n",
    "plt.xlabel(\"Minute\")\n",
    "plt.yticks(rotation=0)\n",
    "\n",
    "plt.savefig('Game_Occurance_Intervals_and_Total_Traffic_Count.png', bbox_inches='tight')"
   ]
  }
 ],
 "metadata": {
  "kernelspec": {
   "display_name": "Python 3",
   "language": "python",
   "name": "python3"
  },
  "language_info": {
   "codemirror_mode": {
    "name": "ipython",
    "version": 3
   },
   "file_extension": ".py",
   "mimetype": "text/x-python",
   "name": "python",
   "nbconvert_exporter": "python",
   "pygments_lexer": "ipython3",
   "version": "3.8.8"
  }
 },
 "nbformat": 4,
 "nbformat_minor": 5
}
