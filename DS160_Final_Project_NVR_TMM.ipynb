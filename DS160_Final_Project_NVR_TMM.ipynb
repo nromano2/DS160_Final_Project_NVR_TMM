{
 "cells": [
  {
   "cell_type": "markdown",
   "id": "e383dd65-def1-4c8b-ac40-37f293bb291c",
   "metadata": {},
   "source": [
    "## Final Project\n",
    "**Authors:** Nick Romano and Trevor McCormick   \n",
    "**Version 1.0**   \n",
    "**DS160-01: Introduction to Data Science**   \n",
    "\n",
    "\n",
    "---"
   ]
  },
  {
   "cell_type": "markdown",
   "id": "4e06dbc4-dfdf-4a41-afee-698f5197a583",
   "metadata": {},
   "source": [
    "The datasets used in this notebook come from the Dodgers Loop Sensor Data Set from the UCI Machine Learning Repository.\n",
    "\n",
    "**Citation:**    \n",
    "Jon Hutchins (2006). UCI Machine Learning Repository [https://archive.ics.uci.edu/ml/datasets/dodgers+loop+sensor?]. Irvine, CA: University of California, School of Information and Computer Science.\n",
    "\n",
    "Our goal is to be able to predict whether a Dodgers baseball game had ended given the flow of traffic measured by sensor data for the Glendale on ramp.   \n",
    "\n",
    "---"
   ]
  },
  {
   "cell_type": "code",
   "execution_count": 1,
   "id": "7dcc2510-7bce-426c-b26e-7e1eae090edd",
   "metadata": {},
   "outputs": [],
   "source": [
    "import pandas as pd\n",
    "import numpy as np\n",
    "import seaborn as sns\n",
    "import matplotlib.pyplot as plt\n",
    "%matplotlib inline\n",
    "\n",
    "from sklearn.utils import resample"
   ]
  },
  {
   "cell_type": "markdown",
   "id": "4ef3f0b2-77d0-4890-a459-320b1da2fc4c",
   "metadata": {},
   "source": [
    "#### Reading in Data"
   ]
  },
  {
   "cell_type": "code",
   "execution_count": 2,
   "id": "215f1f61-81da-4786-9f4c-46e45df1fe36",
   "metadata": {},
   "outputs": [],
   "source": [
    "df_traffic = pd.read_csv(\"Dodgers.data\", header = None)\n",
    "df_games = pd.read_csv(\"Dodgers.events\", header = None)"
   ]
  },
  {
   "cell_type": "code",
   "execution_count": 3,
   "id": "be8b3d22-bc4f-4f3a-b355-ace418213e58",
   "metadata": {},
   "outputs": [
    {
     "data": {
      "text/html": [
       "<div>\n",
       "<style scoped>\n",
       "    .dataframe tbody tr th:only-of-type {\n",
       "        vertical-align: middle;\n",
       "    }\n",
       "\n",
       "    .dataframe tbody tr th {\n",
       "        vertical-align: top;\n",
       "    }\n",
       "\n",
       "    .dataframe thead th {\n",
       "        text-align: right;\n",
       "    }\n",
       "</style>\n",
       "<table border=\"1\" class=\"dataframe\">\n",
       "  <thead>\n",
       "    <tr style=\"text-align: right;\">\n",
       "      <th></th>\n",
       "      <th>0</th>\n",
       "      <th>1</th>\n",
       "    </tr>\n",
       "  </thead>\n",
       "  <tbody>\n",
       "    <tr>\n",
       "      <th>0</th>\n",
       "      <td>4/10/2005 0:00</td>\n",
       "      <td>-1</td>\n",
       "    </tr>\n",
       "    <tr>\n",
       "      <th>1</th>\n",
       "      <td>4/10/2005 0:05</td>\n",
       "      <td>-1</td>\n",
       "    </tr>\n",
       "    <tr>\n",
       "      <th>2</th>\n",
       "      <td>4/10/2005 0:10</td>\n",
       "      <td>-1</td>\n",
       "    </tr>\n",
       "    <tr>\n",
       "      <th>3</th>\n",
       "      <td>4/10/2005 0:15</td>\n",
       "      <td>-1</td>\n",
       "    </tr>\n",
       "    <tr>\n",
       "      <th>4</th>\n",
       "      <td>4/10/2005 0:20</td>\n",
       "      <td>-1</td>\n",
       "    </tr>\n",
       "    <tr>\n",
       "      <th>...</th>\n",
       "      <td>...</td>\n",
       "      <td>...</td>\n",
       "    </tr>\n",
       "    <tr>\n",
       "      <th>50395</th>\n",
       "      <td>10/1/2005 23:35</td>\n",
       "      <td>-1</td>\n",
       "    </tr>\n",
       "    <tr>\n",
       "      <th>50396</th>\n",
       "      <td>10/1/2005 23:40</td>\n",
       "      <td>-1</td>\n",
       "    </tr>\n",
       "    <tr>\n",
       "      <th>50397</th>\n",
       "      <td>10/1/2005 23:45</td>\n",
       "      <td>-1</td>\n",
       "    </tr>\n",
       "    <tr>\n",
       "      <th>50398</th>\n",
       "      <td>10/1/2005 23:50</td>\n",
       "      <td>-1</td>\n",
       "    </tr>\n",
       "    <tr>\n",
       "      <th>50399</th>\n",
       "      <td>10/1/2005 23:55</td>\n",
       "      <td>-1</td>\n",
       "    </tr>\n",
       "  </tbody>\n",
       "</table>\n",
       "<p>50400 rows × 2 columns</p>\n",
       "</div>"
      ],
      "text/plain": [
       "                     0  1\n",
       "0       4/10/2005 0:00 -1\n",
       "1       4/10/2005 0:05 -1\n",
       "2       4/10/2005 0:10 -1\n",
       "3       4/10/2005 0:15 -1\n",
       "4       4/10/2005 0:20 -1\n",
       "...                ... ..\n",
       "50395  10/1/2005 23:35 -1\n",
       "50396  10/1/2005 23:40 -1\n",
       "50397  10/1/2005 23:45 -1\n",
       "50398  10/1/2005 23:50 -1\n",
       "50399  10/1/2005 23:55 -1\n",
       "\n",
       "[50400 rows x 2 columns]"
      ]
     },
     "execution_count": 3,
     "metadata": {},
     "output_type": "execute_result"
    }
   ],
   "source": [
    "df_traffic"
   ]
  },
  {
   "cell_type": "code",
   "execution_count": 4,
   "id": "84908745-293c-47c3-b248-b12f3fa12396",
   "metadata": {},
   "outputs": [
    {
     "data": {
      "text/html": [
       "<div>\n",
       "<style scoped>\n",
       "    .dataframe tbody tr th:only-of-type {\n",
       "        vertical-align: middle;\n",
       "    }\n",
       "\n",
       "    .dataframe tbody tr th {\n",
       "        vertical-align: top;\n",
       "    }\n",
       "\n",
       "    .dataframe thead th {\n",
       "        text-align: right;\n",
       "    }\n",
       "</style>\n",
       "<table border=\"1\" class=\"dataframe\">\n",
       "  <thead>\n",
       "    <tr style=\"text-align: right;\">\n",
       "      <th></th>\n",
       "      <th>0</th>\n",
       "      <th>1</th>\n",
       "      <th>2</th>\n",
       "      <th>3</th>\n",
       "      <th>4</th>\n",
       "      <th>5</th>\n",
       "    </tr>\n",
       "  </thead>\n",
       "  <tbody>\n",
       "    <tr>\n",
       "      <th>0</th>\n",
       "      <td>04/12/05</td>\n",
       "      <td>13:10:00</td>\n",
       "      <td>16:23:00</td>\n",
       "      <td>55892</td>\n",
       "      <td>San Francisco</td>\n",
       "      <td>W 9-8�</td>\n",
       "    </tr>\n",
       "    <tr>\n",
       "      <th>1</th>\n",
       "      <td>04/13/05</td>\n",
       "      <td>19:10:00</td>\n",
       "      <td>21:48:00</td>\n",
       "      <td>46514</td>\n",
       "      <td>San Francisco</td>\n",
       "      <td>W 4-1�</td>\n",
       "    </tr>\n",
       "    <tr>\n",
       "      <th>2</th>\n",
       "      <td>04/15/05</td>\n",
       "      <td>19:40:00</td>\n",
       "      <td>21:48:00</td>\n",
       "      <td>51816</td>\n",
       "      <td>San Diego</td>\n",
       "      <td>W 4-0�</td>\n",
       "    </tr>\n",
       "    <tr>\n",
       "      <th>3</th>\n",
       "      <td>04/16/05</td>\n",
       "      <td>19:10:00</td>\n",
       "      <td>21:52:00</td>\n",
       "      <td>54704</td>\n",
       "      <td>San Diego</td>\n",
       "      <td>W 8-3�</td>\n",
       "    </tr>\n",
       "    <tr>\n",
       "      <th>4</th>\n",
       "      <td>04/17/05</td>\n",
       "      <td>13:10:00</td>\n",
       "      <td>15:31:00</td>\n",
       "      <td>53402</td>\n",
       "      <td>San Diego</td>\n",
       "      <td>W 6-0�</td>\n",
       "    </tr>\n",
       "    <tr>\n",
       "      <th>...</th>\n",
       "      <td>...</td>\n",
       "      <td>...</td>\n",
       "      <td>...</td>\n",
       "      <td>...</td>\n",
       "      <td>...</td>\n",
       "      <td>...</td>\n",
       "    </tr>\n",
       "    <tr>\n",
       "      <th>76</th>\n",
       "      <td>09/25/05</td>\n",
       "      <td>13:10:00</td>\n",
       "      <td>16:06:00</td>\n",
       "      <td>37846</td>\n",
       "      <td>Pittsburgh</td>\n",
       "      <td>W 9-2�</td>\n",
       "    </tr>\n",
       "    <tr>\n",
       "      <th>77</th>\n",
       "      <td>09/26/05</td>\n",
       "      <td>19:10:00</td>\n",
       "      <td>22:27:00</td>\n",
       "      <td>36397</td>\n",
       "      <td>Pittsburgh</td>\n",
       "      <td>W 9-4�</td>\n",
       "    </tr>\n",
       "    <tr>\n",
       "      <th>78</th>\n",
       "      <td>09/27/05</td>\n",
       "      <td>19:10:00</td>\n",
       "      <td>21:33:00</td>\n",
       "      <td>42604</td>\n",
       "      <td>Arizona</td>\n",
       "      <td>L 2-0�</td>\n",
       "    </tr>\n",
       "    <tr>\n",
       "      <th>79</th>\n",
       "      <td>09/28/05</td>\n",
       "      <td>19:10:00</td>\n",
       "      <td>21:58:00</td>\n",
       "      <td>46424</td>\n",
       "      <td>Arizona</td>\n",
       "      <td>L 4-3�</td>\n",
       "    </tr>\n",
       "    <tr>\n",
       "      <th>80</th>\n",
       "      <td>09/29/05</td>\n",
       "      <td>19:10:00</td>\n",
       "      <td>22:24:00</td>\n",
       "      <td>45053</td>\n",
       "      <td>Arizona</td>\n",
       "      <td>L 3-2�</td>\n",
       "    </tr>\n",
       "  </tbody>\n",
       "</table>\n",
       "<p>81 rows × 6 columns</p>\n",
       "</div>"
      ],
      "text/plain": [
       "           0         1         2      3              4       5\n",
       "0   04/12/05  13:10:00  16:23:00  55892  San Francisco  W 9-8�\n",
       "1   04/13/05  19:10:00  21:48:00  46514  San Francisco  W 4-1�\n",
       "2   04/15/05  19:40:00  21:48:00  51816      San Diego  W 4-0�\n",
       "3   04/16/05  19:10:00  21:52:00  54704      San Diego  W 8-3�\n",
       "4   04/17/05  13:10:00  15:31:00  53402      San Diego  W 6-0�\n",
       "..       ...       ...       ...    ...            ...     ...\n",
       "76  09/25/05  13:10:00  16:06:00  37846     Pittsburgh  W 9-2�\n",
       "77  09/26/05  19:10:00  22:27:00  36397     Pittsburgh  W 9-4�\n",
       "78  09/27/05  19:10:00  21:33:00  42604        Arizona  L 2-0�\n",
       "79  09/28/05  19:10:00  21:58:00  46424        Arizona  L 4-3�\n",
       "80  09/29/05  19:10:00  22:24:00  45053        Arizona  L 3-2�\n",
       "\n",
       "[81 rows x 6 columns]"
      ]
     },
     "execution_count": 4,
     "metadata": {},
     "output_type": "execute_result"
    }
   ],
   "source": [
    "df_games"
   ]
  },
  {
   "cell_type": "code",
   "execution_count": 5,
   "id": "37b8a5a6-317a-41f1-b143-889c32926e5c",
   "metadata": {},
   "outputs": [],
   "source": [
    "df_traffic.to_csv(\"Original_Dodgers_Traffic.csv\", index=False, header=False)"
   ]
  },
  {
   "cell_type": "code",
   "execution_count": 6,
   "id": "288e5f68-4661-4179-9fe5-3aec765edc85",
   "metadata": {},
   "outputs": [],
   "source": [
    "df_games.to_csv(\"Original_Dodgers_Events.csv\", index=False, header=False)"
   ]
  },
  {
   "cell_type": "markdown",
   "id": "b8357ba7-cf4c-4296-916c-b47107d436dc",
   "metadata": {},
   "source": [
    "We ended up saving an original version of the Dodgers.data and Dodgers.events data frames as .csv files to have a version in that format"
   ]
  },
  {
   "cell_type": "markdown",
   "id": "c46b12a9-20fc-4df4-9925-921d4ea02a9d",
   "metadata": {},
   "source": [
    "---\n",
    "#### Processesing and Cleaning up the data\n"
   ]
  },
  {
   "cell_type": "markdown",
   "id": "8b5b2271-e2c9-4533-9f90-e52c3f848f94",
   "metadata": {},
   "source": [
    "**df_games cleanup**"
   ]
  },
  {
   "cell_type": "code",
   "execution_count": 7,
   "id": "2828fd05-ee85-4e38-8303-cff505d6d090",
   "metadata": {},
   "outputs": [
    {
     "data": {
      "text/html": [
       "<div>\n",
       "<style scoped>\n",
       "    .dataframe tbody tr th:only-of-type {\n",
       "        vertical-align: middle;\n",
       "    }\n",
       "\n",
       "    .dataframe tbody tr th {\n",
       "        vertical-align: top;\n",
       "    }\n",
       "\n",
       "    .dataframe thead th {\n",
       "        text-align: right;\n",
       "    }\n",
       "</style>\n",
       "<table border=\"1\" class=\"dataframe\">\n",
       "  <thead>\n",
       "    <tr style=\"text-align: right;\">\n",
       "      <th></th>\n",
       "      <th>0</th>\n",
       "      <th>1</th>\n",
       "      <th>2</th>\n",
       "      <th>3</th>\n",
       "      <th>4</th>\n",
       "      <th>5</th>\n",
       "    </tr>\n",
       "  </thead>\n",
       "  <tbody>\n",
       "    <tr>\n",
       "      <th>0</th>\n",
       "      <td>04/12/05</td>\n",
       "      <td>13:10:00</td>\n",
       "      <td>16:23:00</td>\n",
       "      <td>55892</td>\n",
       "      <td>San Francisco</td>\n",
       "      <td>W 9-8�</td>\n",
       "    </tr>\n",
       "    <tr>\n",
       "      <th>1</th>\n",
       "      <td>04/13/05</td>\n",
       "      <td>19:10:00</td>\n",
       "      <td>21:48:00</td>\n",
       "      <td>46514</td>\n",
       "      <td>San Francisco</td>\n",
       "      <td>W 4-1�</td>\n",
       "    </tr>\n",
       "    <tr>\n",
       "      <th>2</th>\n",
       "      <td>04/15/05</td>\n",
       "      <td>19:40:00</td>\n",
       "      <td>21:48:00</td>\n",
       "      <td>51816</td>\n",
       "      <td>San Diego</td>\n",
       "      <td>W 4-0�</td>\n",
       "    </tr>\n",
       "    <tr>\n",
       "      <th>3</th>\n",
       "      <td>04/16/05</td>\n",
       "      <td>19:10:00</td>\n",
       "      <td>21:52:00</td>\n",
       "      <td>54704</td>\n",
       "      <td>San Diego</td>\n",
       "      <td>W 8-3�</td>\n",
       "    </tr>\n",
       "    <tr>\n",
       "      <th>4</th>\n",
       "      <td>04/17/05</td>\n",
       "      <td>13:10:00</td>\n",
       "      <td>15:31:00</td>\n",
       "      <td>53402</td>\n",
       "      <td>San Diego</td>\n",
       "      <td>W 6-0�</td>\n",
       "    </tr>\n",
       "    <tr>\n",
       "      <th>...</th>\n",
       "      <td>...</td>\n",
       "      <td>...</td>\n",
       "      <td>...</td>\n",
       "      <td>...</td>\n",
       "      <td>...</td>\n",
       "      <td>...</td>\n",
       "    </tr>\n",
       "    <tr>\n",
       "      <th>76</th>\n",
       "      <td>09/25/05</td>\n",
       "      <td>13:10:00</td>\n",
       "      <td>16:06:00</td>\n",
       "      <td>37846</td>\n",
       "      <td>Pittsburgh</td>\n",
       "      <td>W 9-2�</td>\n",
       "    </tr>\n",
       "    <tr>\n",
       "      <th>77</th>\n",
       "      <td>09/26/05</td>\n",
       "      <td>19:10:00</td>\n",
       "      <td>22:27:00</td>\n",
       "      <td>36397</td>\n",
       "      <td>Pittsburgh</td>\n",
       "      <td>W 9-4�</td>\n",
       "    </tr>\n",
       "    <tr>\n",
       "      <th>78</th>\n",
       "      <td>09/27/05</td>\n",
       "      <td>19:10:00</td>\n",
       "      <td>21:33:00</td>\n",
       "      <td>42604</td>\n",
       "      <td>Arizona</td>\n",
       "      <td>L 2-0�</td>\n",
       "    </tr>\n",
       "    <tr>\n",
       "      <th>79</th>\n",
       "      <td>09/28/05</td>\n",
       "      <td>19:10:00</td>\n",
       "      <td>21:58:00</td>\n",
       "      <td>46424</td>\n",
       "      <td>Arizona</td>\n",
       "      <td>L 4-3�</td>\n",
       "    </tr>\n",
       "    <tr>\n",
       "      <th>80</th>\n",
       "      <td>09/29/05</td>\n",
       "      <td>19:10:00</td>\n",
       "      <td>22:24:00</td>\n",
       "      <td>45053</td>\n",
       "      <td>Arizona</td>\n",
       "      <td>L 3-2�</td>\n",
       "    </tr>\n",
       "  </tbody>\n",
       "</table>\n",
       "<p>81 rows × 6 columns</p>\n",
       "</div>"
      ],
      "text/plain": [
       "           0         1         2      3              4       5\n",
       "0   04/12/05  13:10:00  16:23:00  55892  San Francisco  W 9-8�\n",
       "1   04/13/05  19:10:00  21:48:00  46514  San Francisco  W 4-1�\n",
       "2   04/15/05  19:40:00  21:48:00  51816      San Diego  W 4-0�\n",
       "3   04/16/05  19:10:00  21:52:00  54704      San Diego  W 8-3�\n",
       "4   04/17/05  13:10:00  15:31:00  53402      San Diego  W 6-0�\n",
       "..       ...       ...       ...    ...            ...     ...\n",
       "76  09/25/05  13:10:00  16:06:00  37846     Pittsburgh  W 9-2�\n",
       "77  09/26/05  19:10:00  22:27:00  36397     Pittsburgh  W 9-4�\n",
       "78  09/27/05  19:10:00  21:33:00  42604        Arizona  L 2-0�\n",
       "79  09/28/05  19:10:00  21:58:00  46424        Arizona  L 4-3�\n",
       "80  09/29/05  19:10:00  22:24:00  45053        Arizona  L 3-2�\n",
       "\n",
       "[81 rows x 6 columns]"
      ]
     },
     "execution_count": 7,
     "metadata": {},
     "output_type": "execute_result"
    }
   ],
   "source": [
    "df_games"
   ]
  },
  {
   "cell_type": "markdown",
   "id": "bd046742-f92c-4192-a255-2a483575f1e3",
   "metadata": {},
   "source": [
    "Renaming the columns of df_games with appropriately labeled column names rather than leaving the the numbered column headings"
   ]
  },
  {
   "cell_type": "code",
   "execution_count": 8,
   "id": "e0011b0c-4ef3-4afb-b24a-a6e1b8f21b12",
   "metadata": {},
   "outputs": [
    {
     "data": {
      "text/html": [
       "<div>\n",
       "<style scoped>\n",
       "    .dataframe tbody tr th:only-of-type {\n",
       "        vertical-align: middle;\n",
       "    }\n",
       "\n",
       "    .dataframe tbody tr th {\n",
       "        vertical-align: top;\n",
       "    }\n",
       "\n",
       "    .dataframe thead th {\n",
       "        text-align: right;\n",
       "    }\n",
       "</style>\n",
       "<table border=\"1\" class=\"dataframe\">\n",
       "  <thead>\n",
       "    <tr style=\"text-align: right;\">\n",
       "      <th></th>\n",
       "      <th>Date</th>\n",
       "      <th>Starttime</th>\n",
       "      <th>Endtime</th>\n",
       "      <th>Total Attendance</th>\n",
       "      <th>Opponent</th>\n",
       "      <th>Result</th>\n",
       "    </tr>\n",
       "  </thead>\n",
       "  <tbody>\n",
       "    <tr>\n",
       "      <th>0</th>\n",
       "      <td>04/12/05</td>\n",
       "      <td>13:10:00</td>\n",
       "      <td>16:23:00</td>\n",
       "      <td>55892</td>\n",
       "      <td>San Francisco</td>\n",
       "      <td>W 9-8�</td>\n",
       "    </tr>\n",
       "    <tr>\n",
       "      <th>1</th>\n",
       "      <td>04/13/05</td>\n",
       "      <td>19:10:00</td>\n",
       "      <td>21:48:00</td>\n",
       "      <td>46514</td>\n",
       "      <td>San Francisco</td>\n",
       "      <td>W 4-1�</td>\n",
       "    </tr>\n",
       "    <tr>\n",
       "      <th>2</th>\n",
       "      <td>04/15/05</td>\n",
       "      <td>19:40:00</td>\n",
       "      <td>21:48:00</td>\n",
       "      <td>51816</td>\n",
       "      <td>San Diego</td>\n",
       "      <td>W 4-0�</td>\n",
       "    </tr>\n",
       "    <tr>\n",
       "      <th>3</th>\n",
       "      <td>04/16/05</td>\n",
       "      <td>19:10:00</td>\n",
       "      <td>21:52:00</td>\n",
       "      <td>54704</td>\n",
       "      <td>San Diego</td>\n",
       "      <td>W 8-3�</td>\n",
       "    </tr>\n",
       "    <tr>\n",
       "      <th>4</th>\n",
       "      <td>04/17/05</td>\n",
       "      <td>13:10:00</td>\n",
       "      <td>15:31:00</td>\n",
       "      <td>53402</td>\n",
       "      <td>San Diego</td>\n",
       "      <td>W 6-0�</td>\n",
       "    </tr>\n",
       "    <tr>\n",
       "      <th>...</th>\n",
       "      <td>...</td>\n",
       "      <td>...</td>\n",
       "      <td>...</td>\n",
       "      <td>...</td>\n",
       "      <td>...</td>\n",
       "      <td>...</td>\n",
       "    </tr>\n",
       "    <tr>\n",
       "      <th>76</th>\n",
       "      <td>09/25/05</td>\n",
       "      <td>13:10:00</td>\n",
       "      <td>16:06:00</td>\n",
       "      <td>37846</td>\n",
       "      <td>Pittsburgh</td>\n",
       "      <td>W 9-2�</td>\n",
       "    </tr>\n",
       "    <tr>\n",
       "      <th>77</th>\n",
       "      <td>09/26/05</td>\n",
       "      <td>19:10:00</td>\n",
       "      <td>22:27:00</td>\n",
       "      <td>36397</td>\n",
       "      <td>Pittsburgh</td>\n",
       "      <td>W 9-4�</td>\n",
       "    </tr>\n",
       "    <tr>\n",
       "      <th>78</th>\n",
       "      <td>09/27/05</td>\n",
       "      <td>19:10:00</td>\n",
       "      <td>21:33:00</td>\n",
       "      <td>42604</td>\n",
       "      <td>Arizona</td>\n",
       "      <td>L 2-0�</td>\n",
       "    </tr>\n",
       "    <tr>\n",
       "      <th>79</th>\n",
       "      <td>09/28/05</td>\n",
       "      <td>19:10:00</td>\n",
       "      <td>21:58:00</td>\n",
       "      <td>46424</td>\n",
       "      <td>Arizona</td>\n",
       "      <td>L 4-3�</td>\n",
       "    </tr>\n",
       "    <tr>\n",
       "      <th>80</th>\n",
       "      <td>09/29/05</td>\n",
       "      <td>19:10:00</td>\n",
       "      <td>22:24:00</td>\n",
       "      <td>45053</td>\n",
       "      <td>Arizona</td>\n",
       "      <td>L 3-2�</td>\n",
       "    </tr>\n",
       "  </tbody>\n",
       "</table>\n",
       "<p>81 rows × 6 columns</p>\n",
       "</div>"
      ],
      "text/plain": [
       "        Date Starttime   Endtime  Total Attendance       Opponent  Result\n",
       "0   04/12/05  13:10:00  16:23:00             55892  San Francisco  W 9-8�\n",
       "1   04/13/05  19:10:00  21:48:00             46514  San Francisco  W 4-1�\n",
       "2   04/15/05  19:40:00  21:48:00             51816      San Diego  W 4-0�\n",
       "3   04/16/05  19:10:00  21:52:00             54704      San Diego  W 8-3�\n",
       "4   04/17/05  13:10:00  15:31:00             53402      San Diego  W 6-0�\n",
       "..       ...       ...       ...               ...            ...     ...\n",
       "76  09/25/05  13:10:00  16:06:00             37846     Pittsburgh  W 9-2�\n",
       "77  09/26/05  19:10:00  22:27:00             36397     Pittsburgh  W 9-4�\n",
       "78  09/27/05  19:10:00  21:33:00             42604        Arizona  L 2-0�\n",
       "79  09/28/05  19:10:00  21:58:00             46424        Arizona  L 4-3�\n",
       "80  09/29/05  19:10:00  22:24:00             45053        Arizona  L 3-2�\n",
       "\n",
       "[81 rows x 6 columns]"
      ]
     },
     "execution_count": 8,
     "metadata": {},
     "output_type": "execute_result"
    }
   ],
   "source": [
    "df_games = df_games.rename(columns = {0: 'Date', \n",
    "                                      1: 'Starttime',\n",
    "                                      2: 'Endtime',\n",
    "                                      3: 'Total Attendance',\n",
    "                                      4: 'Opponent',\n",
    "                                      5: 'Result'})\n",
    "\n",
    "df_games"
   ]
  },
  {
   "cell_type": "markdown",
   "id": "024fe430-1c08-4989-bae6-7b66881ad869",
   "metadata": {},
   "source": [
    "Wanted to check whether or not there were null values in the dataframe before combining the Date and gametime columns"
   ]
  },
  {
   "cell_type": "code",
   "execution_count": 9,
   "id": "2e5aac5e-0ea6-4f91-9f3f-241ef95aa64d",
   "metadata": {},
   "outputs": [
    {
     "data": {
      "text/plain": [
       "Date                0\n",
       "Starttime           0\n",
       "Endtime             0\n",
       "Total Attendance    0\n",
       "Opponent            0\n",
       "Result              0\n",
       "dtype: int64"
      ]
     },
     "execution_count": 9,
     "metadata": {},
     "output_type": "execute_result"
    }
   ],
   "source": [
    "df_games.isna().sum()"
   ]
  },
  {
   "cell_type": "markdown",
   "id": "6cf91ae4-8060-4aba-a2d7-d3c6f936ec27",
   "metadata": {},
   "source": [
    "With the Date, Starttime, and Endtime taking up three columns we wanted to combine these columns in a way that would have just the Starttime and Endtime of each Dodgers game in Datetime form.   \n",
    "\n",
    "In doing so, we had to check whether or not there was a baseball game that extended into the next day. There doesn't seem to be a game that lasted into the next day as the latest Endtime value was 23:18:00 or 11:18:00 pm. Knowing this, we wouldn't have to perform any more manipulations on the data in order change any of the values within the Date column to match the Endtime values.    \n",
    "\n",
    "To combine the Date and Endtime columns, we converted these columns into strings and concatenated them with a space in between, then we converted the resulting value into Datetime form and stored the value within the Endtime column. We did this same strategy with the Date and Startime columns and stored the resulting datetime value within the Date column. Then we dropped the Starttime column, since the needed data was now within the Date column, then renamed the Date column as Starttime "
   ]
  },
  {
   "cell_type": "code",
   "execution_count": 10,
   "id": "27602d4d-67bd-47f9-94bd-5f66d918e84a",
   "metadata": {},
   "outputs": [
    {
     "name": "stdout",
     "output_type": "stream",
     "text": [
      "23:18:00\n"
     ]
    }
   ],
   "source": [
    "print(max(df_games.Endtime))"
   ]
  },
  {
   "cell_type": "code",
   "execution_count": 11,
   "id": "b14468c3-000c-4c0a-adc0-05f09d139161",
   "metadata": {},
   "outputs": [],
   "source": [
    "df_games.Endtime = df_games.Date.astype(str) + \" \" + df_games.Endtime.astype(str)\n",
    "df_games.Endtime = pd.to_datetime(df_games.Endtime)\n",
    "\n",
    "df_games.Date = df_games.Date.astype(str) + \" \" + df_games.Starttime.astype(str)\n",
    "df_games.Date = pd.to_datetime(df_games.Date)\n",
    "\n",
    "df_games.drop(columns = [\"Starttime\", \"Total Attendance\", \"Opponent\", \"Result\"], inplace =True)\n",
    "df_games.rename(columns = {'Date': 'Starttime'}, inplace=True)"
   ]
  },
  {
   "cell_type": "code",
   "execution_count": 12,
   "id": "79e02965-03cf-41b8-99aa-d9851b40aed3",
   "metadata": {},
   "outputs": [
    {
     "data": {
      "text/html": [
       "<div>\n",
       "<style scoped>\n",
       "    .dataframe tbody tr th:only-of-type {\n",
       "        vertical-align: middle;\n",
       "    }\n",
       "\n",
       "    .dataframe tbody tr th {\n",
       "        vertical-align: top;\n",
       "    }\n",
       "\n",
       "    .dataframe thead th {\n",
       "        text-align: right;\n",
       "    }\n",
       "</style>\n",
       "<table border=\"1\" class=\"dataframe\">\n",
       "  <thead>\n",
       "    <tr style=\"text-align: right;\">\n",
       "      <th></th>\n",
       "      <th>Starttime</th>\n",
       "      <th>Endtime</th>\n",
       "    </tr>\n",
       "  </thead>\n",
       "  <tbody>\n",
       "    <tr>\n",
       "      <th>0</th>\n",
       "      <td>2005-04-12 13:10:00</td>\n",
       "      <td>2005-04-12 16:23:00</td>\n",
       "    </tr>\n",
       "    <tr>\n",
       "      <th>1</th>\n",
       "      <td>2005-04-13 19:10:00</td>\n",
       "      <td>2005-04-13 21:48:00</td>\n",
       "    </tr>\n",
       "    <tr>\n",
       "      <th>2</th>\n",
       "      <td>2005-04-15 19:40:00</td>\n",
       "      <td>2005-04-15 21:48:00</td>\n",
       "    </tr>\n",
       "    <tr>\n",
       "      <th>3</th>\n",
       "      <td>2005-04-16 19:10:00</td>\n",
       "      <td>2005-04-16 21:52:00</td>\n",
       "    </tr>\n",
       "    <tr>\n",
       "      <th>4</th>\n",
       "      <td>2005-04-17 13:10:00</td>\n",
       "      <td>2005-04-17 15:31:00</td>\n",
       "    </tr>\n",
       "    <tr>\n",
       "      <th>...</th>\n",
       "      <td>...</td>\n",
       "      <td>...</td>\n",
       "    </tr>\n",
       "    <tr>\n",
       "      <th>76</th>\n",
       "      <td>2005-09-25 13:10:00</td>\n",
       "      <td>2005-09-25 16:06:00</td>\n",
       "    </tr>\n",
       "    <tr>\n",
       "      <th>77</th>\n",
       "      <td>2005-09-26 19:10:00</td>\n",
       "      <td>2005-09-26 22:27:00</td>\n",
       "    </tr>\n",
       "    <tr>\n",
       "      <th>78</th>\n",
       "      <td>2005-09-27 19:10:00</td>\n",
       "      <td>2005-09-27 21:33:00</td>\n",
       "    </tr>\n",
       "    <tr>\n",
       "      <th>79</th>\n",
       "      <td>2005-09-28 19:10:00</td>\n",
       "      <td>2005-09-28 21:58:00</td>\n",
       "    </tr>\n",
       "    <tr>\n",
       "      <th>80</th>\n",
       "      <td>2005-09-29 19:10:00</td>\n",
       "      <td>2005-09-29 22:24:00</td>\n",
       "    </tr>\n",
       "  </tbody>\n",
       "</table>\n",
       "<p>81 rows × 2 columns</p>\n",
       "</div>"
      ],
      "text/plain": [
       "             Starttime             Endtime\n",
       "0  2005-04-12 13:10:00 2005-04-12 16:23:00\n",
       "1  2005-04-13 19:10:00 2005-04-13 21:48:00\n",
       "2  2005-04-15 19:40:00 2005-04-15 21:48:00\n",
       "3  2005-04-16 19:10:00 2005-04-16 21:52:00\n",
       "4  2005-04-17 13:10:00 2005-04-17 15:31:00\n",
       "..                 ...                 ...\n",
       "76 2005-09-25 13:10:00 2005-09-25 16:06:00\n",
       "77 2005-09-26 19:10:00 2005-09-26 22:27:00\n",
       "78 2005-09-27 19:10:00 2005-09-27 21:33:00\n",
       "79 2005-09-28 19:10:00 2005-09-28 21:58:00\n",
       "80 2005-09-29 19:10:00 2005-09-29 22:24:00\n",
       "\n",
       "[81 rows x 2 columns]"
      ]
     },
     "execution_count": 12,
     "metadata": {},
     "output_type": "execute_result"
    }
   ],
   "source": [
    "df_games"
   ]
  },
  {
   "cell_type": "code",
   "execution_count": 13,
   "id": "b85a7a12-9d12-4c93-9f08-661653df233b",
   "metadata": {},
   "outputs": [],
   "source": [
    "df_games.to_csv(\"New_Dodgers_Events.csv\", index=False)"
   ]
  },
  {
   "cell_type": "markdown",
   "id": "31e994fa-6623-4511-afed-dd2f29955b5d",
   "metadata": {},
   "source": [
    "**df_traffic clean up**"
   ]
  },
  {
   "cell_type": "code",
   "execution_count": 14,
   "id": "a7e96297-91e0-47cc-9565-83daeeed5972",
   "metadata": {},
   "outputs": [
    {
     "data": {
      "text/html": [
       "<div>\n",
       "<style scoped>\n",
       "    .dataframe tbody tr th:only-of-type {\n",
       "        vertical-align: middle;\n",
       "    }\n",
       "\n",
       "    .dataframe tbody tr th {\n",
       "        vertical-align: top;\n",
       "    }\n",
       "\n",
       "    .dataframe thead th {\n",
       "        text-align: right;\n",
       "    }\n",
       "</style>\n",
       "<table border=\"1\" class=\"dataframe\">\n",
       "  <thead>\n",
       "    <tr style=\"text-align: right;\">\n",
       "      <th></th>\n",
       "      <th>0</th>\n",
       "      <th>1</th>\n",
       "    </tr>\n",
       "  </thead>\n",
       "  <tbody>\n",
       "    <tr>\n",
       "      <th>0</th>\n",
       "      <td>4/10/2005 0:00</td>\n",
       "      <td>-1</td>\n",
       "    </tr>\n",
       "    <tr>\n",
       "      <th>1</th>\n",
       "      <td>4/10/2005 0:05</td>\n",
       "      <td>-1</td>\n",
       "    </tr>\n",
       "    <tr>\n",
       "      <th>2</th>\n",
       "      <td>4/10/2005 0:10</td>\n",
       "      <td>-1</td>\n",
       "    </tr>\n",
       "    <tr>\n",
       "      <th>3</th>\n",
       "      <td>4/10/2005 0:15</td>\n",
       "      <td>-1</td>\n",
       "    </tr>\n",
       "    <tr>\n",
       "      <th>4</th>\n",
       "      <td>4/10/2005 0:20</td>\n",
       "      <td>-1</td>\n",
       "    </tr>\n",
       "    <tr>\n",
       "      <th>...</th>\n",
       "      <td>...</td>\n",
       "      <td>...</td>\n",
       "    </tr>\n",
       "    <tr>\n",
       "      <th>50395</th>\n",
       "      <td>10/1/2005 23:35</td>\n",
       "      <td>-1</td>\n",
       "    </tr>\n",
       "    <tr>\n",
       "      <th>50396</th>\n",
       "      <td>10/1/2005 23:40</td>\n",
       "      <td>-1</td>\n",
       "    </tr>\n",
       "    <tr>\n",
       "      <th>50397</th>\n",
       "      <td>10/1/2005 23:45</td>\n",
       "      <td>-1</td>\n",
       "    </tr>\n",
       "    <tr>\n",
       "      <th>50398</th>\n",
       "      <td>10/1/2005 23:50</td>\n",
       "      <td>-1</td>\n",
       "    </tr>\n",
       "    <tr>\n",
       "      <th>50399</th>\n",
       "      <td>10/1/2005 23:55</td>\n",
       "      <td>-1</td>\n",
       "    </tr>\n",
       "  </tbody>\n",
       "</table>\n",
       "<p>50400 rows × 2 columns</p>\n",
       "</div>"
      ],
      "text/plain": [
       "                     0  1\n",
       "0       4/10/2005 0:00 -1\n",
       "1       4/10/2005 0:05 -1\n",
       "2       4/10/2005 0:10 -1\n",
       "3       4/10/2005 0:15 -1\n",
       "4       4/10/2005 0:20 -1\n",
       "...                ... ..\n",
       "50395  10/1/2005 23:35 -1\n",
       "50396  10/1/2005 23:40 -1\n",
       "50397  10/1/2005 23:45 -1\n",
       "50398  10/1/2005 23:50 -1\n",
       "50399  10/1/2005 23:55 -1\n",
       "\n",
       "[50400 rows x 2 columns]"
      ]
     },
     "execution_count": 14,
     "metadata": {},
     "output_type": "execute_result"
    }
   ],
   "source": [
    "df_traffic"
   ]
  },
  {
   "cell_type": "markdown",
   "id": "768ba1a0-9bea-4878-b19b-24183c52ddcd",
   "metadata": {},
   "source": [
    "Renaming the columns of df_traffic dataframe with appropriately labeled column names rather than leaving the the numbered column headings"
   ]
  },
  {
   "cell_type": "code",
   "execution_count": 15,
   "id": "800425dc-d070-424f-9d3d-3af58d270e01",
   "metadata": {},
   "outputs": [],
   "source": [
    "df_traffic = df_traffic.rename(columns = {0: 'Date', \n",
    "                                          1: 'Traffic_flow'})"
   ]
  },
  {
   "cell_type": "markdown",
   "id": "d95b6889-df07-439c-bc12-b2b301ad859b",
   "metadata": {},
   "source": [
    "Wanted to check whether or not there were any NA or Null values within the Dataframe to see whether they would affect the conversion of the Date Column to Datetime"
   ]
  },
  {
   "cell_type": "code",
   "execution_count": 16,
   "id": "b85f65ff-7a43-416c-ab40-633a75cf1c60",
   "metadata": {},
   "outputs": [
    {
     "data": {
      "text/plain": [
       "Date            0\n",
       "Traffic_flow    0\n",
       "dtype: int64"
      ]
     },
     "execution_count": 16,
     "metadata": {},
     "output_type": "execute_result"
    }
   ],
   "source": [
    "df_traffic.isna().sum()"
   ]
  },
  {
   "cell_type": "markdown",
   "id": "0e2d27d1-1e31-45c0-88b6-d259259f2bbb",
   "metadata": {},
   "source": [
    "The data within the Date column is represented as object rather than being in Datetime form"
   ]
  },
  {
   "cell_type": "code",
   "execution_count": 17,
   "id": "8ec99528-e10a-4609-a179-6101ffd58508",
   "metadata": {},
   "outputs": [
    {
     "data": {
      "text/plain": [
       "Date            object\n",
       "Traffic_flow     int64\n",
       "dtype: object"
      ]
     },
     "execution_count": 17,
     "metadata": {},
     "output_type": "execute_result"
    }
   ],
   "source": [
    "df_traffic.dtypes"
   ]
  },
  {
   "cell_type": "code",
   "execution_count": 18,
   "id": "634f7e6c-dac1-4c59-b3e2-f6839bd6d47f",
   "metadata": {},
   "outputs": [
    {
     "data": {
      "text/plain": [
       "Date            datetime64[ns]\n",
       "Traffic_flow             int64\n",
       "dtype: object"
      ]
     },
     "execution_count": 18,
     "metadata": {},
     "output_type": "execute_result"
    }
   ],
   "source": [
    "df_traffic.Date = pd.to_datetime(df_traffic.Date)\n",
    "df_traffic.dtypes"
   ]
  },
  {
   "cell_type": "markdown",
   "id": "f9021914-fb20-4b3c-80c3-afff01c2aadc",
   "metadata": {},
   "source": [
    "Checking to see if datatype change happened correctly"
   ]
  },
  {
   "cell_type": "code",
   "execution_count": 19,
   "id": "0ee17aed-922a-4a7e-b77a-c79be2358f30",
   "metadata": {},
   "outputs": [
    {
     "data": {
      "text/html": [
       "<div>\n",
       "<style scoped>\n",
       "    .dataframe tbody tr th:only-of-type {\n",
       "        vertical-align: middle;\n",
       "    }\n",
       "\n",
       "    .dataframe tbody tr th {\n",
       "        vertical-align: top;\n",
       "    }\n",
       "\n",
       "    .dataframe thead th {\n",
       "        text-align: right;\n",
       "    }\n",
       "</style>\n",
       "<table border=\"1\" class=\"dataframe\">\n",
       "  <thead>\n",
       "    <tr style=\"text-align: right;\">\n",
       "      <th></th>\n",
       "      <th>Date</th>\n",
       "      <th>Traffic_flow</th>\n",
       "    </tr>\n",
       "  </thead>\n",
       "  <tbody>\n",
       "    <tr>\n",
       "      <th>0</th>\n",
       "      <td>2005-04-10 00:00:00</td>\n",
       "      <td>-1</td>\n",
       "    </tr>\n",
       "    <tr>\n",
       "      <th>1</th>\n",
       "      <td>2005-04-10 00:05:00</td>\n",
       "      <td>-1</td>\n",
       "    </tr>\n",
       "    <tr>\n",
       "      <th>2</th>\n",
       "      <td>2005-04-10 00:10:00</td>\n",
       "      <td>-1</td>\n",
       "    </tr>\n",
       "    <tr>\n",
       "      <th>3</th>\n",
       "      <td>2005-04-10 00:15:00</td>\n",
       "      <td>-1</td>\n",
       "    </tr>\n",
       "    <tr>\n",
       "      <th>4</th>\n",
       "      <td>2005-04-10 00:20:00</td>\n",
       "      <td>-1</td>\n",
       "    </tr>\n",
       "    <tr>\n",
       "      <th>...</th>\n",
       "      <td>...</td>\n",
       "      <td>...</td>\n",
       "    </tr>\n",
       "    <tr>\n",
       "      <th>50395</th>\n",
       "      <td>2005-10-01 23:35:00</td>\n",
       "      <td>-1</td>\n",
       "    </tr>\n",
       "    <tr>\n",
       "      <th>50396</th>\n",
       "      <td>2005-10-01 23:40:00</td>\n",
       "      <td>-1</td>\n",
       "    </tr>\n",
       "    <tr>\n",
       "      <th>50397</th>\n",
       "      <td>2005-10-01 23:45:00</td>\n",
       "      <td>-1</td>\n",
       "    </tr>\n",
       "    <tr>\n",
       "      <th>50398</th>\n",
       "      <td>2005-10-01 23:50:00</td>\n",
       "      <td>-1</td>\n",
       "    </tr>\n",
       "    <tr>\n",
       "      <th>50399</th>\n",
       "      <td>2005-10-01 23:55:00</td>\n",
       "      <td>-1</td>\n",
       "    </tr>\n",
       "  </tbody>\n",
       "</table>\n",
       "<p>50400 rows × 2 columns</p>\n",
       "</div>"
      ],
      "text/plain": [
       "                     Date  Traffic_flow\n",
       "0     2005-04-10 00:00:00            -1\n",
       "1     2005-04-10 00:05:00            -1\n",
       "2     2005-04-10 00:10:00            -1\n",
       "3     2005-04-10 00:15:00            -1\n",
       "4     2005-04-10 00:20:00            -1\n",
       "...                   ...           ...\n",
       "50395 2005-10-01 23:35:00            -1\n",
       "50396 2005-10-01 23:40:00            -1\n",
       "50397 2005-10-01 23:45:00            -1\n",
       "50398 2005-10-01 23:50:00            -1\n",
       "50399 2005-10-01 23:55:00            -1\n",
       "\n",
       "[50400 rows x 2 columns]"
      ]
     },
     "execution_count": 19,
     "metadata": {},
     "output_type": "execute_result"
    }
   ],
   "source": [
    "df_traffic"
   ]
  },
  {
   "cell_type": "markdown",
   "id": "97806efa-f827-40e9-9b6d-495cf35a8966",
   "metadata": {},
   "source": [
    "Since we are trying to predict whether or not a Dodgers baseball game had just ended given the traffic car count, we wanted to add a column to the df_traffic dataframe that has a 1 indicating the times around the ending of a Dodgers game and 0 otherwise. In determining the end of a baseball game based on the traffic, we decided to create a window of time just before the end and after the end of a baseball game since some people tend to leave just before the end of the game and that traffic builds up after the game since everyone is leaving. \n",
    "\n",
    "The occurance list stores the index values within the df_traffic dataframe that are within 30 minutes before the ending of each baseball game and 60 minutes after the ending time for each dodgers game that was listed within the df_games dataframe. We added a \"Game_Ended\" column to the dataframe with an initial value of 0 and added 1 to any index value that is in the occurance list. So, 1 represents that Dodgers Game within a 90 minute window of the actual ending time and 0 indicates that a Dodgers game didn't end.\n",
    "\n",
    "Looking ahead, we thought that we might want to take into account the weekday, hour, and minute in building our models so we pulled the these datapoints from the Date column and stored each of them into their own column."
   ]
  },
  {
   "cell_type": "markdown",
   "id": "20bcbd32-1565-4b62-95b4-d12435818e4c",
   "metadata": {},
   "source": [
    "Note: We previously tried to run the following code to for pulling the indexes of the df_traffic.Date that fall within a time window of the df_games.Endtime data.   \n",
    "**for i in occurance_list:   \n",
    "    for j in df_traffic.index.values:   \n",
    "        if j == i:   \n",
    "            df_traffic.Game_Ended[i] += 1**\n",
    "\n",
    "However, we got a SettingWithCopyingWarning. To get around this, we used .iat[i] to get access to the data at a specific value that is at a specific index value since we were looping through the index values"
   ]
  },
  {
   "cell_type": "code",
   "execution_count": 20,
   "id": "9afb3b0c-92fd-4a9e-acd4-057bc3b3b8c3",
   "metadata": {},
   "outputs": [],
   "source": [
    "df_traffic.insert(1, \"Week_Day\", 0)\n",
    "df_traffic.insert(2, \"Hour\", 0)\n",
    "df_traffic.insert(3, \"Minute\", 0)\n",
    "df_traffic.insert(5, \"Game_Ended\", 0)"
   ]
  },
  {
   "cell_type": "code",
   "execution_count": 21,
   "id": "a012770f-6c17-4471-a183-2611c8e2a1db",
   "metadata": {},
   "outputs": [
    {
     "name": "stdout",
     "output_type": "stream",
     "text": [
      "[ 0  1  2  3  4  5  6  7  8  9 10 11 12 13 14 15 16 17 18 19 20 21 22 23\n",
      " 24 25 26 27 28 29 30 31 32 33 34 35 36 37 38 39 40 41 42 43 44 45 46 47\n",
      " 48 49 50 51 52 53 54 55 56 57 58 59 60 61 62 63 64 65 66 67 68 69 70 71\n",
      " 72 73 74 75 76 77 78 79 80]\n"
     ]
    }
   ],
   "source": [
    "print(df_games.Endtime.index.values)"
   ]
  },
  {
   "cell_type": "code",
   "execution_count": 22,
   "id": "ccd0fa8f-475b-48c3-af1a-f5f2c673537b",
   "metadata": {},
   "outputs": [],
   "source": [
    "occurance_list = []\n",
    "for i in range(0, 81):\n",
    "    a = df_traffic[(df_traffic.Date >= (df_games.Endtime[i] - pd.Timedelta(minutes = 30))) & \n",
    "                   (df_traffic.Date <= (df_games.Endtime[i] + pd.Timedelta(hours = 1)))].index.values.tolist()\n",
    "    for j in a:\n",
    "        occurance_list.append(j)\n",
    "\n",
    "for i in occurance_list:\n",
    "    for j in df_traffic.index.values:\n",
    "        if j == i:\n",
    "            df_traffic.Game_Ended.iat[i] += 1"
   ]
  },
  {
   "cell_type": "code",
   "execution_count": 23,
   "id": "85d6bb7f-c6b4-4be2-8778-177b87f75c95",
   "metadata": {},
   "outputs": [],
   "source": [
    "for i in df_traffic.index.values:\n",
    "    df_traffic.Week_Day.iat[i] = df_traffic.Date.iat[i].weekday()\n",
    "    df_traffic.Hour.iat[i] = df_traffic.Date.iat[i].hour\n",
    "    df_traffic.Minute.iat[i] = df_traffic.Date.iat[i].minute"
   ]
  },
  {
   "cell_type": "markdown",
   "id": "fc82fe04-316b-4beb-836b-2739ca06431c",
   "metadata": {},
   "source": [
    "Using a Query to check the output previous few cells"
   ]
  },
  {
   "cell_type": "code",
   "execution_count": 24,
   "id": "4a02dbec-f145-42c3-b7c2-a33c9904ad11",
   "metadata": {},
   "outputs": [
    {
     "data": {
      "text/html": [
       "<div>\n",
       "<style scoped>\n",
       "    .dataframe tbody tr th:only-of-type {\n",
       "        vertical-align: middle;\n",
       "    }\n",
       "\n",
       "    .dataframe tbody tr th {\n",
       "        vertical-align: top;\n",
       "    }\n",
       "\n",
       "    .dataframe thead th {\n",
       "        text-align: right;\n",
       "    }\n",
       "</style>\n",
       "<table border=\"1\" class=\"dataframe\">\n",
       "  <thead>\n",
       "    <tr style=\"text-align: right;\">\n",
       "      <th></th>\n",
       "      <th>Date</th>\n",
       "      <th>Week_Day</th>\n",
       "      <th>Hour</th>\n",
       "      <th>Minute</th>\n",
       "      <th>Traffic_flow</th>\n",
       "      <th>Game_Ended</th>\n",
       "    </tr>\n",
       "  </thead>\n",
       "  <tbody>\n",
       "    <tr>\n",
       "      <th>767</th>\n",
       "      <td>2005-04-12 15:55:00</td>\n",
       "      <td>1</td>\n",
       "      <td>15</td>\n",
       "      <td>55</td>\n",
       "      <td>38</td>\n",
       "      <td>1</td>\n",
       "    </tr>\n",
       "    <tr>\n",
       "      <th>768</th>\n",
       "      <td>2005-04-12 16:00:00</td>\n",
       "      <td>1</td>\n",
       "      <td>16</td>\n",
       "      <td>0</td>\n",
       "      <td>57</td>\n",
       "      <td>1</td>\n",
       "    </tr>\n",
       "    <tr>\n",
       "      <th>769</th>\n",
       "      <td>2005-04-12 16:05:00</td>\n",
       "      <td>1</td>\n",
       "      <td>16</td>\n",
       "      <td>5</td>\n",
       "      <td>58</td>\n",
       "      <td>1</td>\n",
       "    </tr>\n",
       "    <tr>\n",
       "      <th>770</th>\n",
       "      <td>2005-04-12 16:10:00</td>\n",
       "      <td>1</td>\n",
       "      <td>16</td>\n",
       "      <td>10</td>\n",
       "      <td>51</td>\n",
       "      <td>1</td>\n",
       "    </tr>\n",
       "    <tr>\n",
       "      <th>771</th>\n",
       "      <td>2005-04-12 16:15:00</td>\n",
       "      <td>1</td>\n",
       "      <td>16</td>\n",
       "      <td>15</td>\n",
       "      <td>55</td>\n",
       "      <td>1</td>\n",
       "    </tr>\n",
       "    <tr>\n",
       "      <th>...</th>\n",
       "      <td>...</td>\n",
       "      <td>...</td>\n",
       "      <td>...</td>\n",
       "      <td>...</td>\n",
       "      <td>...</td>\n",
       "      <td>...</td>\n",
       "    </tr>\n",
       "    <tr>\n",
       "      <th>49812</th>\n",
       "      <td>2005-09-29 23:00:00</td>\n",
       "      <td>3</td>\n",
       "      <td>23</td>\n",
       "      <td>0</td>\n",
       "      <td>32</td>\n",
       "      <td>1</td>\n",
       "    </tr>\n",
       "    <tr>\n",
       "      <th>49813</th>\n",
       "      <td>2005-09-29 23:05:00</td>\n",
       "      <td>3</td>\n",
       "      <td>23</td>\n",
       "      <td>5</td>\n",
       "      <td>33</td>\n",
       "      <td>1</td>\n",
       "    </tr>\n",
       "    <tr>\n",
       "      <th>49814</th>\n",
       "      <td>2005-09-29 23:10:00</td>\n",
       "      <td>3</td>\n",
       "      <td>23</td>\n",
       "      <td>10</td>\n",
       "      <td>20</td>\n",
       "      <td>1</td>\n",
       "    </tr>\n",
       "    <tr>\n",
       "      <th>49815</th>\n",
       "      <td>2005-09-29 23:15:00</td>\n",
       "      <td>3</td>\n",
       "      <td>23</td>\n",
       "      <td>15</td>\n",
       "      <td>20</td>\n",
       "      <td>1</td>\n",
       "    </tr>\n",
       "    <tr>\n",
       "      <th>49816</th>\n",
       "      <td>2005-09-29 23:20:00</td>\n",
       "      <td>3</td>\n",
       "      <td>23</td>\n",
       "      <td>20</td>\n",
       "      <td>17</td>\n",
       "      <td>1</td>\n",
       "    </tr>\n",
       "  </tbody>\n",
       "</table>\n",
       "<p>1468 rows × 6 columns</p>\n",
       "</div>"
      ],
      "text/plain": [
       "                     Date  Week_Day  Hour  Minute  Traffic_flow  Game_Ended\n",
       "767   2005-04-12 15:55:00         1    15      55            38           1\n",
       "768   2005-04-12 16:00:00         1    16       0            57           1\n",
       "769   2005-04-12 16:05:00         1    16       5            58           1\n",
       "770   2005-04-12 16:10:00         1    16      10            51           1\n",
       "771   2005-04-12 16:15:00         1    16      15            55           1\n",
       "...                   ...       ...   ...     ...           ...         ...\n",
       "49812 2005-09-29 23:00:00         3    23       0            32           1\n",
       "49813 2005-09-29 23:05:00         3    23       5            33           1\n",
       "49814 2005-09-29 23:10:00         3    23      10            20           1\n",
       "49815 2005-09-29 23:15:00         3    23      15            20           1\n",
       "49816 2005-09-29 23:20:00         3    23      20            17           1\n",
       "\n",
       "[1468 rows x 6 columns]"
      ]
     },
     "execution_count": 24,
     "metadata": {},
     "output_type": "execute_result"
    }
   ],
   "source": [
    "df_traffic.query(\"Game_Ended == 1\")"
   ]
  },
  {
   "cell_type": "markdown",
   "id": "0caeb3b6-c8be-40dd-8aa2-ce9ef003d0df",
   "metadata": {},
   "source": [
    "**Dropping missing values**"
   ]
  },
  {
   "cell_type": "markdown",
   "id": "d8996342-21a6-4f92-a167-ba379bd49821",
   "metadata": {},
   "source": [
    "The Dodgers.name file mentions that the missing values that are within the Traffic_flow column are indicated with a value of -1.   \n",
    "   \n",
    "By using a query to look up the number of times that the Traffic_flow is equal to -1, there are 2903 instances of -1. This means that there are a total of **2903** of missing values within the df_traffic dataframe, **54** of which occur around the time that a Dodgers game had ended. The total 2903 missing values within the df_traffic dataframe represents roughly **5.76%** of the total data points. The 122 missing data points that occur during a Dodgers games represents just a shade over **3.678%** of the data points that occur around the ending a Dodgers game. "
   ]
  },
  {
   "cell_type": "code",
   "execution_count": 25,
   "id": "3baac635-a038-4405-ab22-39023c6f00da",
   "metadata": {},
   "outputs": [
    {
     "name": "stdout",
     "output_type": "stream",
     "text": [
      "Total number of missing values: 2903\n",
      "Proportion of the total number of missing values: 5.759920634920635%\n"
     ]
    }
   ],
   "source": [
    "print(f\"Total number of missing values: {df_traffic.query('Traffic_flow == -1').Traffic_flow.count()}\")\n",
    "print(f\"Proportion of the total number of missing values: {(df_traffic.query('Traffic_flow == -1').Traffic_flow.count() / df_traffic.Traffic_flow.count()) * 100}%\")"
   ]
  },
  {
   "cell_type": "code",
   "execution_count": 26,
   "id": "ebc2facf-f461-4ff9-91d2-a1980a608e33",
   "metadata": {},
   "outputs": [
    {
     "name": "stdout",
     "output_type": "stream",
     "text": [
      "Total number of missing values that occur during a Dodgers game: 54\n",
      "Proportion of the total of missing values that occur during a Dodgers game: 3.6784741144414173%\n"
     ]
    }
   ],
   "source": [
    "print(f\"Total number of missing values that occur during a Dodgers game: {df_traffic.query('Traffic_flow == -1 and Game_Ended == 1').Traffic_flow.count()}\")\n",
    "print(f\"Proportion of the total of missing values that occur during a Dodgers game: {(df_traffic.query('Traffic_flow == -1 and Game_Ended == 1').Traffic_flow.count() / df_traffic.query('Game_Ended == 1').Traffic_flow.count()) * 100}%\")\n"
   ]
  },
  {
   "cell_type": "markdown",
   "id": "895bcd05-fe5c-43d5-9b3d-4d4c189a9807",
   "metadata": {},
   "source": [
    "   \n",
    "Futhermore, it doesn't appear that we are missing to much data from the games since we are only missing traffic data that only happen after a total of 3 games"
   ]
  },
  {
   "cell_type": "code",
   "execution_count": 27,
   "id": "38228f9e-8fcb-4541-9d1c-23964e10f60f",
   "metadata": {},
   "outputs": [
    {
     "data": {
      "text/plain": [
       "Date\n",
       "2005-06-27    18\n",
       "2005-06-28    18\n",
       "2005-09-10    18\n",
       "Name: Date, dtype: int64"
      ]
     },
     "execution_count": 27,
     "metadata": {},
     "output_type": "execute_result"
    }
   ],
   "source": [
    "df_traffic.query('Traffic_flow == -1 and Game_Ended == 1').Date.dt.date.groupby(\n",
    "    df_traffic.query('Traffic_flow == -1 and Game_Ended == 1').Date.dt.date).count()"
   ]
  },
  {
   "cell_type": "markdown",
   "id": "8e1fdde3-9090-4ca7-8ba6-aaec0c2269e6",
   "metadata": {},
   "source": [
    "Since the missing data represents just a small portion of the data we decided to drop it"
   ]
  },
  {
   "cell_type": "code",
   "execution_count": 28,
   "id": "f80d3994-1617-45e9-ae09-ae9d3f9c863c",
   "metadata": {},
   "outputs": [
    {
     "data": {
      "text/html": [
       "<div>\n",
       "<style scoped>\n",
       "    .dataframe tbody tr th:only-of-type {\n",
       "        vertical-align: middle;\n",
       "    }\n",
       "\n",
       "    .dataframe tbody tr th {\n",
       "        vertical-align: top;\n",
       "    }\n",
       "\n",
       "    .dataframe thead th {\n",
       "        text-align: right;\n",
       "    }\n",
       "</style>\n",
       "<table border=\"1\" class=\"dataframe\">\n",
       "  <thead>\n",
       "    <tr style=\"text-align: right;\">\n",
       "      <th></th>\n",
       "      <th>Date</th>\n",
       "      <th>Week_Day</th>\n",
       "      <th>Hour</th>\n",
       "      <th>Minute</th>\n",
       "      <th>Traffic_flow</th>\n",
       "      <th>Game_Ended</th>\n",
       "    </tr>\n",
       "  </thead>\n",
       "  <tbody>\n",
       "    <tr>\n",
       "      <th>0</th>\n",
       "      <td>2005-04-11 07:35:00</td>\n",
       "      <td>0</td>\n",
       "      <td>7</td>\n",
       "      <td>35</td>\n",
       "      <td>23</td>\n",
       "      <td>0</td>\n",
       "    </tr>\n",
       "    <tr>\n",
       "      <th>1</th>\n",
       "      <td>2005-04-11 07:40:00</td>\n",
       "      <td>0</td>\n",
       "      <td>7</td>\n",
       "      <td>40</td>\n",
       "      <td>42</td>\n",
       "      <td>0</td>\n",
       "    </tr>\n",
       "    <tr>\n",
       "      <th>2</th>\n",
       "      <td>2005-04-11 07:45:00</td>\n",
       "      <td>0</td>\n",
       "      <td>7</td>\n",
       "      <td>45</td>\n",
       "      <td>37</td>\n",
       "      <td>0</td>\n",
       "    </tr>\n",
       "    <tr>\n",
       "      <th>3</th>\n",
       "      <td>2005-04-11 07:50:00</td>\n",
       "      <td>0</td>\n",
       "      <td>7</td>\n",
       "      <td>50</td>\n",
       "      <td>24</td>\n",
       "      <td>0</td>\n",
       "    </tr>\n",
       "    <tr>\n",
       "      <th>4</th>\n",
       "      <td>2005-04-11 07:55:00</td>\n",
       "      <td>0</td>\n",
       "      <td>7</td>\n",
       "      <td>55</td>\n",
       "      <td>39</td>\n",
       "      <td>0</td>\n",
       "    </tr>\n",
       "    <tr>\n",
       "      <th>...</th>\n",
       "      <td>...</td>\n",
       "      <td>...</td>\n",
       "      <td>...</td>\n",
       "      <td>...</td>\n",
       "      <td>...</td>\n",
       "      <td>...</td>\n",
       "    </tr>\n",
       "    <tr>\n",
       "      <th>47492</th>\n",
       "      <td>2005-09-30 23:45:00</td>\n",
       "      <td>4</td>\n",
       "      <td>23</td>\n",
       "      <td>45</td>\n",
       "      <td>14</td>\n",
       "      <td>0</td>\n",
       "    </tr>\n",
       "    <tr>\n",
       "      <th>47493</th>\n",
       "      <td>2005-09-30 23:50:00</td>\n",
       "      <td>4</td>\n",
       "      <td>23</td>\n",
       "      <td>50</td>\n",
       "      <td>12</td>\n",
       "      <td>0</td>\n",
       "    </tr>\n",
       "    <tr>\n",
       "      <th>47494</th>\n",
       "      <td>2005-09-30 23:55:00</td>\n",
       "      <td>4</td>\n",
       "      <td>23</td>\n",
       "      <td>55</td>\n",
       "      <td>8</td>\n",
       "      <td>0</td>\n",
       "    </tr>\n",
       "    <tr>\n",
       "      <th>47495</th>\n",
       "      <td>2005-10-01 00:00:00</td>\n",
       "      <td>5</td>\n",
       "      <td>0</td>\n",
       "      <td>0</td>\n",
       "      <td>13</td>\n",
       "      <td>0</td>\n",
       "    </tr>\n",
       "    <tr>\n",
       "      <th>47496</th>\n",
       "      <td>2005-10-01 00:05:00</td>\n",
       "      <td>5</td>\n",
       "      <td>0</td>\n",
       "      <td>5</td>\n",
       "      <td>13</td>\n",
       "      <td>0</td>\n",
       "    </tr>\n",
       "  </tbody>\n",
       "</table>\n",
       "<p>47497 rows × 6 columns</p>\n",
       "</div>"
      ],
      "text/plain": [
       "                     Date  Week_Day  Hour  Minute  Traffic_flow  Game_Ended\n",
       "0     2005-04-11 07:35:00         0     7      35            23           0\n",
       "1     2005-04-11 07:40:00         0     7      40            42           0\n",
       "2     2005-04-11 07:45:00         0     7      45            37           0\n",
       "3     2005-04-11 07:50:00         0     7      50            24           0\n",
       "4     2005-04-11 07:55:00         0     7      55            39           0\n",
       "...                   ...       ...   ...     ...           ...         ...\n",
       "47492 2005-09-30 23:45:00         4    23      45            14           0\n",
       "47493 2005-09-30 23:50:00         4    23      50            12           0\n",
       "47494 2005-09-30 23:55:00         4    23      55             8           0\n",
       "47495 2005-10-01 00:00:00         5     0       0            13           0\n",
       "47496 2005-10-01 00:05:00         5     0       5            13           0\n",
       "\n",
       "[47497 rows x 6 columns]"
      ]
     },
     "execution_count": 28,
     "metadata": {},
     "output_type": "execute_result"
    }
   ],
   "source": [
    "df_traffic = df_traffic[df_traffic.Traffic_flow != -1]\n",
    "df_traffic.reset_index(drop = True, inplace=True)\n",
    "df_traffic"
   ]
  },
  {
   "cell_type": "markdown",
   "id": "a45b0fb6-f325-4cd5-8c9c-957a67f1e6c5",
   "metadata": {},
   "source": [
    "With pulling out the weekday, hour and minute into their own columns we ended up dropping the Date Column"
   ]
  },
  {
   "cell_type": "code",
   "execution_count": 29,
   "id": "2ea44b75-a209-4156-ac92-8188234d9815",
   "metadata": {},
   "outputs": [
    {
     "name": "stderr",
     "output_type": "stream",
     "text": [
      "/Applications/anaconda3/lib/python3.8/site-packages/pandas/core/frame.py:4308: SettingWithCopyWarning: \n",
      "A value is trying to be set on a copy of a slice from a DataFrame\n",
      "\n",
      "See the caveats in the documentation: https://pandas.pydata.org/pandas-docs/stable/user_guide/indexing.html#returning-a-view-versus-a-copy\n",
      "  return super().drop(\n"
     ]
    }
   ],
   "source": [
    "df_traffic.drop([\"Date\"], axis=1, inplace=True)"
   ]
  },
  {
   "cell_type": "code",
   "execution_count": 30,
   "id": "e8586f65-d4d8-48a7-9db2-0569b37a2f5d",
   "metadata": {},
   "outputs": [
    {
     "data": {
      "text/html": [
       "<div>\n",
       "<style scoped>\n",
       "    .dataframe tbody tr th:only-of-type {\n",
       "        vertical-align: middle;\n",
       "    }\n",
       "\n",
       "    .dataframe tbody tr th {\n",
       "        vertical-align: top;\n",
       "    }\n",
       "\n",
       "    .dataframe thead th {\n",
       "        text-align: right;\n",
       "    }\n",
       "</style>\n",
       "<table border=\"1\" class=\"dataframe\">\n",
       "  <thead>\n",
       "    <tr style=\"text-align: right;\">\n",
       "      <th></th>\n",
       "      <th>Week_Day</th>\n",
       "      <th>Hour</th>\n",
       "      <th>Minute</th>\n",
       "      <th>Traffic_flow</th>\n",
       "      <th>Game_Ended</th>\n",
       "    </tr>\n",
       "  </thead>\n",
       "  <tbody>\n",
       "    <tr>\n",
       "      <th>0</th>\n",
       "      <td>0</td>\n",
       "      <td>7</td>\n",
       "      <td>35</td>\n",
       "      <td>23</td>\n",
       "      <td>0</td>\n",
       "    </tr>\n",
       "    <tr>\n",
       "      <th>1</th>\n",
       "      <td>0</td>\n",
       "      <td>7</td>\n",
       "      <td>40</td>\n",
       "      <td>42</td>\n",
       "      <td>0</td>\n",
       "    </tr>\n",
       "    <tr>\n",
       "      <th>2</th>\n",
       "      <td>0</td>\n",
       "      <td>7</td>\n",
       "      <td>45</td>\n",
       "      <td>37</td>\n",
       "      <td>0</td>\n",
       "    </tr>\n",
       "    <tr>\n",
       "      <th>3</th>\n",
       "      <td>0</td>\n",
       "      <td>7</td>\n",
       "      <td>50</td>\n",
       "      <td>24</td>\n",
       "      <td>0</td>\n",
       "    </tr>\n",
       "    <tr>\n",
       "      <th>4</th>\n",
       "      <td>0</td>\n",
       "      <td>7</td>\n",
       "      <td>55</td>\n",
       "      <td>39</td>\n",
       "      <td>0</td>\n",
       "    </tr>\n",
       "    <tr>\n",
       "      <th>...</th>\n",
       "      <td>...</td>\n",
       "      <td>...</td>\n",
       "      <td>...</td>\n",
       "      <td>...</td>\n",
       "      <td>...</td>\n",
       "    </tr>\n",
       "    <tr>\n",
       "      <th>47492</th>\n",
       "      <td>4</td>\n",
       "      <td>23</td>\n",
       "      <td>45</td>\n",
       "      <td>14</td>\n",
       "      <td>0</td>\n",
       "    </tr>\n",
       "    <tr>\n",
       "      <th>47493</th>\n",
       "      <td>4</td>\n",
       "      <td>23</td>\n",
       "      <td>50</td>\n",
       "      <td>12</td>\n",
       "      <td>0</td>\n",
       "    </tr>\n",
       "    <tr>\n",
       "      <th>47494</th>\n",
       "      <td>4</td>\n",
       "      <td>23</td>\n",
       "      <td>55</td>\n",
       "      <td>8</td>\n",
       "      <td>0</td>\n",
       "    </tr>\n",
       "    <tr>\n",
       "      <th>47495</th>\n",
       "      <td>5</td>\n",
       "      <td>0</td>\n",
       "      <td>0</td>\n",
       "      <td>13</td>\n",
       "      <td>0</td>\n",
       "    </tr>\n",
       "    <tr>\n",
       "      <th>47496</th>\n",
       "      <td>5</td>\n",
       "      <td>0</td>\n",
       "      <td>5</td>\n",
       "      <td>13</td>\n",
       "      <td>0</td>\n",
       "    </tr>\n",
       "  </tbody>\n",
       "</table>\n",
       "<p>47497 rows × 5 columns</p>\n",
       "</div>"
      ],
      "text/plain": [
       "       Week_Day  Hour  Minute  Traffic_flow  Game_Ended\n",
       "0             0     7      35            23           0\n",
       "1             0     7      40            42           0\n",
       "2             0     7      45            37           0\n",
       "3             0     7      50            24           0\n",
       "4             0     7      55            39           0\n",
       "...         ...   ...     ...           ...         ...\n",
       "47492         4    23      45            14           0\n",
       "47493         4    23      50            12           0\n",
       "47494         4    23      55             8           0\n",
       "47495         5     0       0            13           0\n",
       "47496         5     0       5            13           0\n",
       "\n",
       "[47497 rows x 5 columns]"
      ]
     },
     "execution_count": 30,
     "metadata": {},
     "output_type": "execute_result"
    }
   ],
   "source": [
    "df_traffic"
   ]
  },
  {
   "cell_type": "code",
   "execution_count": 31,
   "id": "1c06fe52-46d6-46fc-b6fd-906ee537840d",
   "metadata": {},
   "outputs": [],
   "source": [
    "df_traffic.to_csv(\"New_Dodgers_Traffic.csv\", index=False)"
   ]
  },
  {
   "cell_type": "markdown",
   "id": "f18c1603-c2be-4a76-bc65-91ec0690b856",
   "metadata": {},
   "source": [
    "### Description of Cleaned Traffic Dataset"
   ]
  },
  {
   "cell_type": "markdown",
   "id": "17add605-cb75-4976-b9a4-9852603815c6",
   "metadata": {},
   "source": [
    "**Basic Summary of Dataset**"
   ]
  },
  {
   "cell_type": "code",
   "execution_count": 32,
   "id": "f8da3e88-1802-4b88-81da-d84e72017704",
   "metadata": {},
   "outputs": [
    {
     "data": {
      "text/plain": [
       "(47497, 5)"
      ]
     },
     "execution_count": 32,
     "metadata": {},
     "output_type": "execute_result"
    }
   ],
   "source": [
    "df_traffic.shape"
   ]
  },
  {
   "cell_type": "code",
   "execution_count": 33,
   "id": "3dd15e99-957f-4764-adff-d188e831c667",
   "metadata": {},
   "outputs": [
    {
     "name": "stdout",
     "output_type": "stream",
     "text": [
      "<class 'pandas.core.frame.DataFrame'>\n",
      "RangeIndex: 47497 entries, 0 to 47496\n",
      "Data columns (total 5 columns):\n",
      " #   Column        Non-Null Count  Dtype\n",
      "---  ------        --------------  -----\n",
      " 0   Week_Day      47497 non-null  int64\n",
      " 1   Hour          47497 non-null  int64\n",
      " 2   Minute        47497 non-null  int64\n",
      " 3   Traffic_flow  47497 non-null  int64\n",
      " 4   Game_Ended    47497 non-null  int64\n",
      "dtypes: int64(5)\n",
      "memory usage: 1.8 MB\n"
     ]
    }
   ],
   "source": [
    "df_traffic.info()"
   ]
  },
  {
   "cell_type": "markdown",
   "id": "6123c530-8933-4735-95a4-0f8a48ee8a40",
   "metadata": {},
   "source": [
    "**Unusual Inbalance between datapoints that occur during non-ending game intervals and game ending intervals**"
   ]
  },
  {
   "cell_type": "code",
   "execution_count": 2,
   "id": "ffea92d5-7a41-4bb0-a51f-708cb9a4479e",
   "metadata": {},
   "outputs": [],
   "source": [
    "#Came back in, read in the df_traffic data that was saved under the New_Dodgers_Traffic a few cells back \n",
    "#and corrected the title of the bar chart\n",
    "\n",
    "#df_traffic = pd.read_csv(\"New_Dodgers_Traffic.csv\")"
   ]
  },
  {
   "cell_type": "code",
   "execution_count": 5,
   "id": "174b7c0d-bfe0-4994-83e6-0f296a2a665e",
   "metadata": {},
   "outputs": [
    {
     "data": {
      "text/html": [
       "<div>\n",
       "<style scoped>\n",
       "    .dataframe tbody tr th:only-of-type {\n",
       "        vertical-align: middle;\n",
       "    }\n",
       "\n",
       "    .dataframe tbody tr th {\n",
       "        vertical-align: top;\n",
       "    }\n",
       "\n",
       "    .dataframe thead th {\n",
       "        text-align: right;\n",
       "    }\n",
       "</style>\n",
       "<table border=\"1\" class=\"dataframe\">\n",
       "  <thead>\n",
       "    <tr style=\"text-align: right;\">\n",
       "      <th></th>\n",
       "      <th>Value Count</th>\n",
       "    </tr>\n",
       "  </thead>\n",
       "  <tbody>\n",
       "    <tr>\n",
       "      <th>Otherwise</th>\n",
       "      <td>46083</td>\n",
       "    </tr>\n",
       "    <tr>\n",
       "      <th>Around the End of a Dodgers Game</th>\n",
       "      <td>1414</td>\n",
       "    </tr>\n",
       "  </tbody>\n",
       "</table>\n",
       "</div>"
      ],
      "text/plain": [
       "                                  Value Count\n",
       "Otherwise                               46083\n",
       "Around the End of a Dodgers Game         1414"
      ]
     },
     "execution_count": 5,
     "metadata": {},
     "output_type": "execute_result"
    }
   ],
   "source": [
    "Values = pd.DataFrame({\"Value Count\": df_traffic.Game_Ended.value_counts()})\n",
    "Values.rename(index = {0: \"Otherwise\",\n",
    "                       1: \"Around the End of a Dodgers Game\"}, inplace = True)\n",
    "\n",
    "Values"
   ]
  },
  {
   "cell_type": "code",
   "execution_count": 6,
   "id": "617a0ccc-7997-4922-9013-ddd0a7fd95b5",
   "metadata": {},
   "outputs": [
    {
     "data": {
      "image/png": "[encoded data removed]",
      "text/plain": [
       "<Figure size 576x288 with 1 Axes>"
      ]
     },
     "metadata": {
      "needs_background": "light"
     },
     "output_type": "display_data"
    }
   ],
   "source": [
    "figure = plt.figure(figsize = (8,4))\n",
    "Values[\"Value Count\"].plot(kind=\"barh\")\n",
    "plt.title(\"Number of Entries That Do and Do Not Occur Around the End of Dodgers Games\")\n",
    "plt.xlabel(\"Number of Entires\")\n",
    "plt.savefig('Inbalanced_barchart.png', bbox_inches='tight')"
   ]
  },
  {
   "cell_type": "markdown",
   "id": "60434e55-e65b-4e88-b446-c9d08631615e",
   "metadata": {},
   "source": [
    "### Creating a balanced dataset"
   ]
  },
  {
   "cell_type": "markdown",
   "id": "97223bf8-952c-438a-a694-f52bac4df2e4",
   "metadata": {},
   "source": [
    "Due to this drastic difference in the number of entries that occur when a Dodgers game justed ended and when a Dodgers game had not ended, we resampled the Traffic dataset to include a total of 1414 data points for when a Dodgers game had not ended, in order to balance out the Dataset. "
   ]
  },
  {
   "cell_type": "code",
   "execution_count": 36,
   "id": "c06e8639-5021-4b5e-b0e3-e33d11765ae9",
   "metadata": {},
   "outputs": [],
   "source": [
    "Game_Ended = df_traffic.query(\"Game_Ended == 1\")\n",
    "No_Game_Ending = df_traffic.query(\"Game_Ended == 0\")\n",
    "No_Game_Ending_resampled = resample(No_Game_Ending, n_samples = 1414)\n",
    "balanced_traffic = pd.concat([Game_Ended, No_Game_Ending_resampled], axis = 0)\n",
    "balanced_traffic.reset_index(drop = True, inplace=True)\n",
    "balanced_traffic\n",
    "\n",
    "balanced_traffic.to_csv(\"Balanced_New_Dodgers_Traffic.csv\", index=False)"
   ]
  },
  {
   "cell_type": "code",
   "execution_count": 37,
   "id": "cd12e23b-98f8-45cd-ad5b-a56ada9a3ab1",
   "metadata": {},
   "outputs": [
    {
     "data": {
      "text/html": [
       "<div>\n",
       "<style scoped>\n",
       "    .dataframe tbody tr th:only-of-type {\n",
       "        vertical-align: middle;\n",
       "    }\n",
       "\n",
       "    .dataframe tbody tr th {\n",
       "        vertical-align: top;\n",
       "    }\n",
       "\n",
       "    .dataframe thead th {\n",
       "        text-align: right;\n",
       "    }\n",
       "</style>\n",
       "<table border=\"1\" class=\"dataframe\">\n",
       "  <thead>\n",
       "    <tr style=\"text-align: right;\">\n",
       "      <th></th>\n",
       "      <th>Week_Day</th>\n",
       "      <th>Hour</th>\n",
       "      <th>Minute</th>\n",
       "      <th>Traffic_flow</th>\n",
       "      <th>Game_Ended</th>\n",
       "    </tr>\n",
       "  </thead>\n",
       "  <tbody>\n",
       "    <tr>\n",
       "      <th>0</th>\n",
       "      <td>1</td>\n",
       "      <td>15</td>\n",
       "      <td>55</td>\n",
       "      <td>38</td>\n",
       "      <td>1</td>\n",
       "    </tr>\n",
       "    <tr>\n",
       "      <th>1</th>\n",
       "      <td>1</td>\n",
       "      <td>16</td>\n",
       "      <td>0</td>\n",
       "      <td>57</td>\n",
       "      <td>1</td>\n",
       "    </tr>\n",
       "    <tr>\n",
       "      <th>2</th>\n",
       "      <td>1</td>\n",
       "      <td>16</td>\n",
       "      <td>5</td>\n",
       "      <td>58</td>\n",
       "      <td>1</td>\n",
       "    </tr>\n",
       "    <tr>\n",
       "      <th>3</th>\n",
       "      <td>1</td>\n",
       "      <td>16</td>\n",
       "      <td>10</td>\n",
       "      <td>51</td>\n",
       "      <td>1</td>\n",
       "    </tr>\n",
       "    <tr>\n",
       "      <th>4</th>\n",
       "      <td>1</td>\n",
       "      <td>16</td>\n",
       "      <td>15</td>\n",
       "      <td>55</td>\n",
       "      <td>1</td>\n",
       "    </tr>\n",
       "    <tr>\n",
       "      <th>...</th>\n",
       "      <td>...</td>\n",
       "      <td>...</td>\n",
       "      <td>...</td>\n",
       "      <td>...</td>\n",
       "      <td>...</td>\n",
       "    </tr>\n",
       "    <tr>\n",
       "      <th>2823</th>\n",
       "      <td>4</td>\n",
       "      <td>2</td>\n",
       "      <td>55</td>\n",
       "      <td>2</td>\n",
       "      <td>0</td>\n",
       "    </tr>\n",
       "    <tr>\n",
       "      <th>2824</th>\n",
       "      <td>1</td>\n",
       "      <td>17</td>\n",
       "      <td>55</td>\n",
       "      <td>18</td>\n",
       "      <td>0</td>\n",
       "    </tr>\n",
       "    <tr>\n",
       "      <th>2825</th>\n",
       "      <td>1</td>\n",
       "      <td>16</td>\n",
       "      <td>50</td>\n",
       "      <td>33</td>\n",
       "      <td>0</td>\n",
       "    </tr>\n",
       "    <tr>\n",
       "      <th>2826</th>\n",
       "      <td>2</td>\n",
       "      <td>8</td>\n",
       "      <td>10</td>\n",
       "      <td>44</td>\n",
       "      <td>0</td>\n",
       "    </tr>\n",
       "    <tr>\n",
       "      <th>2827</th>\n",
       "      <td>5</td>\n",
       "      <td>2</td>\n",
       "      <td>35</td>\n",
       "      <td>10</td>\n",
       "      <td>0</td>\n",
       "    </tr>\n",
       "  </tbody>\n",
       "</table>\n",
       "<p>2828 rows × 5 columns</p>\n",
       "</div>"
      ],
      "text/plain": [
       "      Week_Day  Hour  Minute  Traffic_flow  Game_Ended\n",
       "0            1    15      55            38           1\n",
       "1            1    16       0            57           1\n",
       "2            1    16       5            58           1\n",
       "3            1    16      10            51           1\n",
       "4            1    16      15            55           1\n",
       "...        ...   ...     ...           ...         ...\n",
       "2823         4     2      55             2           0\n",
       "2824         1    17      55            18           0\n",
       "2825         1    16      50            33           0\n",
       "2826         2     8      10            44           0\n",
       "2827         5     2      35            10           0\n",
       "\n",
       "[2828 rows x 5 columns]"
      ]
     },
     "execution_count": 37,
     "metadata": {},
     "output_type": "execute_result"
    }
   ],
   "source": [
    "balanced_traffic"
   ]
  },
  {
   "cell_type": "markdown",
   "id": "fa892bad-c977-46b1-aedb-1432c9c2d66c",
   "metadata": {},
   "source": [
    "### Dataset Descriprion of Balanced Dataset"
   ]
  },
  {
   "cell_type": "markdown",
   "id": "f974e974-acb4-44dc-a872-bba202b95ccf",
   "metadata": {},
   "source": [
    "**Basic Summary of Dataset**"
   ]
  },
  {
   "cell_type": "code",
   "execution_count": 38,
   "id": "cbd72381-666e-4622-8e96-ad398347190a",
   "metadata": {},
   "outputs": [
    {
     "data": {
      "text/plain": [
       "(2828, 5)"
      ]
     },
     "execution_count": 38,
     "metadata": {},
     "output_type": "execute_result"
    }
   ],
   "source": [
    "balanced_traffic.shape"
   ]
  },
  {
   "cell_type": "code",
   "execution_count": 39,
   "id": "f89bbad1-c705-4f38-9812-1f995bdd270c",
   "metadata": {},
   "outputs": [
    {
     "name": "stdout",
     "output_type": "stream",
     "text": [
      "<class 'pandas.core.frame.DataFrame'>\n",
      "RangeIndex: 2828 entries, 0 to 2827\n",
      "Data columns (total 5 columns):\n",
      " #   Column        Non-Null Count  Dtype\n",
      "---  ------        --------------  -----\n",
      " 0   Week_Day      2828 non-null   int64\n",
      " 1   Hour          2828 non-null   int64\n",
      " 2   Minute        2828 non-null   int64\n",
      " 3   Traffic_flow  2828 non-null   int64\n",
      " 4   Game_Ended    2828 non-null   int64\n",
      "dtypes: int64(5)\n",
      "memory usage: 110.6 KB\n"
     ]
    }
   ],
   "source": [
    "balanced_traffic.info()"
   ]
  },
  {
   "cell_type": "markdown",
   "id": "6e40893f-8d3f-487a-8c1f-97e58b46a93b",
   "metadata": {},
   "source": [
    "**Interesting Statistics**"
   ]
  },
  {
   "cell_type": "markdown",
   "id": "406ff6c8-fb7e-4b20-a408-3007a4ce1375",
   "metadata": {},
   "source": [
    "Comparing the distributions of the car counts of the balanced dataset, the car count or traffic distribution around the time Dodgers games ends sees a higher frequency of higher car counts compared to non Dodgers game ending intervals"
   ]
  },
  {
   "cell_type": "code",
   "execution_count": 40,
   "id": "20dd0df5-0b84-44ba-a36e-8a391d16b2af",
   "metadata": {},
   "outputs": [
    {
     "data": {
      "image/png": "[encoded data removed]",
      "text/plain": [
       "<Figure size 864x864 with 3 Axes>"
      ]
     },
     "metadata": {
      "needs_background": "light"
     },
     "output_type": "display_data"
    }
   ],
   "source": [
    "figure1, axes = plt.subplots(3,1, figsize=(12,12), sharex=True, sharey= True)\n",
    "sns.histplot(data=balanced_traffic, x=\"Traffic_flow\", binwidth = 2, ax=axes[0]).set(title = \"Overall Traffic Distribution\", \n",
    "                                                                      xlabel = \"Car Count\",\n",
    "                                                                      ylabel = \"Occurance\")\n",
    "\n",
    "sns.histplot(data=balanced_traffic.query(\"Game_Ended == 1\"), x=\"Traffic_flow\", binwidth = 2, ax=axes[1]).set(\n",
    "    title = \"Traffic Distribution After Dodgers Games\", \n",
    "    xlabel = \"Car Count\",\n",
    "    ylabel = \"Occurance\")\n",
    "\n",
    "sns.histplot(data=balanced_traffic.query(\"Game_Ended == 0\"), x=\"Traffic_flow\", binwidth = 2, ax=axes[2]).set(\n",
    "    title = \"Traffic Distribution Otherwise\", \n",
    "    xlabel = \"Car Count\",\n",
    "    ylabel = \"Occurance\")\n",
    "\n",
    "plt.savefig('Traffic_Count_Distributions.png', bbox_inches='tight')"
   ]
  },
  {
   "cell_type": "markdown",
   "id": "26b7ace0-9106-4ef9-b4d2-d67cb6447d73",
   "metadata": {},
   "source": [
    "Wanting to see how Dodgers the ending games affects the total car by time, we created a bar chart containing the number of 5-minute intervals around the ending of a Dodgers and a heatmap heatmap for the total car count by minute (x-axis) and hour (y-axis). In doing so we see that the total car count increases around the time that a Dodgers game ends"
   ]
  },
  {
   "cell_type": "code",
   "execution_count": 41,
   "id": "797aca75-ba71-434e-9a83-3094885f3e6b",
   "metadata": {},
   "outputs": [],
   "source": [
    "#Heat map preperations\n",
    "traffic_table = pd.DataFrame(balanced_traffic.Traffic_flow.groupby([balanced_traffic.Hour,balanced_traffic.Minute]).sum())\n",
    "traffic_table.rename_axis([\"hour\", \"minute\"], inplace=True)\n",
    "traffic_table = traffic_table.reset_index()\n",
    "traffic_table = traffic_table.pivot(\"hour\", \"minute\", \"Traffic_flow\")"
   ]
  },
  {
   "cell_type": "code",
   "execution_count": 42,
   "id": "20a160c5-9c96-442c-8b6f-c3992d5ee1eb",
   "metadata": {},
   "outputs": [],
   "source": [
    "Game_ending_hours = balanced_traffic.query(\"Game_Ended == 1\").Hour.groupby(balanced_traffic.query(\"Game_Ended == 1\").Hour).count()"
   ]
  },
  {
   "cell_type": "code",
   "execution_count": 43,
   "id": "c97ac229-b188-4c5c-834a-e20512c08868",
   "metadata": {},
   "outputs": [
    {
     "data": {
      "image/png": "[encoded data removed]",
      "text/plain": [
       "<Figure size 1944x648 with 3 Axes>"
      ]
     },
     "metadata": {
      "needs_background": "light"
     },
     "output_type": "display_data"
    }
   ],
   "source": [
    "figure2 = plt.figure(figsize=(27,9))\n",
    "\n",
    "ax1 = figure2.add_subplot(121)\n",
    "Game_ending_hours.plot(kind=\"barh\", grid=True)\n",
    "plt.title(\"5-minute Intervals After Dodgers Games by Hour\")\n",
    "plt.ylabel(\"Hour\")\n",
    "plt.xlabel(\"Number of 5-minute Intervals After Dodgers Games\")\n",
    "\n",
    "ax2 = figure2.add_subplot(122)\n",
    "sns.heatmap(traffic_table, cmap='Blues', linewidths=.5, linecolor='black')\n",
    "plt.title(\"Total Car Count by Minute and Hour\")\n",
    "plt.ylabel(\"Hour\")\n",
    "plt.xlabel(\"Minute\")\n",
    "plt.yticks(rotation=0)\n",
    "\n",
    "plt.savefig('Game_Ending_Intervals_and_Total_Traffic_Count.png', bbox_inches='tight')"
   ]
  },
  {
   "cell_type": "markdown",
   "id": "e2fae608-4556-40c4-b33d-e05958e6b14e",
   "metadata": {},
   "source": [
    "### Final Processesing Before Working on Models"
   ]
  },
  {
   "cell_type": "markdown",
   "id": "85cc44a9-c8a7-48ae-846f-4b68a1e9b561",
   "metadata": {},
   "source": [
    "**One Hot Encoding The Categorical Weekday, Hour, and Minute Columns**"
   ]
  },
  {
   "cell_type": "code",
   "execution_count": 44,
   "id": "e0938fdf-36be-4448-8643-30eab84a89b0",
   "metadata": {},
   "outputs": [],
   "source": [
    "from sklearn.preprocessing import OneHotEncoder\n",
    "encoder = OneHotEncoder(handle_unknown='ignore')"
   ]
  },
  {
   "cell_type": "markdown",
   "id": "61602a2d-d1af-4eb2-afa0-a3eb0efcf3e9",
   "metadata": {},
   "source": [
    "In an attempt to come up with a one hot encoding function, we used the One Hot Encoder <a href=\"https://scikit-learn.org/0.24/modules/generated/sklearn.preprocessing.OneHotEncoder.html?highlight=one%20hot%20encoding?\">page</a> on the Scikit Learn documentation website to help with the function.  \n",
    "\n",
    "Note: We were having trouble with how the column headers were being stored (see commented out cell). We initially didn't account for the columns being stored as MultiIndexes, where each column value was a tuple. So we had to use the line `encoded_column_df.columns.get_level_values()` to help get the column headers the way that we wanted them formatted. We used one of the <a href=\"https://pandas.pydata.org/pandas-docs/version/1.2/user_guide/advanced.html?\">pages</a> on the pandas documentation website for some help with the MultiIndex problem"
   ]
  },
  {
   "cell_type": "code",
   "execution_count": 45,
   "id": "3c969d8b-1226-4707-bffc-2c9846907439",
   "metadata": {},
   "outputs": [
    {
     "name": "stdout",
     "output_type": "stream",
     "text": [
      "MultiIndex([(0,),\n",
      "            (1,),\n",
      "            (2,),\n",
      "            (3,),\n",
      "            (4,),\n",
      "            (5,),\n",
      "            (6,)],\n",
      "           )\n"
     ]
    }
   ],
   "source": [
    "#column_data = np.array(balanced_traffic.Week_Day).reshape(-1, 1)\n",
    "#column_data = encoder.fit_transform(column_data).toarray()\n",
    "#encoded_column_df = pd.DataFrame(column_data, columns=encoder.categories_)\n",
    "#print(encoded_column_df.columns)"
   ]
  },
  {
   "cell_type": "code",
   "execution_count": 46,
   "id": "6be018dd-80a3-40df-8d39-f5e53d075f4b",
   "metadata": {},
   "outputs": [],
   "source": [
    "def one_hot_encoding_data(column_name):\n",
    "    column_data = np.array(column_name).reshape(-1, 1)\n",
    "    column_data = encoder.fit_transform(column_data).toarray()\n",
    "    encoded_column_df = pd.DataFrame(column_data, columns=encoder.categories_)\n",
    "    encoded_column_df.columns = encoded_column_df.columns.get_level_values(0)\n",
    "    return encoded_column_df"
   ]
  },
  {
   "cell_type": "markdown",
   "id": "93a60672-c6b1-4d70-b212-86b16abe8616",
   "metadata": {},
   "source": [
    "*Passing the individual balanced_traffic columns through the one_hot_encoding_data and renaming the columns of the resulting dataframe to an appropriate column header*"
   ]
  },
  {
   "cell_type": "code",
   "execution_count": 47,
   "id": "d5e8f79d-37b6-4337-93fb-9ff94adfeca1",
   "metadata": {},
   "outputs": [],
   "source": [
    "weekday_encoded = one_hot_encoding_data(balanced_traffic.Week_Day)\n",
    "weekday_encoded.rename(columns={0:\"Monday\", 1:\"Tuesday\", 2:\"Wednesday\", 3:\"Thursday\", 4:\"Friday\", 5:\"Saturday\", 6:\"Sunday\"}, inplace=True)\n",
    "\n",
    "hour_encoded = one_hot_encoding_data(balanced_traffic.Hour)\n",
    "hour_encoded.rename(columns={0: \"12am\", 1: \"1am\", 2: \"2am\", 3: \"3am\", 4: \"4am\", 5: \"5am\", \n",
    "                              6: \"6am\", 7: \"7am\", 8: \"8am\", 9: \"9am\", 10:  \"10am\", 11: \"11am\", \n",
    "                              12: \"12pm\", 13: \"1pm\", 14: \"2pm\", 15: \"3pm\", 16: \"4pm\", 17: \"5pm\", \n",
    "                              18: \"6pm\", 19: \"7pm\", 20: \"8pm\", 21: \"9pm\", 22: \"10pm\", 23: \"11pm\"}, inplace=True)\n",
    "                       \n",
    "minutes_encoded = one_hot_encoding_data(balanced_traffic.Minute)\n",
    "minutes_encoded.rename(columns={0: \"Minute 0\", 5: \"Minute 5\",\n",
    "                                10: \"Minute 10\", 15: \"Minute 15\", \n",
    "                                20: \"Minute 20\", 25: \"Minute 25\", \n",
    "                                30: \"Minute 30\", 35: \"Minute 35\",\n",
    "                                40: \"Minute 40\", 45: \"Minute 45\",\n",
    "                                50: \"Minute 50\", 55: \"Minute 55\"}, inplace=True)"
   ]
  },
  {
   "cell_type": "markdown",
   "id": "849470d6-b8f1-4d1f-993f-c49534b81a80",
   "metadata": {},
   "source": [
    "*Dropping the Date, Week_Day, Hour, and Minute columns from the balanced traffic dataframe, so that we can concatenate the weekday_encoded, hour_encoded, and minutes_encoded dataframes with what remains in the balanced_traffic dataframe*\n"
   ]
  },
  {
   "cell_type": "code",
   "execution_count": 48,
   "id": "4dd2e62f-1428-4e87-a544-3226f1dd8a5a",
   "metadata": {},
   "outputs": [],
   "source": [
    "balanced_traffic.drop([\"Week_Day\", \"Hour\", \"Minute\"], axis=1, inplace=True)\n",
    "encoded_balanced_traffic = pd.concat([weekday_encoded, hour_encoded, minutes_encoded, balanced_traffic], axis=1)"
   ]
  },
  {
   "cell_type": "code",
   "execution_count": 49,
   "id": "28cc3d85-7242-46a6-8ea1-93b430954f68",
   "metadata": {},
   "outputs": [
    {
     "data": {
      "text/html": [
       "<div>\n",
       "<style scoped>\n",
       "    .dataframe tbody tr th:only-of-type {\n",
       "        vertical-align: middle;\n",
       "    }\n",
       "\n",
       "    .dataframe tbody tr th {\n",
       "        vertical-align: top;\n",
       "    }\n",
       "\n",
       "    .dataframe thead th {\n",
       "        text-align: right;\n",
       "    }\n",
       "</style>\n",
       "<table border=\"1\" class=\"dataframe\">\n",
       "  <thead>\n",
       "    <tr style=\"text-align: right;\">\n",
       "      <th></th>\n",
       "      <th>Monday</th>\n",
       "      <th>Tuesday</th>\n",
       "      <th>Wednesday</th>\n",
       "      <th>Thursday</th>\n",
       "      <th>Friday</th>\n",
       "      <th>Saturday</th>\n",
       "      <th>Sunday</th>\n",
       "      <th>12am</th>\n",
       "      <th>1am</th>\n",
       "      <th>2am</th>\n",
       "      <th>...</th>\n",
       "      <th>Minute 20</th>\n",
       "      <th>Minute 25</th>\n",
       "      <th>Minute 30</th>\n",
       "      <th>Minute 35</th>\n",
       "      <th>Minute 40</th>\n",
       "      <th>Minute 45</th>\n",
       "      <th>Minute 50</th>\n",
       "      <th>Minute 55</th>\n",
       "      <th>Traffic_flow</th>\n",
       "      <th>Game_Ended</th>\n",
       "    </tr>\n",
       "  </thead>\n",
       "  <tbody>\n",
       "    <tr>\n",
       "      <th>0</th>\n",
       "      <td>0.0</td>\n",
       "      <td>1.0</td>\n",
       "      <td>0.0</td>\n",
       "      <td>0.0</td>\n",
       "      <td>0.0</td>\n",
       "      <td>0.0</td>\n",
       "      <td>0.0</td>\n",
       "      <td>0.0</td>\n",
       "      <td>0.0</td>\n",
       "      <td>0.0</td>\n",
       "      <td>...</td>\n",
       "      <td>0.0</td>\n",
       "      <td>0.0</td>\n",
       "      <td>0.0</td>\n",
       "      <td>0.0</td>\n",
       "      <td>0.0</td>\n",
       "      <td>0.0</td>\n",
       "      <td>0.0</td>\n",
       "      <td>1.0</td>\n",
       "      <td>38</td>\n",
       "      <td>1</td>\n",
       "    </tr>\n",
       "    <tr>\n",
       "      <th>1</th>\n",
       "      <td>0.0</td>\n",
       "      <td>1.0</td>\n",
       "      <td>0.0</td>\n",
       "      <td>0.0</td>\n",
       "      <td>0.0</td>\n",
       "      <td>0.0</td>\n",
       "      <td>0.0</td>\n",
       "      <td>0.0</td>\n",
       "      <td>0.0</td>\n",
       "      <td>0.0</td>\n",
       "      <td>...</td>\n",
       "      <td>0.0</td>\n",
       "      <td>0.0</td>\n",
       "      <td>0.0</td>\n",
       "      <td>0.0</td>\n",
       "      <td>0.0</td>\n",
       "      <td>0.0</td>\n",
       "      <td>0.0</td>\n",
       "      <td>0.0</td>\n",
       "      <td>57</td>\n",
       "      <td>1</td>\n",
       "    </tr>\n",
       "    <tr>\n",
       "      <th>2</th>\n",
       "      <td>0.0</td>\n",
       "      <td>1.0</td>\n",
       "      <td>0.0</td>\n",
       "      <td>0.0</td>\n",
       "      <td>0.0</td>\n",
       "      <td>0.0</td>\n",
       "      <td>0.0</td>\n",
       "      <td>0.0</td>\n",
       "      <td>0.0</td>\n",
       "      <td>0.0</td>\n",
       "      <td>...</td>\n",
       "      <td>0.0</td>\n",
       "      <td>0.0</td>\n",
       "      <td>0.0</td>\n",
       "      <td>0.0</td>\n",
       "      <td>0.0</td>\n",
       "      <td>0.0</td>\n",
       "      <td>0.0</td>\n",
       "      <td>0.0</td>\n",
       "      <td>58</td>\n",
       "      <td>1</td>\n",
       "    </tr>\n",
       "    <tr>\n",
       "      <th>3</th>\n",
       "      <td>0.0</td>\n",
       "      <td>1.0</td>\n",
       "      <td>0.0</td>\n",
       "      <td>0.0</td>\n",
       "      <td>0.0</td>\n",
       "      <td>0.0</td>\n",
       "      <td>0.0</td>\n",
       "      <td>0.0</td>\n",
       "      <td>0.0</td>\n",
       "      <td>0.0</td>\n",
       "      <td>...</td>\n",
       "      <td>0.0</td>\n",
       "      <td>0.0</td>\n",
       "      <td>0.0</td>\n",
       "      <td>0.0</td>\n",
       "      <td>0.0</td>\n",
       "      <td>0.0</td>\n",
       "      <td>0.0</td>\n",
       "      <td>0.0</td>\n",
       "      <td>51</td>\n",
       "      <td>1</td>\n",
       "    </tr>\n",
       "    <tr>\n",
       "      <th>4</th>\n",
       "      <td>0.0</td>\n",
       "      <td>1.0</td>\n",
       "      <td>0.0</td>\n",
       "      <td>0.0</td>\n",
       "      <td>0.0</td>\n",
       "      <td>0.0</td>\n",
       "      <td>0.0</td>\n",
       "      <td>0.0</td>\n",
       "      <td>0.0</td>\n",
       "      <td>0.0</td>\n",
       "      <td>...</td>\n",
       "      <td>0.0</td>\n",
       "      <td>0.0</td>\n",
       "      <td>0.0</td>\n",
       "      <td>0.0</td>\n",
       "      <td>0.0</td>\n",
       "      <td>0.0</td>\n",
       "      <td>0.0</td>\n",
       "      <td>0.0</td>\n",
       "      <td>55</td>\n",
       "      <td>1</td>\n",
       "    </tr>\n",
       "    <tr>\n",
       "      <th>...</th>\n",
       "      <td>...</td>\n",
       "      <td>...</td>\n",
       "      <td>...</td>\n",
       "      <td>...</td>\n",
       "      <td>...</td>\n",
       "      <td>...</td>\n",
       "      <td>...</td>\n",
       "      <td>...</td>\n",
       "      <td>...</td>\n",
       "      <td>...</td>\n",
       "      <td>...</td>\n",
       "      <td>...</td>\n",
       "      <td>...</td>\n",
       "      <td>...</td>\n",
       "      <td>...</td>\n",
       "      <td>...</td>\n",
       "      <td>...</td>\n",
       "      <td>...</td>\n",
       "      <td>...</td>\n",
       "      <td>...</td>\n",
       "      <td>...</td>\n",
       "    </tr>\n",
       "    <tr>\n",
       "      <th>2823</th>\n",
       "      <td>0.0</td>\n",
       "      <td>0.0</td>\n",
       "      <td>0.0</td>\n",
       "      <td>0.0</td>\n",
       "      <td>1.0</td>\n",
       "      <td>0.0</td>\n",
       "      <td>0.0</td>\n",
       "      <td>0.0</td>\n",
       "      <td>0.0</td>\n",
       "      <td>1.0</td>\n",
       "      <td>...</td>\n",
       "      <td>0.0</td>\n",
       "      <td>0.0</td>\n",
       "      <td>0.0</td>\n",
       "      <td>0.0</td>\n",
       "      <td>0.0</td>\n",
       "      <td>0.0</td>\n",
       "      <td>0.0</td>\n",
       "      <td>1.0</td>\n",
       "      <td>2</td>\n",
       "      <td>0</td>\n",
       "    </tr>\n",
       "    <tr>\n",
       "      <th>2824</th>\n",
       "      <td>0.0</td>\n",
       "      <td>1.0</td>\n",
       "      <td>0.0</td>\n",
       "      <td>0.0</td>\n",
       "      <td>0.0</td>\n",
       "      <td>0.0</td>\n",
       "      <td>0.0</td>\n",
       "      <td>0.0</td>\n",
       "      <td>0.0</td>\n",
       "      <td>0.0</td>\n",
       "      <td>...</td>\n",
       "      <td>0.0</td>\n",
       "      <td>0.0</td>\n",
       "      <td>0.0</td>\n",
       "      <td>0.0</td>\n",
       "      <td>0.0</td>\n",
       "      <td>0.0</td>\n",
       "      <td>0.0</td>\n",
       "      <td>1.0</td>\n",
       "      <td>18</td>\n",
       "      <td>0</td>\n",
       "    </tr>\n",
       "    <tr>\n",
       "      <th>2825</th>\n",
       "      <td>0.0</td>\n",
       "      <td>1.0</td>\n",
       "      <td>0.0</td>\n",
       "      <td>0.0</td>\n",
       "      <td>0.0</td>\n",
       "      <td>0.0</td>\n",
       "      <td>0.0</td>\n",
       "      <td>0.0</td>\n",
       "      <td>0.0</td>\n",
       "      <td>0.0</td>\n",
       "      <td>...</td>\n",
       "      <td>0.0</td>\n",
       "      <td>0.0</td>\n",
       "      <td>0.0</td>\n",
       "      <td>0.0</td>\n",
       "      <td>0.0</td>\n",
       "      <td>0.0</td>\n",
       "      <td>1.0</td>\n",
       "      <td>0.0</td>\n",
       "      <td>33</td>\n",
       "      <td>0</td>\n",
       "    </tr>\n",
       "    <tr>\n",
       "      <th>2826</th>\n",
       "      <td>0.0</td>\n",
       "      <td>0.0</td>\n",
       "      <td>1.0</td>\n",
       "      <td>0.0</td>\n",
       "      <td>0.0</td>\n",
       "      <td>0.0</td>\n",
       "      <td>0.0</td>\n",
       "      <td>0.0</td>\n",
       "      <td>0.0</td>\n",
       "      <td>0.0</td>\n",
       "      <td>...</td>\n",
       "      <td>0.0</td>\n",
       "      <td>0.0</td>\n",
       "      <td>0.0</td>\n",
       "      <td>0.0</td>\n",
       "      <td>0.0</td>\n",
       "      <td>0.0</td>\n",
       "      <td>0.0</td>\n",
       "      <td>0.0</td>\n",
       "      <td>44</td>\n",
       "      <td>0</td>\n",
       "    </tr>\n",
       "    <tr>\n",
       "      <th>2827</th>\n",
       "      <td>0.0</td>\n",
       "      <td>0.0</td>\n",
       "      <td>0.0</td>\n",
       "      <td>0.0</td>\n",
       "      <td>0.0</td>\n",
       "      <td>1.0</td>\n",
       "      <td>0.0</td>\n",
       "      <td>0.0</td>\n",
       "      <td>0.0</td>\n",
       "      <td>1.0</td>\n",
       "      <td>...</td>\n",
       "      <td>0.0</td>\n",
       "      <td>0.0</td>\n",
       "      <td>0.0</td>\n",
       "      <td>1.0</td>\n",
       "      <td>0.0</td>\n",
       "      <td>0.0</td>\n",
       "      <td>0.0</td>\n",
       "      <td>0.0</td>\n",
       "      <td>10</td>\n",
       "      <td>0</td>\n",
       "    </tr>\n",
       "  </tbody>\n",
       "</table>\n",
       "<p>2828 rows × 45 columns</p>\n",
       "</div>"
      ],
      "text/plain": [
       "      Monday  Tuesday  Wednesday  Thursday  Friday  Saturday  Sunday  12am  \\\n",
       "0        0.0      1.0        0.0       0.0     0.0       0.0     0.0   0.0   \n",
       "1        0.0      1.0        0.0       0.0     0.0       0.0     0.0   0.0   \n",
       "2        0.0      1.0        0.0       0.0     0.0       0.0     0.0   0.0   \n",
       "3        0.0      1.0        0.0       0.0     0.0       0.0     0.0   0.0   \n",
       "4        0.0      1.0        0.0       0.0     0.0       0.0     0.0   0.0   \n",
       "...      ...      ...        ...       ...     ...       ...     ...   ...   \n",
       "2823     0.0      0.0        0.0       0.0     1.0       0.0     0.0   0.0   \n",
       "2824     0.0      1.0        0.0       0.0     0.0       0.0     0.0   0.0   \n",
       "2825     0.0      1.0        0.0       0.0     0.0       0.0     0.0   0.0   \n",
       "2826     0.0      0.0        1.0       0.0     0.0       0.0     0.0   0.0   \n",
       "2827     0.0      0.0        0.0       0.0     0.0       1.0     0.0   0.0   \n",
       "\n",
       "      1am  2am  ...  Minute 20  Minute 25  Minute 30  Minute 35  Minute 40  \\\n",
       "0     0.0  0.0  ...        0.0        0.0        0.0        0.0        0.0   \n",
       "1     0.0  0.0  ...        0.0        0.0        0.0        0.0        0.0   \n",
       "2     0.0  0.0  ...        0.0        0.0        0.0        0.0        0.0   \n",
       "3     0.0  0.0  ...        0.0        0.0        0.0        0.0        0.0   \n",
       "4     0.0  0.0  ...        0.0        0.0        0.0        0.0        0.0   \n",
       "...   ...  ...  ...        ...        ...        ...        ...        ...   \n",
       "2823  0.0  1.0  ...        0.0        0.0        0.0        0.0        0.0   \n",
       "2824  0.0  0.0  ...        0.0        0.0        0.0        0.0        0.0   \n",
       "2825  0.0  0.0  ...        0.0        0.0        0.0        0.0        0.0   \n",
       "2826  0.0  0.0  ...        0.0        0.0        0.0        0.0        0.0   \n",
       "2827  0.0  1.0  ...        0.0        0.0        0.0        1.0        0.0   \n",
       "\n",
       "      Minute 45  Minute 50  Minute 55  Traffic_flow  Game_Ended  \n",
       "0           0.0        0.0        1.0            38           1  \n",
       "1           0.0        0.0        0.0            57           1  \n",
       "2           0.0        0.0        0.0            58           1  \n",
       "3           0.0        0.0        0.0            51           1  \n",
       "4           0.0        0.0        0.0            55           1  \n",
       "...         ...        ...        ...           ...         ...  \n",
       "2823        0.0        0.0        1.0             2           0  \n",
       "2824        0.0        0.0        1.0            18           0  \n",
       "2825        0.0        1.0        0.0            33           0  \n",
       "2826        0.0        0.0        0.0            44           0  \n",
       "2827        0.0        0.0        0.0            10           0  \n",
       "\n",
       "[2828 rows x 45 columns]"
      ]
     },
     "execution_count": 49,
     "metadata": {},
     "output_type": "execute_result"
    }
   ],
   "source": [
    "encoded_balanced_traffic"
   ]
  },
  {
   "cell_type": "code",
   "execution_count": 50,
   "id": "e91397ce-0be9-43e6-a630-0958a55569ff",
   "metadata": {},
   "outputs": [],
   "source": [
    "encoded_balanced_traffic.to_csv(\"encoded_balanced_traffic.csv\", index = False)"
   ]
  },
  {
   "cell_type": "markdown",
   "id": "8e2fea7f-113e-4e6c-9893-228ce7b65022",
   "metadata": {},
   "source": [
    "### Models"
   ]
  },
  {
   "cell_type": "code",
   "execution_count": 51,
   "id": "54bb930a-a2b9-4c1e-9c43-b6ad9826d58b",
   "metadata": {},
   "outputs": [],
   "source": [
    "from sklearn.model_selection import train_test_split \n",
    "from sklearn.metrics import confusion_matrix, classification_report\n",
    "\n",
    "from sklearn.linear_model import LogisticRegression\n",
    "from sklearn.ensemble import RandomForestClassifier"
   ]
  },
  {
   "cell_type": "code",
   "execution_count": 52,
   "id": "b174deb8-1c1b-400b-b237-c60d2b15f8c1",
   "metadata": {},
   "outputs": [],
   "source": [
    "def Confusion_matrix_graph(y_testing_data, y_prediction_data, filename):\n",
    "    matrix = confusion_matrix(y_true = y_testing_data, y_pred = y_prediction_data)\n",
    "    figure = plt.figure(figsize=(8,8))\n",
    "    heatmap = sns.heatmap(matrix, annot=True, fmt = \".2f\", cmap = \"RdYlGn\")\n",
    "    plt.ylabel(\"Correct Value\")\n",
    "    plt.xlabel(\"Predicted Value\")\n",
    "    plt.title(\"Confusion Matrix\")\n",
    "    plt.savefig(filename)"
   ]
  },
  {
   "cell_type": "code",
   "execution_count": 53,
   "id": "f35eba9a-5605-4052-ba83-897517efdd3d",
   "metadata": {},
   "outputs": [],
   "source": [
    "y = encoded_balanced_traffic.Game_Ended"
   ]
  },
  {
   "cell_type": "code",
   "execution_count": 54,
   "id": "82ac7939-d6f5-468d-9304-5de7bdac1dde",
   "metadata": {},
   "outputs": [
    {
     "data": {
      "text/plain": [
       "array([[ 0.,  1.,  0., ...,  0.,  1., 38.],\n",
       "       [ 0.,  1.,  0., ...,  0.,  0., 57.],\n",
       "       [ 0.,  1.,  0., ...,  0.,  0., 58.],\n",
       "       ...,\n",
       "       [ 0.,  1.,  0., ...,  1.,  0., 33.],\n",
       "       [ 0.,  0.,  1., ...,  0.,  0., 44.],\n",
       "       [ 0.,  0.,  0., ...,  0.,  0., 10.]])"
      ]
     },
     "execution_count": 54,
     "metadata": {},
     "output_type": "execute_result"
    }
   ],
   "source": [
    "X = np.array(encoded_balanced_traffic.iloc[:, :44])\n",
    "X"
   ]
  },
  {
   "cell_type": "markdown",
   "id": "6869766c-1cee-400b-ae52-d0c6b9b29c00",
   "metadata": {},
   "source": [
    "**Logistic Regression**"
   ]
  },
  {
   "cell_type": "markdown",
   "id": "a715e348-f442-40ee-8a30-7d450bc9e0ce",
   "metadata": {},
   "source": [
    "*Experiment Parameter 1*"
   ]
  },
  {
   "cell_type": "code",
   "execution_count": 55,
   "id": "e99114f0-6cbb-4d63-90b1-a8ad6a5255b2",
   "metadata": {},
   "outputs": [
    {
     "data": {
      "image/png": "[encoded data removed]",
      "text/plain": [
       "<Figure size 576x576 with 2 Axes>"
      ]
     },
     "metadata": {
      "needs_background": "light"
     },
     "output_type": "display_data"
    }
   ],
   "source": [
    "X_train, X_test, y_train, y_test = train_test_split(X, y, \n",
    "                                                    train_size=.80,\n",
    "                                                    test_size=.20, \n",
    "                                                    random_state=25)\n",
    "\n",
    "model = LogisticRegression(max_iter = 500)\n",
    "model.fit(X_train, y_train)\n",
    "y_pred = model.predict(X_test)\n",
    "Confusion_matrix_graph(y_test, y_pred, \"logistic_reg_confusion_matrix1.png\")"
   ]
  },
  {
   "cell_type": "code",
   "execution_count": 56,
   "id": "8fe7cb86-2c9a-4a0e-9a9d-d385c2af1750",
   "metadata": {},
   "outputs": [
    {
     "name": "stdout",
     "output_type": "stream",
     "text": [
      "              precision    recall  f1-score   support\n",
      "\n",
      "           0       0.94      0.86      0.90       286\n",
      "           1       0.87      0.95      0.91       280\n",
      "\n",
      "    accuracy                           0.90       566\n",
      "   macro avg       0.91      0.90      0.90       566\n",
      "weighted avg       0.91      0.90      0.90       566\n",
      "\n"
     ]
    }
   ],
   "source": [
    "print(classification_report(y_test, y_pred))"
   ]
  },
  {
   "cell_type": "markdown",
   "id": "f1c77d76-3034-4cf4-87ca-ad8b7766ff2d",
   "metadata": {},
   "source": [
    "*Experiment Parameter 2*"
   ]
  },
  {
   "cell_type": "code",
   "execution_count": 57,
   "id": "12837929-39a5-4e54-8b64-7502ae60d010",
   "metadata": {},
   "outputs": [
    {
     "data": {
      "image/png": "[encoded data removed]",
      "text/plain": [
       "<Figure size 576x576 with 2 Axes>"
      ]
     },
     "metadata": {
      "needs_background": "light"
     },
     "output_type": "display_data"
    }
   ],
   "source": [
    "X_train, X_test, y_train, y_test = train_test_split(X, y, \n",
    "                                                    train_size=.70,\n",
    "                                                    test_size=.30, \n",
    "                                                    random_state=25)\n",
    "\n",
    "model = LogisticRegression(max_iter = 500)\n",
    "model.fit(X_train, y_train)\n",
    "y_pred = model.predict(X_test)\n",
    "Confusion_matrix_graph(y_test, y_pred, \"logistic_reg_confusion_matrix2.png\")"
   ]
  },
  {
   "cell_type": "code",
   "execution_count": 58,
   "id": "deb7b74f-a42e-4336-87de-dbabb330beb0",
   "metadata": {},
   "outputs": [
    {
     "name": "stdout",
     "output_type": "stream",
     "text": [
      "              precision    recall  f1-score   support\n",
      "\n",
      "           0       0.92      0.87      0.89       432\n",
      "           1       0.87      0.93      0.90       417\n",
      "\n",
      "    accuracy                           0.90       849\n",
      "   macro avg       0.90      0.90      0.90       849\n",
      "weighted avg       0.90      0.90      0.90       849\n",
      "\n"
     ]
    }
   ],
   "source": [
    "print(classification_report(y_test, y_pred))"
   ]
  },
  {
   "cell_type": "markdown",
   "id": "cafc5e20-699f-44e3-b43f-29da30316e38",
   "metadata": {},
   "source": [
    "*Experiment Parameter 3*"
   ]
  },
  {
   "cell_type": "code",
   "execution_count": 59,
   "id": "3e9e25e0-cf1f-4415-aeb1-64a5fb00d0a9",
   "metadata": {},
   "outputs": [
    {
     "data": {
      "image/png": "[encoded data removed]",
      "text/plain": [
       "<Figure size 576x576 with 2 Axes>"
      ]
     },
     "metadata": {
      "needs_background": "light"
     },
     "output_type": "display_data"
    }
   ],
   "source": [
    "X_train, X_test, y_train, y_test = train_test_split(X, y, \n",
    "                                                    train_size=.75,\n",
    "                                                    test_size=.25, \n",
    "                                                    random_state=25)\n",
    "\n",
    "model = LogisticRegression(max_iter = 499)\n",
    "model.fit(X_train, y_train)\n",
    "y_pred = model.predict(X_test)\n",
    "Confusion_matrix_graph(y_test, y_pred, \"logistic_reg_confusion_matrix3.png\")"
   ]
  },
  {
   "cell_type": "code",
   "execution_count": 60,
   "id": "1c9f7bd3-1003-4891-b658-160611a5b13a",
   "metadata": {},
   "outputs": [
    {
     "name": "stdout",
     "output_type": "stream",
     "text": [
      "              precision    recall  f1-score   support\n",
      "\n",
      "           0       0.94      0.87      0.90       362\n",
      "           1       0.88      0.94      0.91       345\n",
      "\n",
      "    accuracy                           0.91       707\n",
      "   macro avg       0.91      0.91      0.91       707\n",
      "weighted avg       0.91      0.91      0.91       707\n",
      "\n"
     ]
    }
   ],
   "source": [
    "print(classification_report(y_test, y_pred))"
   ]
  },
  {
   "cell_type": "markdown",
   "id": "720bbed0-62f1-4fef-8193-0d006290fe43",
   "metadata": {},
   "source": [
    "**Random Forest**"
   ]
  },
  {
   "cell_type": "markdown",
   "id": "cb481a30-363f-4e44-88be-fa5464056f4e",
   "metadata": {},
   "source": [
    "*Experiment Parameter 1*"
   ]
  },
  {
   "cell_type": "code",
   "execution_count": 61,
   "id": "942f5d62-8e6d-4435-ab27-d0760a5c02b8",
   "metadata": {},
   "outputs": [
    {
     "data": {
      "image/png": "[encoded data removed]",
      "text/plain": [
       "<Figure size 576x576 with 2 Axes>"
      ]
     },
     "metadata": {
      "needs_background": "light"
     },
     "output_type": "display_data"
    }
   ],
   "source": [
    "X_train, X_test, y_train, y_test = train_test_split(X, y, \n",
    "                                                    train_size=.80,\n",
    "                                                    test_size=.20, \n",
    "                                                    random_state=25)\n",
    "model = RandomForestClassifier(n_estimators = 100,\n",
    "                               criterion = \"entropy\", \n",
    "                               bootstrap = False)\n",
    "\n",
    "model.fit(X_train, y_train)\n",
    "y_pred = model.predict(X_test)\n",
    "Confusion_matrix_graph(y_test, y_pred, \"Random_Forest_confusion_matrix1.png\")"
   ]
  },
  {
   "cell_type": "code",
   "execution_count": 62,
   "id": "69660da4-0944-46dc-a6c2-edc5baeaab05",
   "metadata": {},
   "outputs": [
    {
     "name": "stdout",
     "output_type": "stream",
     "text": [
      "              precision    recall  f1-score   support\n",
      "\n",
      "           0       0.92      0.90      0.91       286\n",
      "           1       0.90      0.93      0.91       280\n",
      "\n",
      "    accuracy                           0.91       566\n",
      "   macro avg       0.91      0.91      0.91       566\n",
      "weighted avg       0.91      0.91      0.91       566\n",
      "\n"
     ]
    }
   ],
   "source": [
    "print(classification_report(y_test, y_pred))"
   ]
  },
  {
   "cell_type": "markdown",
   "id": "b23145d4-4cb7-4e69-a50e-da3c6b213c55",
   "metadata": {},
   "source": [
    "*Experiment Parameter 2*"
   ]
  },
  {
   "cell_type": "code",
   "execution_count": 63,
   "id": "77921552-d8c9-4bc2-9a36-a79c1462660d",
   "metadata": {},
   "outputs": [
    {
     "data": {
      "image/png": "[encoded data removed]",
      "text/plain": [
       "<Figure size 576x576 with 2 Axes>"
      ]
     },
     "metadata": {
      "needs_background": "light"
     },
     "output_type": "display_data"
    }
   ],
   "source": [
    "X_train, X_test, y_train, y_test = train_test_split(X, y, \n",
    "                                                    train_size=.8,\n",
    "                                                    test_size=.2, \n",
    "                                                    random_state=25)\n",
    "\n",
    "model = RandomForestClassifier(n_estimators = 750,\n",
    "                               criterion = \"entropy\", \n",
    "                               bootstrap = False)\n",
    "\n",
    "model.fit(X_train, y_train)\n",
    "y_pred = model.predict(X_test)\n",
    "Confusion_matrix_graph(y_test, y_pred, \"Random_Forest_confusion_matrix2.png\")"
   ]
  },
  {
   "cell_type": "code",
   "execution_count": 64,
   "id": "633cd1b9-a4d4-4645-aa39-8b7339bb77a8",
   "metadata": {},
   "outputs": [
    {
     "name": "stdout",
     "output_type": "stream",
     "text": [
      "              precision    recall  f1-score   support\n",
      "\n",
      "           0       0.93      0.89      0.91       286\n",
      "           1       0.89      0.93      0.91       280\n",
      "\n",
      "    accuracy                           0.91       566\n",
      "   macro avg       0.91      0.91      0.91       566\n",
      "weighted avg       0.91      0.91      0.91       566\n",
      "\n"
     ]
    }
   ],
   "source": [
    "print(classification_report(y_test, y_pred))"
   ]
  },
  {
   "cell_type": "markdown",
   "id": "b29b28b4-d103-4c40-a995-fe31a9a44a20",
   "metadata": {},
   "source": [
    "*Experiment Parameter 3*"
   ]
  },
  {
   "cell_type": "code",
   "execution_count": 65,
   "id": "cc3e10d8-9a05-4f5b-8b9a-d98d543769b2",
   "metadata": {},
   "outputs": [
    {
     "data": {
      "image/png": "[encoded data removed]",
      "text/plain": [
       "<Figure size 576x576 with 2 Axes>"
      ]
     },
     "metadata": {
      "needs_background": "light"
     },
     "output_type": "display_data"
    }
   ],
   "source": [
    "X_train, X_test, y_train, y_test = train_test_split(X, y, \n",
    "                                                    train_size=.70,\n",
    "                                                    test_size=.30, \n",
    "                                                    random_state=25)\n",
    "\n",
    "model = RandomForestClassifier(n_estimators = 100,\n",
    "                               criterion = \"entropy\",\n",
    "                               bootstrap = False)\n",
    "model.fit(X_train, y_train)\n",
    "y_pred = model.predict(X_test)\n",
    "Confusion_matrix_graph(y_test, y_pred, \"Random_Forest_confusion_matrix3.png\")"
   ]
  },
  {
   "cell_type": "code",
   "execution_count": 66,
   "id": "6cd67075-eee5-45f4-a5dd-a4fd3b413646",
   "metadata": {},
   "outputs": [
    {
     "name": "stdout",
     "output_type": "stream",
     "text": [
      "              precision    recall  f1-score   support\n",
      "\n",
      "           0       0.90      0.90      0.90       432\n",
      "           1       0.89      0.90      0.90       417\n",
      "\n",
      "    accuracy                           0.90       849\n",
      "   macro avg       0.90      0.90      0.90       849\n",
      "weighted avg       0.90      0.90      0.90       849\n",
      "\n"
     ]
    }
   ],
   "source": [
    "print(classification_report(y_test, y_pred))"
   ]
  },
  {
   "cell_type": "markdown",
   "id": "c64cd385-24bb-4769-acb7-5fb20c5ab9ef",
   "metadata": {},
   "source": [
    "*Experiment Parameter 4*"
   ]
  },
  {
   "cell_type": "code",
   "execution_count": 67,
   "id": "caeb18fb-aea7-4c03-862d-0f0462723314",
   "metadata": {},
   "outputs": [
    {
     "data": {
      "image/png": "[encoded data removed]",
      "text/plain": [
       "<Figure size 576x576 with 2 Axes>"
      ]
     },
     "metadata": {
      "needs_background": "light"
     },
     "output_type": "display_data"
    }
   ],
   "source": [
    "X_train, X_test, y_train, y_test = train_test_split(X, y, \n",
    "                                                    train_size=.70,\n",
    "                                                    test_size=.30, \n",
    "                                                    random_state=25)\n",
    "\n",
    "model = RandomForestClassifier(n_estimators = 750,\n",
    "                               criterion = \"entropy\",\n",
    "                               bootstrap = False)\n",
    "model.fit(X_train, y_train)\n",
    "y_pred = model.predict(X_test)\n",
    "Confusion_matrix_graph(y_test, y_pred, \"Random_Forest_confusion_matrix4.png\")"
   ]
  },
  {
   "cell_type": "code",
   "execution_count": 68,
   "id": "d4890e0a-b297-4fe7-9cf0-5956a48d6dbf",
   "metadata": {},
   "outputs": [
    {
     "name": "stdout",
     "output_type": "stream",
     "text": [
      "              precision    recall  f1-score   support\n",
      "\n",
      "           0       0.90      0.89      0.89       432\n",
      "           1       0.89      0.89      0.89       417\n",
      "\n",
      "    accuracy                           0.89       849\n",
      "   macro avg       0.89      0.89      0.89       849\n",
      "weighted avg       0.89      0.89      0.89       849\n",
      "\n"
     ]
    }
   ],
   "source": [
    "print(classification_report(y_test, y_pred))"
   ]
  }
 ],
 "metadata": {
  "kernelspec": {
   "display_name": "Python 3",
   "language": "python",
   "name": "python3"
  },
  "language_info": {
   "codemirror_mode": {
    "name": "ipython",
    "version": 3
   },
   "file_extension": ".py",
   "mimetype": "text/x-python",
   "name": "python",
   "nbconvert_exporter": "python",
   "pygments_lexer": "ipython3",
   "version": "3.8.8"
  }
 },
 "nbformat": 4,
 "nbformat_minor": 5
}
